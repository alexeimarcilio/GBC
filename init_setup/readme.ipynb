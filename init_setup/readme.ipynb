{
 "cells": [
  {
   "cell_type": "markdown",
   "metadata": {},
   "source": [
    "# Jupyter Notebook in a virtual environment (virtualenv)"
   ]
  },
  {
   "cell_type": "markdown",
   "metadata": {},
   "source": [
    "### Make sure you have virtualenv installed"
   ]
  },
  {
   "cell_type": "raw",
   "metadata": {},
   "source": [
    "pip install virtualenv"
   ]
  },
  {
   "cell_type": "markdown",
   "metadata": {},
   "source": [
    "### Create a virtual environment\n",
    "\n",
    "Note: I like to use a . in front of my virtual environments so the folder is hidden."
   ]
  },
  {
   "cell_type": "raw",
   "metadata": {},
   "source": [
    "virtualenv .venv"
   ]
  },
  {
   "cell_type": "markdown",
   "metadata": {},
   "source": [
    "### Get inside the environment"
   ]
  },
  {
   "cell_type": "raw",
   "metadata": {},
   "source": [
    "source .venv/bin/activate"
   ]
  },
  {
   "cell_type": "markdown",
   "metadata": {},
   "source": [
    "or in shorthand"
   ]
  },
  {
   "cell_type": "raw",
   "metadata": {},
   "source": [
    ". .venv/bin/activate"
   ]
  },
  {
   "cell_type": "markdown",
   "metadata": {},
   "source": [
    "You can verify quickly you are in the environment by running which python which will return the path of the python executable in the environment if all went well"
   ]
  },
  {
   "cell_type": "raw",
   "metadata": {},
   "source": [
    "which python\n",
    "\n",
    "xxxxx/.venv/bin/python"
   ]
  },
  {
   "cell_type": "markdown",
   "metadata": {},
   "source": [
    "### Install a Jupyter kernel\n",
    "\n",
    "This will install a kernel inside the environment, to use to run in the Jupyter notebook there:"
   ]
  },
  {
   "cell_type": "raw",
   "metadata": {},
   "source": [
    "ipython kernel install --user --name=.venv"
   ]
  },
  {
   "cell_type": "markdown",
   "metadata": {},
   "source": [
    "### Run Jupyter, and select the .venv kernel to run the notebook"
   ]
  },
  {
   "cell_type": "raw",
   "metadata": {},
   "source": [
    "jupyter notebook"
   ]
  },
  {
   "cell_type": "markdown",
   "metadata": {},
   "source": [
    "<img src=\"img/pic1.png\" alt=\"drawing\" width=\"300\" align=\"left\"/>"
   ]
  },
  {
   "cell_type": "code",
   "execution_count": null,
   "metadata": {},
   "outputs": [],
   "source": []
  }
 ],
 "metadata": {
  "kernelspec": {
   "display_name": "gbc",
   "language": "python",
   "name": "gbc"
  },
  "language_info": {
   "codemirror_mode": {
    "name": "ipython",
    "version": 3
   },
   "file_extension": ".py",
   "mimetype": "text/x-python",
   "name": "python",
   "nbconvert_exporter": "python",
   "pygments_lexer": "ipython3",
   "version": "3.8.0"
  },
  "toc": {
   "base_numbering": 1,
   "nav_menu": {},
   "number_sections": false,
   "sideBar": true,
   "skip_h1_title": false,
   "title_cell": "Table of Contents",
   "title_sidebar": "Contents",
   "toc_cell": false,
   "toc_position": {
    "height": "calc(100% - 180px)",
    "left": "10px",
    "top": "150px",
    "width": "443.011px"
   },
   "toc_section_display": true,
   "toc_window_display": false
  }
 },
 "nbformat": 4,
 "nbformat_minor": 4
}
