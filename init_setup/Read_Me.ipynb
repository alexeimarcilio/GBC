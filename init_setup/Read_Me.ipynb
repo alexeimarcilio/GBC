{
 "cells": [
  {
   "cell_type": "raw",
   "metadata": {},
   "source": [
    "\\setcounter{secnumdepth}{0}\n",
    "\n",
    "\\title{Setting Up a Virtual Environment for Jupyter Notebook}\n",
    "\\author{Alexei Marcilio}\n",
    "\\date{\\today}\n",
    "\\maketitle\n",
    "\\thispagestyle{empty}\n",
    "\\newpage\n",
    "\\pagenumbering{arabic}\n"
   ]
  },
  {
   "cell_type": "markdown",
   "metadata": {},
   "source": [
    "# Jupyter Notebook in a virtual environment (virtualenv)"
   ]
  },
  {
   "cell_type": "raw",
   "metadata": {},
   "source": [
    "\\tableofcontents\n",
    "\\newpage"
   ]
  },
  {
   "cell_type": "markdown",
   "metadata": {},
   "source": [
    "### Make sure you have virtualenv installed"
   ]
  },
  {
   "cell_type": "raw",
   "metadata": {},
   "source": [
    "pip install virtualenv"
   ]
  },
  {
   "cell_type": "markdown",
   "metadata": {},
   "source": [
    "### Create a virtual environment\n",
    "\n",
    "Note: I like to use a . in front of my virtual environments so the folder is hidden."
   ]
  },
  {
   "cell_type": "raw",
   "metadata": {},
   "source": [
    "virtualenv .venv"
   ]
  },
  {
   "cell_type": "markdown",
   "metadata": {},
   "source": [
    "### Get inside the environment"
   ]
  },
  {
   "cell_type": "raw",
   "metadata": {},
   "source": [
    "source .venv/bin/activate"
   ]
  },
  {
   "cell_type": "markdown",
   "metadata": {},
   "source": [
    "or in shorthand"
   ]
  },
  {
   "cell_type": "raw",
   "metadata": {},
   "source": [
    ". .venv/bin/activate"
   ]
  },
  {
   "cell_type": "markdown",
   "metadata": {},
   "source": [
    "You can verify quickly you are in the environment by running which python which will return the path of the python executable in the environment if all went well"
   ]
  },
  {
   "cell_type": "raw",
   "metadata": {},
   "source": [
    "which python\n",
    "\n",
    "xxxxx/.venv/bin/python"
   ]
  },
  {
   "cell_type": "markdown",
   "metadata": {},
   "source": [
    "### Install a Jupyter kernel\n",
    "\n",
    "This will install a kernel inside the environment, to use to run in the Jupyter notebook there:"
   ]
  },
  {
   "cell_type": "raw",
   "metadata": {},
   "source": [
    "ipython kernel install --user --name=.venv"
   ]
  },
  {
   "cell_type": "markdown",
   "metadata": {},
   "source": [
    "### Run Jupyter, and select the .venv kernel to run the notebook"
   ]
  },
  {
   "cell_type": "raw",
   "metadata": {},
   "source": [
    "jupyter notebook"
   ]
  },
  {
   "cell_type": "markdown",
   "metadata": {},
   "source": [
    "<img src=\"pic1.png\" alt=\"drawing\" width=\"300\" align=\"left\"/>"
   ]
  },
  {
   "cell_type": "raw",
   "metadata": {},
   "source": [
    "\\begin{verbatim}\n",
    "\\begin{figure}[h]\n",
    "\\centering\n",
    "\\includegraphics[width=0.5\\textwidth]{img/pic1.png}\n",
    "\\caption{Here is my image}\n",
    "\\label{image-myimage}\n",
    "\\end{figure}\n",
    "\\end{verbatim}"
   ]
  },
  {
   "cell_type": "markdown",
   "metadata": {},
   "source": [
    "# Exporting to PDF Using $\\LaTeX$"
   ]
  },
  {
   "cell_type": "markdown",
   "metadata": {},
   "source": [
    "## Setup of Document\n",
    "\n",
    "You will need some text in the preamble of the document in order to render it properly in PDF. \n",
    "\n",
    "Put the following text as a raw cell at the beginning of the document:"
   ]
  },
  {
   "cell_type": "raw",
   "metadata": {},
   "source": [
    "\\begin{verbatim}\n",
    "\\setcounter{secnumdepth}{0}\n",
    "\\title{Setting Up a Virtual Environment for Jupyter Notebook}\n",
    "\\author{Alexei Marcilio}\n",
    "\\date{\\today}\n",
    "\\maketitle\n",
    "\\thispagestyle{empty}\n",
    "\\newpage\n",
    "\\pagenumbering{arabic}\n",
    "\\end{verbatim}"
   ]
  },
  {
   "cell_type": "markdown",
   "metadata": {},
   "source": [
    "Use this document as a reference. The code above sets the title, Author, and date on a title page. \n",
    "\n",
    "It removes the numbering from the title page and it creates a table of contents. \n",
    "\n",
    "In addition the numbering for the section headers is removed."
   ]
  },
  {
   "cell_type": "markdown",
   "metadata": {},
   "source": [
    "## Inserting Images\n",
    "\n",
    "Use the following code to insert pictures into the document.\n",
    "It's important to use the complete path in the name of the png file."
   ]
  },
  {
   "cell_type": "raw",
   "metadata": {},
   "source": [
    "\\begin{verbatim}\n",
    "\\begin{figure}[h]\n",
    "\\centering\n",
    "\\includegraphics[width=0.5\\textwidth]{/Users/alexeimarcilio/gbc/init_setup/pic1.png}\n",
    "\\caption{Here is my image}\n",
    "\\label{image-myimage}\n",
    "\\end{figure}\n",
    "\\end{verbatim}"
   ]
  },
  {
   "cell_type": "markdown",
   "metadata": {},
   "source": [
    "## Saving the file"
   ]
  },
  {
   "cell_type": "markdown",
   "metadata": {},
   "source": [
    "From the jupyter notebook menu select:\n",
    "\n",
    "* File ... Download as\n",
    "* $\\LaTeX$ (.tex)\n",
    "\n",
    "This will open up the $\\LaTeX$ editor. In the editor:\n",
    "\n",
    "* Remove the maketitle command (this creates another title page)\n",
    "* Select Typset from Typset in the main menu to create a PDF file.\n",
    "* You will have to run Typset twice if you have a table of contents"
   ]
  },
  {
   "cell_type": "markdown",
   "metadata": {},
   "source": [
    "## Creating PDF File without Code Cells"
   ]
  },
  {
   "cell_type": "markdown",
   "metadata": {},
   "source": [
    "You may want to print a PDF file without code cells for readability.\n",
    "\n",
    "Here's how:\n",
    "\n",
    "1. Create a file named hidecode.tplx in the directory of your notebook with the following content:\n",
    "\n",
    "`((*- extends 'article.tplx' -*))\n",
    "((* block input_group *))\n",
    "    ((*- if cell.metadata.get('nbconvert', {}).get('show_code', False) -*))\n",
    "        ((( super() )))\n",
    "    ((*- endif -*))\n",
    "((* endblock input_group *))`\n",
    "\n",
    "2. Export your jupyter notebook to pdf using the template:\n",
    "\n",
    "`$ jupyter nbconvert --to pdf --template hidecode Notebook.ipynb`\n"
   ]
  },
  {
   "cell_type": "markdown",
   "metadata": {},
   "source": [
    "# GitHub"
   ]
  },
  {
   "cell_type": "markdown",
   "metadata": {},
   "source": [
    "## Clone of GitHub Repository Locally"
   ]
  },
  {
   "cell_type": "markdown",
   "metadata": {},
   "source": [
    "We have a repository on GitHub called Emeritus. Let's add it locally to a new computer:\n",
    "\n",
    "* Log into GitHub\n",
    "* Navigate to the repository and select the __Code__ button\n",
    "* Copy the contents of the HTTP box\n",
    "* Open a local terminal window\n",
    "* Change the current working directory to the location where you want the cloned directory\n",
    "* Type ```git clone```, then paste the URL you copied earlier:\n",
    "\n",
    "    ```git clone https://github.com/alexeimarcilio/Emeritus.git```\n"
   ]
  },
  {
   "cell_type": "markdown",
   "metadata": {},
   "source": [
    "<img src=\"gitclone.png\" alt=\"drawing\" width=\"500\" align=\"left\"/>"
   ]
  },
  {
   "cell_type": "markdown",
   "metadata": {},
   "source": [
    "* Now you are good to go"
   ]
  },
  {
   "cell_type": "markdown",
   "metadata": {},
   "source": [
    "## Create a New GitHub & Local Repository"
   ]
  },
  {
   "cell_type": "markdown",
   "metadata": {},
   "source": [
    "Use GitHub to back up all your work:\n",
    "\n",
    "* Log into your GitHub account\n",
    "* Create a new GitHub repository and make sure to include a README file\n",
    "* Create the local repository as described above"
   ]
  },
  {
   "cell_type": "markdown",
   "metadata": {},
   "source": [
    "## Using Git"
   ]
  },
  {
   "cell_type": "markdown",
   "metadata": {},
   "source": [
    "If your in the directory of the git repository there are a few basic commands that will allow you to back up everything to GitHUb remotely."
   ]
  },
  {
   "cell_type": "markdown",
   "metadata": {},
   "source": [
    "The commands are ```git status```,```git commit```,```git add```, and ```git push```"
   ]
  },
  {
   "cell_type": "markdown",
   "metadata": {},
   "source": [
    "You can check the current status at any time by using the ```git status``` command. You can add any files to git by using the ```git add``` command. This is usually done by adding all files, for example:"
   ]
  },
  {
   "cell_type": "markdown",
   "metadata": {},
   "source": [
    "```git add .```"
   ]
  },
  {
   "cell_type": "markdown",
   "metadata": {},
   "source": [
    "To commit the changes type commit and include a comment in the following way:"
   ]
  },
  {
   "cell_type": "markdown",
   "metadata": {},
   "source": [
    "```git commit -m \"comment\"```"
   ]
  },
  {
   "cell_type": "markdown",
   "metadata": {},
   "source": [
    "Finally to push the changes up to your GitHub repository do the following:"
   ]
  },
  {
   "cell_type": "markdown",
   "metadata": {},
   "source": [
    "```git push```"
   ]
  }
 ],
 "metadata": {
  "author": "Setting Up a Virtual Environment for Jupyter Notebook",
  "ipub": {
   "titlepage": {
    "author": "Authors Name",
    "email": "authors@email.com",
    "institution": [
     "Institution1",
     "Institution2"
    ],
    "subtitle": "Sub-Title",
    "supervisors": [
     "First Supervisor",
     "Second Supervisor"
    ],
    "tagline": "A tagline for the report.",
    "title": "Main-Title"
   }
  },
  "kernelspec": {
   "display_name": "gbc",
   "language": "python",
   "name": "gbc"
  },
  "language_info": {
   "codemirror_mode": {
    "name": "ipython",
    "version": 3
   },
   "file_extension": ".py",
   "mimetype": "text/x-python",
   "name": "python",
   "nbconvert_exporter": "python",
   "pygments_lexer": "ipython3",
   "version": "3.8.0"
  },
  "latex_envs": {
   "LaTeX_envs_menu_present": true,
   "autoclose": false,
   "autocomplete": true,
   "bibliofile": "biblio.bib",
   "cite_by": "apalike",
   "current_citInitial": 1,
   "eqLabelWithNumbers": true,
   "eqNumInitial": 1,
   "hotkeys": {
    "equation": "Ctrl-E",
    "itemize": "Ctrl-I"
   },
   "labels_anchors": false,
   "latex_user_defs": false,
   "report_style_numbering": false,
   "user_envs_cfg": false
  },
  "toc": {
   "base_numbering": 1,
   "nav_menu": {},
   "number_sections": false,
   "sideBar": true,
   "skip_h1_title": false,
   "title_cell": "Table of Contents",
   "title_sidebar": "Contents",
   "toc_cell": false,
   "toc_position": {
    "height": "calc(100% - 180px)",
    "left": "10px",
    "top": "150px",
    "width": "443.011px"
   },
   "toc_section_display": true,
   "toc_window_display": false
  }
 },
 "nbformat": 4,
 "nbformat_minor": 4
}
