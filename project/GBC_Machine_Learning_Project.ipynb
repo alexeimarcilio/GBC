{
 "cells": [
  {
   "cell_type": "markdown",
   "metadata": {
    "toc": true
   },
   "source": [
    "<h1>Table of Contents<span class=\"tocSkip\"></span></h1>\n",
    "<div class=\"toc\"><ul class=\"toc-item\"><li><span><a href=\"#Introduction\" data-toc-modified-id=\"Introduction-1\">Introduction</a></span></li><li><span><a href=\"#Business-Problem\" data-toc-modified-id=\"Business-Problem-2\">Business Problem</a></span></li><li><span><a href=\"#Data\" data-toc-modified-id=\"Data-3\">Data</a></span></li><li><span><a href=\"#Feature-Engineering\" data-toc-modified-id=\"Feature-Engineering-4\">Feature Engineering</a></span></li><li><span><a href=\"#Data-Exploration\" data-toc-modified-id=\"Data-Exploration-5\">Data Exploration</a></span><ul class=\"toc-item\"><li><span><a href=\"#Opportunities\" data-toc-modified-id=\"Opportunities-5.1\">Opportunities</a></span></li></ul></li><li><span><a href=\"#Appendix-A\" data-toc-modified-id=\"Appendix-A-6\">Appendix A</a></span><ul class=\"toc-item\"><li><span><a href=\"#Import-Libraries-and-Load-Data\" data-toc-modified-id=\"Import-Libraries-and-Load-Data-6.1\">Import Libraries and Load Data</a></span></li><li><span><a href=\"#Data-Cleaning\" data-toc-modified-id=\"Data-Cleaning-6.2\">Data Cleaning</a></span></li></ul></li><li><span><a href=\"#Months-Passed\" data-toc-modified-id=\"Months-Passed-7\">Months Passed</a></span></li></ul></div>"
   ]
  },
  {
   "cell_type": "markdown",
   "metadata": {},
   "source": [
    "# Day & Ross Freight: Sales Opportunity Win Prediction, an Analysis of Salesforce Data"
   ]
  },
  {
   "cell_type": "markdown",
   "metadata": {},
   "source": [
    "\\begin{itemize}\n",
    "\\item One\n",
    "\\item Two\n",
    "\\end{itemize}\n"
   ]
  },
  {
   "cell_type": "markdown",
   "metadata": {},
   "source": [
    "${\\displaystyle y_{i}=\\beta _{0}+\\beta _{1}x_{i1}+\\cdots +\\beta _{p}x_{ip}+\\varepsilon _{i}=\\mathbf {x} _{i}^{\\mathsf {T}}{\\boldsymbol {\\beta }}+\\varepsilon _{i},\\qquad i=1,\\ldots ,n,}{\\displaystyle y_{i}=\\beta _{0}+\\beta _{1}x_{i1}+\\cdots +\\beta _{p}x_{ip}+\\varepsilon _{i}=\\mathbf {x} _{i}^{\\mathsf {T}}{\\boldsymbol {\\beta }}+\\varepsilon _{i},\\qquad i=1,\\ldots ,n,}$"
   ]
  },
  {
   "cell_type": "code",
   "execution_count": 41,
   "metadata": {},
   "outputs": [],
   "source": [
    "import numpy as np\n",
    "import pandas as pd\n",
    "from numpy import mean\n",
    "import seaborn as sns"
   ]
  },
  {
   "cell_type": "markdown",
   "metadata": {},
   "source": [
    "## Introduction"
   ]
  },
  {
   "cell_type": "markdown",
   "metadata": {},
   "source": [
    "Headquartered in Hartland, New Brunswick, Day & Ross Freight Inc. is a Canadian transportation and\n",
    "logistics company that was founded more than 65 years ago. It has grown from a few trucks hauling goods\n",
    "in eastern Canada into one of the nation’s largest national transportation providers. It is a wholly owned\n",
    "subsidiary of McCain Foods Limited (Day & Ross Transportation Group, 2017).\n",
    "\n",
    "Companies that apply data driven decision making perform better than those in which decision makers\n",
    "rely on subjective models based on experience (Provost and Fawcett, 2013). Day & Ross Inc. have used\n",
    "Salesforce.com’s Sales Cloud for several years, and through it, sales representatives and executives at the\n",
    "company can access various reports and dashboards summarizing data on the sales pipeline (Finelli, 2018). A\n",
    "move up the Analytics Maturity Model (TDWI, 2016) through the application of machine learning techniques\n",
    "could allow Day & Ross Inc. to better leverage their Salesforce.com data.\n",
    "\n",
    "This report presents the results of the the machine learning models that were applied to predict whether an\n",
    "opportunity would be won or lost and the factors that have influence. Two models were built using logistic\n",
    "regression and random forest. In addition the data was explored, visualized, cleaned and appropriate features\n",
    "were selected."
   ]
  },
  {
   "cell_type": "markdown",
   "metadata": {},
   "source": [
    "## Business Problem"
   ]
  },
  {
   "cell_type": "markdown",
   "metadata": {},
   "source": [
    "A sales pipeline is a method of selling based on the fundamental principles of the sales process. \n",
    "It describes the sequence of steps that a sales person takes from first contact with a potential \n",
    "customer, to qualifying that prospect as a lead, to the validation of that lead into an opportunity, \n",
    "and moving through further stages until it is closed. Day & Ross monitors this sales \n",
    "pipeline using Salesforce.com, the world's largest CRM software vendor (Columbus, 2016). \n",
    "Figure 1 shows a Kanban Chart displayed in a typical Salesforce.com's Sales Cloud application \n",
    "showing the current pipeline of opportunities and their values.\n",
    "\n",
    "The use of machine learning technology in business is predicted to double by the end of 2018 \n",
    "(Deloitte, 2017). The major CRM players are all betting that machine learning and artificial \n",
    "intelligence will be the next major industry disruptor, and have already implemented machine \n",
    "learning software in their CRM systems, including\n",
    "Oracle's Adaptive Intelligence, Microsoft's Cortana Intelligence Suite, and Salesforce's \n",
    "Enstein AI (Evans, 2018).\n",
    "\n",
    "Day & Ross, much like any company, would like to increase the number of opportunities that they win. \n",
    "There are many demands on a sales representative's time and by scoring opportunities with the \n",
    "probability of success a rep can concentrate on those deals that are more likely to succeed \n",
    "and waste less time on those with very little chance of success. In addition, by knowing \n",
    "which factors are most correlated with winning an opportunity a business can focus on \n",
    "those activities that are most likely to move the needle."
   ]
  },
  {
   "cell_type": "markdown",
   "metadata": {},
   "source": [
    "\\begin{figure}\n",
    "\\centering\n",
    "\\includegraphics[width=1]{pic/kanban.png}\n",
    "\\caption{Kanban chart of open opportunities in Salesforce.com’s Sales Cloud.}\n",
    "\\label{image-myimage}\n",
    "\\end{figure}\n"
   ]
  },
  {
   "cell_type": "markdown",
   "metadata": {},
   "source": [
    "## Data"
   ]
  },
  {
   "cell_type": "markdown",
   "metadata": {},
   "source": [
    "Salesforce.com data is contained in standard and custom objects, which can be thought of in database terms\n",
    "as tables. All records for the objects relevant to this project were exported and provided to the author using\n",
    "Salesforce.com’s Apex Data Loader (for events and tasks), or by means of a custom report.\n",
    "\n",
    "Table 1 Shows the Salesforce.com objects used in this study. Opportunity is the main object of interest\n",
    "and contains fields such as the stage, the reason, the expected revenue and the start and close date of the\n",
    "opportunity. The other tables are related to the opportunity table through lookup fields (this is akin to the\n",
    "referential integrity of a database).\n",
    "\n",
    "The user table, related through the User Id, shows details about the owner of the opportunity, and the\n",
    "account table, related through the Account Id, shows details about the associated account. The event and\n",
    "task tables are used interchangeably and display details about the activities a sales representative has with a\n",
    "client, for example, if they call or email them. These activity tables are related to the opportunity through\n",
    "the WhatId field. The contact table shows information about the people who work at the business that’s\n",
    "related to the opportunity."
   ]
  },
  {
   "cell_type": "raw",
   "metadata": {},
   "source": [
    "\n",
    "\\begin{table}\n",
    "\\centering\n",
    "\\scalebox{0.8}{\n",
    "\\begin{tabular}{p{.8in}rp{3.5in}}\n",
    "  \\hline\n",
    "Salesforce Object & No. of Records & Description \\\\ \n",
    "  \\hline\n",
    "Opportunity & 16913.00 & All opportunities, their names, potential revenue, stage, start date and closed date, type, and reason \\\\ \n",
    "  Account & 53985.00 & The account associated with the opportunity - each opportunity references only one account \\\\ \n",
    "  Contact & 53161.00 & The contact from the client's company referenced by the opportunity \\\\ \n",
    "  User & 180.00 & The Day \\& Ross employee who owns the opportunity - each opportunity is owned by only one user \\\\ \n",
    "  Event & 64275.00 & The activities related to an opportunity, or the associated account, for example a call or email \\\\ \n",
    "  Task & 770532.00 & Tasks are used interchangebly with Events so the tables were combined \\\\ \n",
    "   \\hline\n",
    "\\end{tabular}\n",
    "}\n",
    "\\end{table}"
   ]
  },
  {
   "cell_type": "markdown",
   "metadata": {},
   "source": [
    "| Tables   |      Are      |  Cool |\n",
    "|----------|:-------------:|------:|\n",
    "| col 1 is |  left-aligned | \\$1,600 |\n",
    "| col 2 is |    centered   |   \\$12 |\n",
    "| col 3 is | right-aligned |   \\$1 |"
   ]
  },
  {
   "cell_type": "markdown",
   "metadata": {},
   "source": [
    "|Salesforce Object| No. of Records|Description|\n",
    "|:-: |-|:---|\n",
    "|Opportunity |16,913 | All opportunities, their names, potential revenue, stage, start date and closed date, type, and reason.|\n",
    "|Account |53,985 |The account associated with the opportunity - each opportunity references only one account.|\n",
    "|Contact |53,161 | The contact from the client’s company referenced by the opportunity.|\n",
    "|User    |180| The Day & Ross employee who owns the opportunity - each opportunity is owned by only one user.|\n",
    "|Event   |64,275| The activities related to an opportunity, or the associated account, for example a call or email.|\n",
    "|Task     |770,532| Tasks are used interchangeably with events so the tables were combined.|"
   ]
  },
  {
   "cell_type": "code",
   "execution_count": 3,
   "metadata": {},
   "outputs": [],
   "source": [
    "opportunities = pd.read_csv(\"data/AM - Opportunities.csv\", \\\n",
    "                            encoding=\"latin-1\")"
   ]
  },
  {
   "cell_type": "markdown",
   "metadata": {},
   "source": [
    "## Feature Engineering"
   ]
  },
  {
   "cell_type": "code",
   "execution_count": 26,
   "metadata": {},
   "outputs": [],
   "source": [
    "accounts = pd.read_csv(\"data/AM - Accounts.csv\",\\\n",
    "                      encoding=\"latin-1\")"
   ]
  },
  {
   "cell_type": "code",
   "execution_count": 29,
   "metadata": {},
   "outputs": [],
   "source": [
    "contacts = pd.read_csv(\"data/AM - Contacts.csv\",\\\n",
    "               encoding=\"latin-1\")"
   ]
  },
  {
   "cell_type": "code",
   "execution_count": 31,
   "metadata": {},
   "outputs": [
    {
     "data": {
      "text/html": [
       "<div>\n",
       "<style scoped>\n",
       "    .dataframe tbody tr th:only-of-type {\n",
       "        vertical-align: middle;\n",
       "    }\n",
       "\n",
       "    .dataframe tbody tr th {\n",
       "        vertical-align: top;\n",
       "    }\n",
       "\n",
       "    .dataframe thead th {\n",
       "        text-align: right;\n",
       "    }\n",
       "</style>\n",
       "<table border=\"1\" class=\"dataframe\">\n",
       "  <thead>\n",
       "    <tr style=\"text-align: right;\">\n",
       "      <th></th>\n",
       "      <th>Account ID</th>\n",
       "      <th>Account Name</th>\n",
       "      <th>Contact ID</th>\n",
       "      <th>First Name</th>\n",
       "      <th>Last Name</th>\n",
       "      <th>No Longer Available</th>\n",
       "      <th>Mailing Street</th>\n",
       "      <th>Mailing City</th>\n",
       "      <th>Mailing State/Province</th>\n",
       "      <th>Mailing Country</th>\n",
       "      <th>Mailing Zip/Postal Code</th>\n",
       "      <th>Email</th>\n",
       "      <th>Description</th>\n",
       "      <th>Created Date</th>\n",
       "    </tr>\n",
       "  </thead>\n",
       "  <tbody>\n",
       "    <tr>\n",
       "      <th>0</th>\n",
       "      <td>0010B00001v8sB7</td>\n",
       "      <td>Hermatz Corpy LLC</td>\n",
       "      <td>0030B0000278KdA</td>\n",
       "      <td>Marina</td>\n",
       "      <td>Jin</td>\n",
       "      <td>0</td>\n",
       "      <td>553 Alta Road Unit 3</td>\n",
       "      <td>San Diego</td>\n",
       "      <td>California</td>\n",
       "      <td>USA</td>\n",
       "      <td>92154</td>\n",
       "      <td>hermatzcorpyllc@hotmail.com</td>\n",
       "      <td>NaN</td>\n",
       "      <td>1/11/2017</td>\n",
       "    </tr>\n",
       "    <tr>\n",
       "      <th>1</th>\n",
       "      <td>001U0000007ferU</td>\n",
       "      <td>Columbia Remtec Mfg</td>\n",
       "      <td>003U0000008MlPU</td>\n",
       "      <td>Frank</td>\n",
       "      <td>Putland</td>\n",
       "      <td>0</td>\n",
       "      <td>NaN</td>\n",
       "      <td>NaN</td>\n",
       "      <td>NaN</td>\n",
       "      <td>NaN</td>\n",
       "      <td>NaN</td>\n",
       "      <td>fputland@columbia-remtec.com</td>\n",
       "      <td>NaN</td>\n",
       "      <td>15/12/2011</td>\n",
       "    </tr>\n",
       "    <tr>\n",
       "      <th>2</th>\n",
       "      <td>001U000000WS6Qt</td>\n",
       "      <td>ABS CANADA</td>\n",
       "      <td>003U000000XEUOt</td>\n",
       "      <td>Judith</td>\n",
       "      <td>Riley</td>\n",
       "      <td>0</td>\n",
       "      <td>1401 Meyerside Drive Unit # 2</td>\n",
       "      <td>Mississauga</td>\n",
       "      <td>ON</td>\n",
       "      <td>CAN</td>\n",
       "      <td>NaN</td>\n",
       "      <td>judith.riley@sulzer.com</td>\n",
       "      <td>NaN</td>\n",
       "      <td>18/12/2012</td>\n",
       "    </tr>\n",
       "  </tbody>\n",
       "</table>\n",
       "</div>"
      ],
      "text/plain": [
       "        Account ID         Account Name       Contact ID First Name Last Name  \\\n",
       "0  0010B00001v8sB7    Hermatz Corpy LLC  0030B0000278KdA     Marina       Jin   \n",
       "1  001U0000007ferU  Columbia Remtec Mfg  003U0000008MlPU      Frank   Putland   \n",
       "2  001U000000WS6Qt           ABS CANADA  003U000000XEUOt     Judith     Riley   \n",
       "\n",
       "   No Longer Available                 Mailing Street Mailing City  \\\n",
       "0                    0           553 Alta Road Unit 3    San Diego   \n",
       "1                    0                            NaN          NaN   \n",
       "2                    0  1401 Meyerside Drive Unit # 2  Mississauga   \n",
       "\n",
       "  Mailing State/Province Mailing Country Mailing Zip/Postal Code  \\\n",
       "0             California             USA                   92154   \n",
       "1                    NaN             NaN                     NaN   \n",
       "2                     ON             CAN                     NaN   \n",
       "\n",
       "                          Email Description Created Date  \n",
       "0   hermatzcorpyllc@hotmail.com         NaN    1/11/2017  \n",
       "1  fputland@columbia-remtec.com         NaN   15/12/2011  \n",
       "2       judith.riley@sulzer.com         NaN   18/12/2012  "
      ]
     },
     "execution_count": 31,
     "metadata": {},
     "output_type": "execute_result"
    }
   ],
   "source": [
    "contacts.head(3)"
   ]
  },
  {
   "cell_type": "code",
   "execution_count": 67,
   "metadata": {},
   "outputs": [
    {
     "name": "stderr",
     "output_type": "stream",
     "text": [
      "/Users/alexeimarcilio/gbc/lib/python3.8/site-packages/IPython/core/interactiveshell.py:3145: DtypeWarning: Columns (21,26,28,29,30,31,35,36) have mixed types.Specify dtype option on import or set low_memory=False.\n",
      "  has_raised = await self.run_ast_nodes(code_ast.body, cell_name,\n"
     ]
    }
   ],
   "source": [
    "tasks = pd.read_csv(\"data/TasksAll.csv\",\\\n",
    "                   encoding=\"latin-1\")"
   ]
  },
  {
   "cell_type": "code",
   "execution_count": 68,
   "metadata": {},
   "outputs": [
    {
     "name": "stdout",
     "output_type": "stream",
     "text": [
      "<class 'pandas.core.frame.DataFrame'>\n",
      "RangeIndex: 770532 entries, 0 to 770531\n",
      "Data columns (total 42 columns):\n",
      " #   Column                     Non-Null Count   Dtype  \n",
      "---  ------                     --------------   -----  \n",
      " 0   ID                         770532 non-null  object \n",
      " 1   WHOID                      412643 non-null  object \n",
      " 2   WHATID                     551495 non-null  object \n",
      " 3   SUBJECT                    770530 non-null  object \n",
      " 4   ACTIVITYDATE               715895 non-null  object \n",
      " 5   STATUS                     770532 non-null  object \n",
      " 6   PRIORITY                   770532 non-null  object \n",
      " 7   ISHIGHPRIORITY             770532 non-null  bool   \n",
      " 8   OWNERID                    770532 non-null  object \n",
      " 9   DESCRIPTION                679762 non-null  object \n",
      " 10  TYPE                       739561 non-null  object \n",
      " 11  ISDELETED                  770532 non-null  bool   \n",
      " 12  ACCOUNTID                  647676 non-null  object \n",
      " 13  ISCLOSED                   770532 non-null  bool   \n",
      " 14  CREATEDDATE                770532 non-null  object \n",
      " 15  CREATEDBYID                770532 non-null  object \n",
      " 16  LASTMODIFIEDDATE           770532 non-null  object \n",
      " 17  LASTMODIFIEDBYID           770532 non-null  object \n",
      " 18  SYSTEMMODSTAMP             770532 non-null  object \n",
      " 19  ISARCHIVED                 770532 non-null  bool   \n",
      " 20  CALLDURATIONINSECONDS      184 non-null     float64\n",
      " 21  CALLTYPE                   4 non-null       object \n",
      " 22  CALLDISPOSITION            0 non-null       float64\n",
      " 23  CALLOBJECT                 0 non-null       float64\n",
      " 24  REMINDERDATETIME           40366 non-null   object \n",
      " 25  ISREMINDERSET              770532 non-null  bool   \n",
      " 26  RECURRENCEACTIVITYID       588 non-null     object \n",
      " 27  ISRECURRENCE               770532 non-null  bool   \n",
      " 28  RECURRENCESTARTDATEONLY    36 non-null      object \n",
      " 29  RECURRENCEENDDATEONLY      36 non-null      object \n",
      " 30  RECURRENCETIMEZONESIDKEY   36 non-null      object \n",
      " 31  RECURRENCETYPE             36 non-null      object \n",
      " 32  RECURRENCEINTERVAL         35 non-null      float64\n",
      " 33  RECURRENCEDAYOFWEEKMASK    23 non-null      float64\n",
      " 34  RECURRENCEDAYOFMONTH       12 non-null      float64\n",
      " 35  RECURRENCEINSTANCE         13 non-null      object \n",
      " 36  RECURRENCEMONTHOFYEAR      1 non-null       object \n",
      " 37  RECURRENCEREGENERATEDTYPE  0 non-null       float64\n",
      " 38  TASKSUBTYPE                770532 non-null  object \n",
      " 39  CREATED_HOUR__C            770532 non-null  object \n",
      " 40  DST_OFFSET__C              770532 non-null  float64\n",
      " 41  LAST_MODIFIED_HOUR__C      770532 non-null  object \n",
      "dtypes: bool(6), float64(8), object(28)\n",
      "memory usage: 216.0+ MB\n"
     ]
    }
   ],
   "source": [
    "tasks.info()"
   ]
  },
  {
   "cell_type": "code",
   "execution_count": 36,
   "metadata": {},
   "outputs": [
    {
     "name": "stderr",
     "output_type": "stream",
     "text": [
      "/Users/alexeimarcilio/gbc/lib/python3.8/site-packages/IPython/core/interactiveshell.py:3145: DtypeWarning: Columns (36) have mixed types.Specify dtype option on import or set low_memory=False.\n",
      "  has_raised = await self.run_ast_nodes(code_ast.body, cell_name,\n"
     ]
    }
   ],
   "source": [
    "events = pd.read_csv(\"data/Events (DEL INCLD).csv\",\\\n",
    "                    encoding=\"latin-1\")"
   ]
  },
  {
   "cell_type": "code",
   "execution_count": 37,
   "metadata": {
    "scrolled": true
   },
   "outputs": [
    {
     "name": "stdout",
     "output_type": "stream",
     "text": [
      "<class 'pandas.core.frame.DataFrame'>\n",
      "RangeIndex: 64275 entries, 0 to 64274\n",
      "Data columns (total 44 columns):\n",
      " #   Column                    Non-Null Count  Dtype  \n",
      "---  ------                    --------------  -----  \n",
      " 0   ID                        64275 non-null  object \n",
      " 1   WHOID                     21611 non-null  object \n",
      " 2   WHATID                    40773 non-null  object \n",
      " 3   SUBJECT                   64251 non-null  object \n",
      " 4   LOCATION                  10087 non-null  object \n",
      " 5   ISALLDAYEVENT             64275 non-null  bool   \n",
      " 6   ACTIVITYDATETIME          63416 non-null  object \n",
      " 7   ACTIVITYDATE              64269 non-null  object \n",
      " 8   DURATIONINMINUTES         64275 non-null  int64  \n",
      " 9   STARTDATETIME             64269 non-null  object \n",
      " 10  ENDDATETIME               64269 non-null  object \n",
      " 11  DESCRIPTION               36052 non-null  object \n",
      " 12  ACCOUNTID                 47311 non-null  object \n",
      " 13  OWNERID                   64275 non-null  object \n",
      " 14  TYPE                      57538 non-null  object \n",
      " 15  ISPRIVATE                 64275 non-null  bool   \n",
      " 16  SHOWAS                    64275 non-null  object \n",
      " 17  ISDELETED                 64275 non-null  bool   \n",
      " 18  ISCHILD                   64275 non-null  bool   \n",
      " 19  ISGROUPEVENT              64275 non-null  bool   \n",
      " 20  GROUPEVENTTYPE            685 non-null    float64\n",
      " 21  CREATEDDATE               64275 non-null  object \n",
      " 22  CREATEDBYID               64275 non-null  object \n",
      " 23  LASTMODIFIEDDATE          64275 non-null  object \n",
      " 24  LASTMODIFIEDBYID          64275 non-null  object \n",
      " 25  SYSTEMMODSTAMP            64275 non-null  object \n",
      " 26  ISARCHIVED                64275 non-null  bool   \n",
      " 27  RECURRENCEACTIVITYID      963 non-null    object \n",
      " 28  ISRECURRENCE              64275 non-null  bool   \n",
      " 29  RECURRENCESTARTDATETIME   26 non-null     object \n",
      " 30  RECURRENCEENDDATEONLY     26 non-null     object \n",
      " 31  RECURRENCETIMEZONESIDKEY  26 non-null     object \n",
      " 32  RECURRENCETYPE            26 non-null     object \n",
      " 33  RECURRENCEINTERVAL        26 non-null     float64\n",
      " 34  RECURRENCEDAYOFWEEKMASK   25 non-null     float64\n",
      " 35  RECURRENCEDAYOFMONTH      1 non-null      float64\n",
      " 36  RECURRENCEINSTANCE        5 non-null      object \n",
      " 37  RECURRENCEMONTHOFYEAR     0 non-null      float64\n",
      " 38  REMINDERDATETIME          44664 non-null  object \n",
      " 39  ISREMINDERSET             64275 non-null  bool   \n",
      " 40  EVENTSUBTYPE              64275 non-null  object \n",
      " 41  CREATED_HOUR__C           64275 non-null  object \n",
      " 42  DST_OFFSET__C             64275 non-null  float64\n",
      " 43  LAST_MODIFIED_HOUR__C     64275 non-null  object \n",
      "dtypes: bool(8), float64(6), int64(1), object(29)\n",
      "memory usage: 18.1+ MB\n"
     ]
    }
   ],
   "source": [
    "events.info()"
   ]
  },
  {
   "cell_type": "code",
   "execution_count": 33,
   "metadata": {},
   "outputs": [
    {
     "data": {
      "text/plain": [
       "array([nan, 'No Equipment', 'Cross-functional between divisions',\n",
       "       'Relationship', 'Price', 'Needs other Features',\n",
       "       'Not Qualified Correctly', 'Unknown', 'Solution',\n",
       "       'Cancelled Project', 'Prior competitor relationship',\n",
       "       'Change in D/M', 'Contract w/ Current Solution',\n",
       "       'Prior Negative D&R Experience', 'Speed of Resolution',\n",
       "       'Incorrect Fit', 'Online Shipping', 'Canadian', 'Terms',\n",
       "       'Credit Issue', 'Risk too high', 'Driver', 'VIP'], dtype=object)"
      ]
     },
     "execution_count": 33,
     "metadata": {},
     "output_type": "execute_result"
    }
   ],
   "source": [
    "opportunities['Reason'].unique()"
   ]
  },
  {
   "cell_type": "code",
   "execution_count": 22,
   "metadata": {},
   "outputs": [],
   "source": [
    "deals = pd.read_csv(\"data/deals.csv\")"
   ]
  },
  {
   "cell_type": "code",
   "execution_count": 23,
   "metadata": {},
   "outputs": [
    {
     "data": {
      "text/html": [
       "<div>\n",
       "<style scoped>\n",
       "    .dataframe tbody tr th:only-of-type {\n",
       "        vertical-align: middle;\n",
       "    }\n",
       "\n",
       "    .dataframe tbody tr th {\n",
       "        vertical-align: top;\n",
       "    }\n",
       "\n",
       "    .dataframe thead th {\n",
       "        text-align: right;\n",
       "    }\n",
       "</style>\n",
       "<table border=\"1\" class=\"dataframe\">\n",
       "  <thead>\n",
       "    <tr style=\"text-align: right;\">\n",
       "      <th></th>\n",
       "      <th>Unnamed: 0</th>\n",
       "      <th>Stage</th>\n",
       "      <th>Type</th>\n",
       "      <th>PotRevenue</th>\n",
       "      <th>AccCalls</th>\n",
       "      <th>AgeInDays</th>\n",
       "      <th>TotOpCalls</th>\n",
       "      <th>UserTotCalls</th>\n",
       "      <th>UserTenure</th>\n",
       "      <th>AccountAge</th>\n",
       "      <th>NumContacts</th>\n",
       "      <th>NumOppEmails</th>\n",
       "      <th>NumAccEmails</th>\n",
       "      <th>CanOrNot</th>\n",
       "      <th>Win</th>\n",
       "    </tr>\n",
       "  </thead>\n",
       "  <tbody>\n",
       "    <tr>\n",
       "      <th>0</th>\n",
       "      <td>1</td>\n",
       "      <td>Closed Lost</td>\n",
       "      <td>New Business</td>\n",
       "      <td>4800</td>\n",
       "      <td>2</td>\n",
       "      <td>101</td>\n",
       "      <td>7</td>\n",
       "      <td>41063</td>\n",
       "      <td>2079</td>\n",
       "      <td>534</td>\n",
       "      <td>1</td>\n",
       "      <td>5</td>\n",
       "      <td>11</td>\n",
       "      <td>1</td>\n",
       "      <td>0</td>\n",
       "    </tr>\n",
       "    <tr>\n",
       "      <th>1</th>\n",
       "      <td>2</td>\n",
       "      <td>Closed Lost</td>\n",
       "      <td>New Business</td>\n",
       "      <td>24000</td>\n",
       "      <td>1</td>\n",
       "      <td>64</td>\n",
       "      <td>2</td>\n",
       "      <td>1907</td>\n",
       "      <td>950</td>\n",
       "      <td>534</td>\n",
       "      <td>1</td>\n",
       "      <td>0</td>\n",
       "      <td>0</td>\n",
       "      <td>1</td>\n",
       "      <td>0</td>\n",
       "    </tr>\n",
       "    <tr>\n",
       "      <th>2</th>\n",
       "      <td>3</td>\n",
       "      <td>Closed Won</td>\n",
       "      <td>New Business</td>\n",
       "      <td>2400</td>\n",
       "      <td>7</td>\n",
       "      <td>52</td>\n",
       "      <td>3</td>\n",
       "      <td>28836</td>\n",
       "      <td>1890</td>\n",
       "      <td>534</td>\n",
       "      <td>2</td>\n",
       "      <td>1</td>\n",
       "      <td>6</td>\n",
       "      <td>1</td>\n",
       "      <td>1</td>\n",
       "    </tr>\n",
       "    <tr>\n",
       "      <th>3</th>\n",
       "      <td>4</td>\n",
       "      <td>Closed Lost</td>\n",
       "      <td>Expanded</td>\n",
       "      <td>20000</td>\n",
       "      <td>17</td>\n",
       "      <td>45</td>\n",
       "      <td>0</td>\n",
       "      <td>12081</td>\n",
       "      <td>1771</td>\n",
       "      <td>534</td>\n",
       "      <td>8</td>\n",
       "      <td>0</td>\n",
       "      <td>9</td>\n",
       "      <td>1</td>\n",
       "      <td>0</td>\n",
       "    </tr>\n",
       "    <tr>\n",
       "      <th>4</th>\n",
       "      <td>5</td>\n",
       "      <td>Closed Won</td>\n",
       "      <td>New Business</td>\n",
       "      <td>20000</td>\n",
       "      <td>12</td>\n",
       "      <td>37</td>\n",
       "      <td>3</td>\n",
       "      <td>12081</td>\n",
       "      <td>1771</td>\n",
       "      <td>534</td>\n",
       "      <td>8</td>\n",
       "      <td>0</td>\n",
       "      <td>9</td>\n",
       "      <td>1</td>\n",
       "      <td>1</td>\n",
       "    </tr>\n",
       "    <tr>\n",
       "      <th>...</th>\n",
       "      <td>...</td>\n",
       "      <td>...</td>\n",
       "      <td>...</td>\n",
       "      <td>...</td>\n",
       "      <td>...</td>\n",
       "      <td>...</td>\n",
       "      <td>...</td>\n",
       "      <td>...</td>\n",
       "      <td>...</td>\n",
       "      <td>...</td>\n",
       "      <td>...</td>\n",
       "      <td>...</td>\n",
       "      <td>...</td>\n",
       "      <td>...</td>\n",
       "      <td>...</td>\n",
       "    </tr>\n",
       "    <tr>\n",
       "      <th>16862</th>\n",
       "      <td>16909</td>\n",
       "      <td>Closed Lost</td>\n",
       "      <td>New Business</td>\n",
       "      <td>43200</td>\n",
       "      <td>5</td>\n",
       "      <td>111</td>\n",
       "      <td>6</td>\n",
       "      <td>5125</td>\n",
       "      <td>1771</td>\n",
       "      <td>836</td>\n",
       "      <td>1</td>\n",
       "      <td>0</td>\n",
       "      <td>0</td>\n",
       "      <td>0</td>\n",
       "      <td>0</td>\n",
       "    </tr>\n",
       "    <tr>\n",
       "      <th>16863</th>\n",
       "      <td>16910</td>\n",
       "      <td>Closed Lost</td>\n",
       "      <td>New Business</td>\n",
       "      <td>28800</td>\n",
       "      <td>2</td>\n",
       "      <td>67</td>\n",
       "      <td>2</td>\n",
       "      <td>5125</td>\n",
       "      <td>1771</td>\n",
       "      <td>836</td>\n",
       "      <td>1</td>\n",
       "      <td>0</td>\n",
       "      <td>0</td>\n",
       "      <td>0</td>\n",
       "      <td>0</td>\n",
       "    </tr>\n",
       "    <tr>\n",
       "      <th>16864</th>\n",
       "      <td>16911</td>\n",
       "      <td>Closed Won</td>\n",
       "      <td>New Business</td>\n",
       "      <td>15000</td>\n",
       "      <td>2</td>\n",
       "      <td>176</td>\n",
       "      <td>2</td>\n",
       "      <td>3794</td>\n",
       "      <td>1771</td>\n",
       "      <td>835</td>\n",
       "      <td>1</td>\n",
       "      <td>0</td>\n",
       "      <td>0</td>\n",
       "      <td>1</td>\n",
       "      <td>1</td>\n",
       "    </tr>\n",
       "    <tr>\n",
       "      <th>16865</th>\n",
       "      <td>16912</td>\n",
       "      <td>Closed Won</td>\n",
       "      <td>New Business</td>\n",
       "      <td>6000</td>\n",
       "      <td>19</td>\n",
       "      <td>45</td>\n",
       "      <td>0</td>\n",
       "      <td>41063</td>\n",
       "      <td>2079</td>\n",
       "      <td>835</td>\n",
       "      <td>3</td>\n",
       "      <td>0</td>\n",
       "      <td>53</td>\n",
       "      <td>1</td>\n",
       "      <td>1</td>\n",
       "    </tr>\n",
       "    <tr>\n",
       "      <th>16866</th>\n",
       "      <td>16913</td>\n",
       "      <td>Closed Won</td>\n",
       "      <td>New Business</td>\n",
       "      <td>9000</td>\n",
       "      <td>3</td>\n",
       "      <td>127</td>\n",
       "      <td>3</td>\n",
       "      <td>3794</td>\n",
       "      <td>1771</td>\n",
       "      <td>835</td>\n",
       "      <td>1</td>\n",
       "      <td>0</td>\n",
       "      <td>0</td>\n",
       "      <td>1</td>\n",
       "      <td>1</td>\n",
       "    </tr>\n",
       "  </tbody>\n",
       "</table>\n",
       "<p>16867 rows × 15 columns</p>\n",
       "</div>"
      ],
      "text/plain": [
       "       Unnamed: 0        Stage          Type  PotRevenue  AccCalls  AgeInDays  \\\n",
       "0               1  Closed Lost  New Business        4800         2        101   \n",
       "1               2  Closed Lost  New Business       24000         1         64   \n",
       "2               3   Closed Won  New Business        2400         7         52   \n",
       "3               4  Closed Lost      Expanded       20000        17         45   \n",
       "4               5   Closed Won  New Business       20000        12         37   \n",
       "...           ...          ...           ...         ...       ...        ...   \n",
       "16862       16909  Closed Lost  New Business       43200         5        111   \n",
       "16863       16910  Closed Lost  New Business       28800         2         67   \n",
       "16864       16911   Closed Won  New Business       15000         2        176   \n",
       "16865       16912   Closed Won  New Business        6000        19         45   \n",
       "16866       16913   Closed Won  New Business        9000         3        127   \n",
       "\n",
       "       TotOpCalls  UserTotCalls  UserTenure  AccountAge  NumContacts  \\\n",
       "0               7         41063        2079         534            1   \n",
       "1               2          1907         950         534            1   \n",
       "2               3         28836        1890         534            2   \n",
       "3               0         12081        1771         534            8   \n",
       "4               3         12081        1771         534            8   \n",
       "...           ...           ...         ...         ...          ...   \n",
       "16862           6          5125        1771         836            1   \n",
       "16863           2          5125        1771         836            1   \n",
       "16864           2          3794        1771         835            1   \n",
       "16865           0         41063        2079         835            3   \n",
       "16866           3          3794        1771         835            1   \n",
       "\n",
       "       NumOppEmails  NumAccEmails  CanOrNot  Win  \n",
       "0                 5            11         1    0  \n",
       "1                 0             0         1    0  \n",
       "2                 1             6         1    1  \n",
       "3                 0             9         1    0  \n",
       "4                 0             9         1    1  \n",
       "...             ...           ...       ...  ...  \n",
       "16862             0             0         0    0  \n",
       "16863             0             0         0    0  \n",
       "16864             0             0         1    1  \n",
       "16865             0            53         1    1  \n",
       "16866             0             0         1    1  \n",
       "\n",
       "[16867 rows x 15 columns]"
      ]
     },
     "execution_count": 23,
     "metadata": {},
     "output_type": "execute_result"
    }
   ],
   "source": [
    "deals"
   ]
  },
  {
   "cell_type": "code",
   "execution_count": 39,
   "metadata": {},
   "outputs": [
    {
     "data": {
      "text/html": [
       "<div>\n",
       "<style scoped>\n",
       "    .dataframe tbody tr th:only-of-type {\n",
       "        vertical-align: middle;\n",
       "    }\n",
       "\n",
       "    .dataframe tbody tr th {\n",
       "        vertical-align: top;\n",
       "    }\n",
       "\n",
       "    .dataframe thead th {\n",
       "        text-align: right;\n",
       "    }\n",
       "</style>\n",
       "<table border=\"1\" class=\"dataframe\">\n",
       "  <thead>\n",
       "    <tr style=\"text-align: right;\">\n",
       "      <th></th>\n",
       "      <th>Account ID</th>\n",
       "      <th>Account Name</th>\n",
       "      <th>Billing Street</th>\n",
       "      <th>Billing City</th>\n",
       "      <th>Billing State/Province</th>\n",
       "      <th>Billing Zip/Postal Code</th>\n",
       "      <th>Billing Country</th>\n",
       "      <th>Parent Account</th>\n",
       "      <th>Parent Account ID</th>\n",
       "      <th>Created Date</th>\n",
       "    </tr>\n",
       "  </thead>\n",
       "  <tbody>\n",
       "    <tr>\n",
       "      <th>0</th>\n",
       "      <td>001U000000cezKS</td>\n",
       "      <td>WHITE PAPER - MONTREAL</td>\n",
       "      <td>650 Rue McCaffrey</td>\n",
       "      <td>Saint-Laurent</td>\n",
       "      <td>QC</td>\n",
       "      <td>H4T1N1</td>\n",
       "      <td>NaN</td>\n",
       "      <td>WHITE PAPER COMPANY</td>\n",
       "      <td>001U000000cerI2</td>\n",
       "      <td>19/07/2013</td>\n",
       "    </tr>\n",
       "    <tr>\n",
       "      <th>1</th>\n",
       "      <td>001U000000qlXfi</td>\n",
       "      <td>ECOCART</td>\n",
       "      <td>4815 Vanhorne Po BOX 63553</td>\n",
       "      <td>Montreal</td>\n",
       "      <td>QC</td>\n",
       "      <td>H3W1J0</td>\n",
       "      <td>CA</td>\n",
       "      <td>NaN</td>\n",
       "      <td>NaN</td>\n",
       "      <td>4/7/2014</td>\n",
       "    </tr>\n",
       "    <tr>\n",
       "      <th>2</th>\n",
       "      <td>001U000000WSBKy</td>\n",
       "      <td>SMS EQUIPMENT INC</td>\n",
       "      <td>1945 55IEEME AVENUE SUD</td>\n",
       "      <td>DORVAL</td>\n",
       "      <td>PQ</td>\n",
       "      <td>H9P1G9</td>\n",
       "      <td>CA</td>\n",
       "      <td>NaN</td>\n",
       "      <td>NaN</td>\n",
       "      <td>15/12/2011</td>\n",
       "    </tr>\n",
       "    <tr>\n",
       "      <th>3</th>\n",
       "      <td>001U000000WSCMX</td>\n",
       "      <td>WHITE PAPER - TORONTO</td>\n",
       "      <td>210 Travail Road</td>\n",
       "      <td>Markham</td>\n",
       "      <td>ON</td>\n",
       "      <td>L3S3J1</td>\n",
       "      <td>CA</td>\n",
       "      <td>WHITE PAPER COMPANY</td>\n",
       "      <td>001U000000cerI2</td>\n",
       "      <td>3/4/2013</td>\n",
       "    </tr>\n",
       "    <tr>\n",
       "      <th>4</th>\n",
       "      <td>001U000000qkOy9</td>\n",
       "      <td>MBW Courier</td>\n",
       "      <td>NaN</td>\n",
       "      <td>NaN</td>\n",
       "      <td>NS</td>\n",
       "      <td>NaN</td>\n",
       "      <td>NaN</td>\n",
       "      <td>NaN</td>\n",
       "      <td>NaN</td>\n",
       "      <td>2/7/2014</td>\n",
       "    </tr>\n",
       "    <tr>\n",
       "      <th>...</th>\n",
       "      <td>...</td>\n",
       "      <td>...</td>\n",
       "      <td>...</td>\n",
       "      <td>...</td>\n",
       "      <td>...</td>\n",
       "      <td>...</td>\n",
       "      <td>...</td>\n",
       "      <td>...</td>\n",
       "      <td>...</td>\n",
       "      <td>...</td>\n",
       "    </tr>\n",
       "    <tr>\n",
       "      <th>53980</th>\n",
       "      <td>0010B00001oFZiL</td>\n",
       "      <td>SOURCE ATL NFL</td>\n",
       "      <td>38 BECLIN RD</td>\n",
       "      <td>MOUNT PEARL</td>\n",
       "      <td>NF</td>\n",
       "      <td>A1N 5N8</td>\n",
       "      <td>NaN</td>\n",
       "      <td>SOURCE ATLANTIC HO</td>\n",
       "      <td>001U000001eEYAI</td>\n",
       "      <td>16/01/2017</td>\n",
       "    </tr>\n",
       "    <tr>\n",
       "      <th>53981</th>\n",
       "      <td>0010B00001oFZuy</td>\n",
       "      <td>SOURCE ATL - TRACY</td>\n",
       "      <td>16 MAST RD</td>\n",
       "      <td>TRACY</td>\n",
       "      <td>NB</td>\n",
       "      <td>E5L2W1</td>\n",
       "      <td>NaN</td>\n",
       "      <td>SOURCE ATLANTIC HO</td>\n",
       "      <td>001U000001eEYAI</td>\n",
       "      <td>16/01/2017</td>\n",
       "    </tr>\n",
       "    <tr>\n",
       "      <th>53982</th>\n",
       "      <td>0010B00001oFZt2</td>\n",
       "      <td>SOURCE ATL PEI</td>\n",
       "      <td>130 LONGWORTH AVE</td>\n",
       "      <td>CHARLOTTETOWN</td>\n",
       "      <td>PE</td>\n",
       "      <td>C1A5A8</td>\n",
       "      <td>NaN</td>\n",
       "      <td>SOURCE ATLANTIC HO</td>\n",
       "      <td>001U000001eEYAI</td>\n",
       "      <td>16/01/2017</td>\n",
       "    </tr>\n",
       "    <tr>\n",
       "      <th>53983</th>\n",
       "      <td>001U000001j4zE4</td>\n",
       "      <td>Solis</td>\n",
       "      <td>165 Summerlea Road</td>\n",
       "      <td>Brampton</td>\n",
       "      <td>ON</td>\n",
       "      <td>L6T 4P6</td>\n",
       "      <td>Canada</td>\n",
       "      <td>Yusen Logistics (Canada) Inc</td>\n",
       "      <td>001U000001bkKf0</td>\n",
       "      <td>27/06/2016</td>\n",
       "    </tr>\n",
       "    <tr>\n",
       "      <th>53984</th>\n",
       "      <td>001U000000WS8qH</td>\n",
       "      <td>GNC CANADA</td>\n",
       "      <td>BUNCHER INDUSTRIAL PARK</td>\n",
       "      <td>LEETSDALE</td>\n",
       "      <td>PA</td>\n",
       "      <td>15056</td>\n",
       "      <td>US</td>\n",
       "      <td>GNC US Corporate</td>\n",
       "      <td>0010B00001qgHZJ</td>\n",
       "      <td>16/12/2011</td>\n",
       "    </tr>\n",
       "  </tbody>\n",
       "</table>\n",
       "<p>53985 rows × 10 columns</p>\n",
       "</div>"
      ],
      "text/plain": [
       "            Account ID            Account Name              Billing Street  \\\n",
       "0      001U000000cezKS  WHITE PAPER - MONTREAL           650 Rue McCaffrey   \n",
       "1      001U000000qlXfi                 ECOCART  4815 Vanhorne Po BOX 63553   \n",
       "2      001U000000WSBKy       SMS EQUIPMENT INC     1945 55IEEME AVENUE SUD   \n",
       "3      001U000000WSCMX   WHITE PAPER - TORONTO            210 Travail Road   \n",
       "4      001U000000qkOy9             MBW Courier                         NaN   \n",
       "...                ...                     ...                         ...   \n",
       "53980  0010B00001oFZiL          SOURCE ATL NFL                38 BECLIN RD   \n",
       "53981  0010B00001oFZuy      SOURCE ATL - TRACY                  16 MAST RD   \n",
       "53982  0010B00001oFZt2          SOURCE ATL PEI           130 LONGWORTH AVE   \n",
       "53983  001U000001j4zE4                   Solis          165 Summerlea Road   \n",
       "53984  001U000000WS8qH              GNC CANADA     BUNCHER INDUSTRIAL PARK   \n",
       "\n",
       "        Billing City Billing State/Province Billing Zip/Postal Code  \\\n",
       "0      Saint-Laurent                     QC                  H4T1N1   \n",
       "1           Montreal                     QC                  H3W1J0   \n",
       "2             DORVAL                     PQ                  H9P1G9   \n",
       "3            Markham                     ON                  L3S3J1   \n",
       "4                NaN                     NS                     NaN   \n",
       "...              ...                    ...                     ...   \n",
       "53980    MOUNT PEARL                     NF                 A1N 5N8   \n",
       "53981          TRACY                     NB                  E5L2W1   \n",
       "53982  CHARLOTTETOWN                     PE                  C1A5A8   \n",
       "53983       Brampton                     ON                 L6T 4P6   \n",
       "53984      LEETSDALE                     PA                   15056   \n",
       "\n",
       "      Billing Country                Parent Account Parent Account ID  \\\n",
       "0                 NaN           WHITE PAPER COMPANY   001U000000cerI2   \n",
       "1                  CA                           NaN               NaN   \n",
       "2                  CA                           NaN               NaN   \n",
       "3                  CA           WHITE PAPER COMPANY   001U000000cerI2   \n",
       "4                 NaN                           NaN               NaN   \n",
       "...               ...                           ...               ...   \n",
       "53980             NaN            SOURCE ATLANTIC HO   001U000001eEYAI   \n",
       "53981             NaN            SOURCE ATLANTIC HO   001U000001eEYAI   \n",
       "53982             NaN            SOURCE ATLANTIC HO   001U000001eEYAI   \n",
       "53983          Canada  Yusen Logistics (Canada) Inc   001U000001bkKf0   \n",
       "53984              US              GNC US Corporate   0010B00001qgHZJ   \n",
       "\n",
       "      Created Date  \n",
       "0       19/07/2013  \n",
       "1         4/7/2014  \n",
       "2       15/12/2011  \n",
       "3         3/4/2013  \n",
       "4         2/7/2014  \n",
       "...            ...  \n",
       "53980   16/01/2017  \n",
       "53981   16/01/2017  \n",
       "53982   16/01/2017  \n",
       "53983   27/06/2016  \n",
       "53984   16/12/2011  \n",
       "\n",
       "[53985 rows x 10 columns]"
      ]
     },
     "execution_count": 39,
     "metadata": {},
     "output_type": "execute_result"
    }
   ],
   "source": [
    "accounts"
   ]
  },
  {
   "cell_type": "markdown",
   "metadata": {},
   "source": [
    "$\n",
    "{\\displaystyle \\mathbf {y} =X{\\boldsymbol {\\beta }}+{\\boldsymbol {\\varepsilon }},\\,}{\\displaystyle \\mathbf {y} =X{\\boldsymbol {\\beta }}+{\\boldsymbol {\\varepsilon }},\\,}$"
   ]
  },
  {
   "cell_type": "code",
   "execution_count": 41,
   "metadata": {},
   "outputs": [],
   "source": [
    "users = pd.read_csv(\"data/AM - Freight Users.csv\",\n",
    "                   encoding=\"latin-1\")"
   ]
  },
  {
   "cell_type": "code",
   "execution_count": 42,
   "metadata": {},
   "outputs": [
    {
     "name": "stdout",
     "output_type": "stream",
     "text": [
      "<class 'pandas.core.frame.DataFrame'>\n",
      "RangeIndex: 180 entries, 0 to 179\n",
      "Data columns (total 10 columns):\n",
      " #   Column              Non-Null Count  Dtype \n",
      "---  ------              --------------  ----- \n",
      " 0   User ID             180 non-null    object\n",
      " 1   Username            180 non-null    object\n",
      " 2   Last Name           180 non-null    object\n",
      " 3   First Name          180 non-null    object\n",
      " 4   Profile: Name       180 non-null    object\n",
      " 5   Role: Name          180 non-null    object\n",
      " 6   Department          178 non-null    object\n",
      " 7   Manager: Full Name  167 non-null    object\n",
      " 8   Active              180 non-null    int64 \n",
      " 9   Created Date        180 non-null    object\n",
      "dtypes: int64(1), object(9)\n",
      "memory usage: 14.2+ KB\n"
     ]
    }
   ],
   "source": [
    "users.info()"
   ]
  },
  {
   "cell_type": "code",
   "execution_count": 43,
   "metadata": {},
   "outputs": [
    {
     "name": "stdout",
     "output_type": "stream",
     "text": [
      "<class 'pandas.core.frame.DataFrame'>\n",
      "RangeIndex: 16913 entries, 0 to 16912\n",
      "Data columns (total 18 columns):\n",
      " #   Column                          Non-Null Count  Dtype  \n",
      "---  ------                          --------------  -----  \n",
      " 0   Opportunity ID                  16913 non-null  object \n",
      " 1   Opportunity Name                16913 non-null  object \n",
      " 2   Type                            16913 non-null  object \n",
      " 3   Stage                           16913 non-null  object \n",
      " 4   Reason                          15867 non-null  object \n",
      " 5   Revenue Potential               16873 non-null  float64\n",
      " 6   Created Date                    16913 non-null  object \n",
      " 7   Close Date                      16913 non-null  object \n",
      " 8   Service Offering Name           15670 non-null  object \n",
      " 9   Annual Revenue Potential        16873 non-null  float64\n",
      " 10  User ID                         16913 non-null  object \n",
      " 11  Opportunity Owner               16913 non-null  object \n",
      " 12  Owner Role                      16911 non-null  object \n",
      " 13  Opportunity Owner: Department   16908 non-null  object \n",
      " 14  Account Number: Record ID       16913 non-null  object \n",
      " 15  Account Number: Account Number  16913 non-null  object \n",
      " 16  Account ID                      16913 non-null  object \n",
      " 17  Account Name                    16913 non-null  object \n",
      "dtypes: float64(2), object(16)\n",
      "memory usage: 2.3+ MB\n"
     ]
    }
   ],
   "source": [
    "opportunities.info()"
   ]
  },
  {
   "cell_type": "code",
   "execution_count": 60,
   "metadata": {},
   "outputs": [],
   "source": [
    "import seaborn as sns"
   ]
  },
  {
   "cell_type": "code",
   "execution_count": 45,
   "metadata": {},
   "outputs": [
    {
     "data": {
      "text/plain": [
       "array(['West Freight', 'Maritimes Freight', 'Ontario Freight',\n",
       "       'Small Enterprise Sales', 'Quebec Freight',\n",
       "       'National Accts Freight', nan, 'Toronto Freight',\n",
       "       'Truckload Freight', 'USA Freight', 'Freight Executive',\n",
       "       'Ontario National Accounts Freight', 'National Accounts Freight',\n",
       "       'Supply Chain'], dtype=object)"
      ]
     },
     "execution_count": 45,
     "metadata": {},
     "output_type": "execute_result"
    }
   ],
   "source": [
    "opportunities['Opportunity Owner: Department'].unique()"
   ]
  },
  {
   "cell_type": "code",
   "execution_count": 47,
   "metadata": {},
   "outputs": [
    {
     "data": {
      "text/plain": [
       "array(['Proposal', 'Closed Lost', 'Closed Won', 'Negotiation',\n",
       "       'Agreed Shipping', 'Shipping', 'Qualification',\n",
       "       'Solution Development', 'Prospecting'], dtype=object)"
      ]
     },
     "execution_count": 47,
     "metadata": {},
     "output_type": "execute_result"
    }
   ],
   "source": [
    "opportunities['Stage'].unique()"
   ]
  },
  {
   "cell_type": "markdown",
   "metadata": {},
   "source": [
    "## Data Exploration"
   ]
  },
  {
   "cell_type": "code",
   "execution_count": 20,
   "metadata": {},
   "outputs": [],
   "source": [
    "import seaborn as sns\n",
    "import matplotlib.pyplot as plt"
   ]
  },
  {
   "cell_type": "markdown",
   "metadata": {},
   "source": [
    "### Opportunities"
   ]
  },
  {
   "cell_type": "code",
   "execution_count": 98,
   "metadata": {},
   "outputs": [
    {
     "data": {
      "image/png": "[encoded data removed]",
      "text/plain": [
       "<Figure size 432x288 with 1 Axes>"
      ]
     },
     "metadata": {
      "needs_background": "light"
     },
     "output_type": "display_data"
    }
   ],
   "source": [
    "sns.countplot(data=opportunities, y='Opportunity Owner: Department',orient=\"horizontal\",\\\n",
    "             order=opportunities['Opportunity Owner: Department'].value_counts().index)\n",
    "plt.title(\"Count of Opportunities by Department\");\n",
    "plt.ylabel(\"Department\");"
   ]
  },
  {
   "cell_type": "code",
   "execution_count": 97,
   "metadata": {},
   "outputs": [
    {
     "data": {
      "image/png": "[encoded data removed]",
      "text/plain": [
       "<Figure size 432x288 with 1 Axes>"
      ]
     },
     "metadata": {
      "needs_background": "light"
     },
     "output_type": "display_data"
    }
   ],
   "source": [
    "sns.countplot(data=opportunities, y='Stage',orient=\"horizontal\",\\\n",
    "             order=opportunities['Stage'].value_counts().index)\n",
    "plt.title(\"Stage\");\n",
    "plt.ylabel(\"Opportunity Counts by Stage\");\n"
   ]
  },
  {
   "cell_type": "code",
   "execution_count": 4,
   "metadata": {},
   "outputs": [
    {
     "data": {
      "text/html": [
       "<div>\n",
       "<style scoped>\n",
       "    .dataframe tbody tr th:only-of-type {\n",
       "        vertical-align: middle;\n",
       "    }\n",
       "\n",
       "    .dataframe tbody tr th {\n",
       "        vertical-align: top;\n",
       "    }\n",
       "\n",
       "    .dataframe thead th {\n",
       "        text-align: right;\n",
       "    }\n",
       "</style>\n",
       "<table border=\"1\" class=\"dataframe\">\n",
       "  <thead>\n",
       "    <tr style=\"text-align: right;\">\n",
       "      <th></th>\n",
       "      <th>Opportunity ID</th>\n",
       "      <th>Opportunity Name</th>\n",
       "      <th>Type</th>\n",
       "      <th>Stage</th>\n",
       "      <th>Reason</th>\n",
       "      <th>Revenue Potential</th>\n",
       "      <th>Created Date</th>\n",
       "      <th>Close Date</th>\n",
       "      <th>Service Offering Name</th>\n",
       "      <th>Annual Revenue Potential</th>\n",
       "      <th>User ID</th>\n",
       "      <th>Opportunity Owner</th>\n",
       "      <th>Owner Role</th>\n",
       "      <th>Opportunity Owner: Department</th>\n",
       "      <th>Account Number: Record ID</th>\n",
       "      <th>Account Number: Account Number</th>\n",
       "      <th>Account ID</th>\n",
       "      <th>Account Name</th>\n",
       "    </tr>\n",
       "  </thead>\n",
       "  <tbody>\n",
       "    <tr>\n",
       "      <th>0</th>\n",
       "      <td>0060B00000eO1v0</td>\n",
       "      <td>MITYBILT - BC PROJECT (TL)</td>\n",
       "      <td>Expanded</td>\n",
       "      <td>Proposal</td>\n",
       "      <td>NaN</td>\n",
       "      <td>50000.0</td>\n",
       "      <td>31/12/2017</td>\n",
       "      <td>31/03/2018</td>\n",
       "      <td>SCS TL / LTL</td>\n",
       "      <td>50000.04</td>\n",
       "      <td>0050B000007Fk56</td>\n",
       "      <td>Ainsley McWhirter</td>\n",
       "      <td>Freight West Account Executive Prairies</td>\n",
       "      <td>West Freight</td>\n",
       "      <td>a0CU000000DYoz9</td>\n",
       "      <td>82623</td>\n",
       "      <td>001U000000WSABn</td>\n",
       "      <td>MITYBILT PRODUCTS</td>\n",
       "    </tr>\n",
       "    <tr>\n",
       "      <th>1</th>\n",
       "      <td>0060B00000eO1YB</td>\n",
       "      <td>COLE INTERNATIONAL - US TL - HUMBLE TX TO HALI...</td>\n",
       "      <td>Expanded</td>\n",
       "      <td>Closed Lost</td>\n",
       "      <td>No Equipment</td>\n",
       "      <td>40000.0</td>\n",
       "      <td>31/12/2017</td>\n",
       "      <td>22/01/2018</td>\n",
       "      <td>NaN</td>\n",
       "      <td>40000.00</td>\n",
       "      <td>005U00000027Cb4</td>\n",
       "      <td>Miriam Watts</td>\n",
       "      <td>Maritimes AE: Freight</td>\n",
       "      <td>Maritimes Freight</td>\n",
       "      <td>a0CU000000QdXmI</td>\n",
       "      <td>67466</td>\n",
       "      <td>001U0000007fy5P</td>\n",
       "      <td>COLE INTERNATIONAL - HALIFAX</td>\n",
       "    </tr>\n",
       "    <tr>\n",
       "      <th>2</th>\n",
       "      <td>0060B00000eO2AD</td>\n",
       "      <td>LTL US ITR America</td>\n",
       "      <td>New Business</td>\n",
       "      <td>Closed Won</td>\n",
       "      <td>Cross-functional between divisions</td>\n",
       "      <td>10800.0</td>\n",
       "      <td>31/12/2017</td>\n",
       "      <td>31/12/2017</td>\n",
       "      <td>LTL USA</td>\n",
       "      <td>10800.00</td>\n",
       "      <td>005U0000001Dcbw</td>\n",
       "      <td>Alvin Rodricks</td>\n",
       "      <td>Freight Ontario: Account Executive</td>\n",
       "      <td>Ontario Freight</td>\n",
       "      <td>a0C0B00000re88m</td>\n",
       "      <td>127325</td>\n",
       "      <td>0010B00001w2sZ5</td>\n",
       "      <td>ITR America</td>\n",
       "    </tr>\n",
       "    <tr>\n",
       "      <th>3</th>\n",
       "      <td>0060B00000eO295</td>\n",
       "      <td>TL MILLER &amp; SMITH</td>\n",
       "      <td>New Business</td>\n",
       "      <td>Closed Won</td>\n",
       "      <td>Relationship</td>\n",
       "      <td>24000.0</td>\n",
       "      <td>31/12/2017</td>\n",
       "      <td>31/12/2017</td>\n",
       "      <td>Asset TL BH/Needed Lanes</td>\n",
       "      <td>24000.00</td>\n",
       "      <td>005U0000001Dcbw</td>\n",
       "      <td>Alvin Rodricks</td>\n",
       "      <td>Freight Ontario: Account Executive</td>\n",
       "      <td>Ontario Freight</td>\n",
       "      <td>a0CU000000DYlnL</td>\n",
       "      <td>22349</td>\n",
       "      <td>001U000000WSAAG</td>\n",
       "      <td>MILLER &amp; SMITH FOODS INC</td>\n",
       "    </tr>\n",
       "    <tr>\n",
       "      <th>4</th>\n",
       "      <td>0060B00000eO1YL</td>\n",
       "      <td>DALCAM SANITATION - DOMESTIC LTL - ON &amp; QC INT...</td>\n",
       "      <td>Expanded</td>\n",
       "      <td>Negotiation</td>\n",
       "      <td>NaN</td>\n",
       "      <td>10632.0</td>\n",
       "      <td>31/12/2017</td>\n",
       "      <td>22/03/2018</td>\n",
       "      <td>LTL Domestic</td>\n",
       "      <td>10632.00</td>\n",
       "      <td>005U00000027Cb4</td>\n",
       "      <td>Miriam Watts</td>\n",
       "      <td>Maritimes AE: Freight</td>\n",
       "      <td>Maritimes Freight</td>\n",
       "      <td>a0C0B00000jTNQc</td>\n",
       "      <td>143949</td>\n",
       "      <td>001U000000WS7yL</td>\n",
       "      <td>DALCAM SANITATION SOLUTIO</td>\n",
       "    </tr>\n",
       "    <tr>\n",
       "      <th>...</th>\n",
       "      <td>...</td>\n",
       "      <td>...</td>\n",
       "      <td>...</td>\n",
       "      <td>...</td>\n",
       "      <td>...</td>\n",
       "      <td>...</td>\n",
       "      <td>...</td>\n",
       "      <td>...</td>\n",
       "      <td>...</td>\n",
       "      <td>...</td>\n",
       "      <td>...</td>\n",
       "      <td>...</td>\n",
       "      <td>...</td>\n",
       "      <td>...</td>\n",
       "      <td>...</td>\n",
       "      <td>...</td>\n",
       "      <td>...</td>\n",
       "      <td>...</td>\n",
       "    </tr>\n",
       "    <tr>\n",
       "      <th>16908</th>\n",
       "      <td>006U000000BnOOs</td>\n",
       "      <td>GCR LTL Newfoundland and Quebec</td>\n",
       "      <td>New Business</td>\n",
       "      <td>Closed Won</td>\n",
       "      <td>Relationship</td>\n",
       "      <td>14400.0</td>\n",
       "      <td>1/8/2013</td>\n",
       "      <td>28/03/2014</td>\n",
       "      <td>LTL Domestic</td>\n",
       "      <td>14400.00</td>\n",
       "      <td>005U0000001Dcbx</td>\n",
       "      <td>Brent Ryan</td>\n",
       "      <td>Maritimes AE: Freight</td>\n",
       "      <td>Maritimes Freight</td>\n",
       "      <td>a0CU000000DZZ9I</td>\n",
       "      <td>66527</td>\n",
       "      <td>001U000000WSV6A</td>\n",
       "      <td>GCR Tire Centre - Moncton</td>\n",
       "    </tr>\n",
       "    <tr>\n",
       "      <th>16909</th>\n",
       "      <td>006U000000AVd7K</td>\n",
       "      <td>Clippe from Va to Ont and West- US LTL</td>\n",
       "      <td>Expanded</td>\n",
       "      <td>Closed Lost</td>\n",
       "      <td>Cancelled Project</td>\n",
       "      <td>96000.0</td>\n",
       "      <td>1/5/2013</td>\n",
       "      <td>9/8/2013</td>\n",
       "      <td>LTL USA</td>\n",
       "      <td>96000.00</td>\n",
       "      <td>005U0000001Dcbx</td>\n",
       "      <td>Brent Ryan</td>\n",
       "      <td>Maritimes AE: Freight</td>\n",
       "      <td>Maritimes Freight</td>\n",
       "      <td>a0CU000000E4F0s</td>\n",
       "      <td>127904</td>\n",
       "      <td>001U000000WSIi9</td>\n",
       "      <td>WHEELS CLIPPER</td>\n",
       "    </tr>\n",
       "    <tr>\n",
       "      <th>16910</th>\n",
       "      <td>006U000000AVfcp</td>\n",
       "      <td>Ex Whitby</td>\n",
       "      <td>Expanded</td>\n",
       "      <td>Closed Lost</td>\n",
       "      <td>Cancelled Project</td>\n",
       "      <td>100800.0</td>\n",
       "      <td>1/5/2013</td>\n",
       "      <td>24/09/2013</td>\n",
       "      <td>LTL Domestic</td>\n",
       "      <td>100800.00</td>\n",
       "      <td>005U0000001Dcar</td>\n",
       "      <td>Michelle Barrett</td>\n",
       "      <td>Freight Ontario: Account Executive</td>\n",
       "      <td>Ontario Freight</td>\n",
       "      <td>a0CU000000DYpqG</td>\n",
       "      <td>3720</td>\n",
       "      <td>001U000000WS6p1</td>\n",
       "      <td>ATLANTIC PACKAGING PRD</td>\n",
       "    </tr>\n",
       "    <tr>\n",
       "      <th>16911</th>\n",
       "      <td>006U000000AVd5e</td>\n",
       "      <td>Keltic i/b USA LTL to NFLD</td>\n",
       "      <td>Expanded</td>\n",
       "      <td>Closed Lost</td>\n",
       "      <td>Price</td>\n",
       "      <td>12000.0</td>\n",
       "      <td>1/5/2013</td>\n",
       "      <td>23/09/2013</td>\n",
       "      <td>LTL USA</td>\n",
       "      <td>12000.00</td>\n",
       "      <td>005U00000027CbE</td>\n",
       "      <td>Shawn Lizotte</td>\n",
       "      <td>Maritimes AE: Freight</td>\n",
       "      <td>Maritimes Freight</td>\n",
       "      <td>a0CU000000DYlc8</td>\n",
       "      <td>34326</td>\n",
       "      <td>001U000000WS9Wf</td>\n",
       "      <td>KELTIC TRANSPORTATION Head Office MTN</td>\n",
       "    </tr>\n",
       "    <tr>\n",
       "      <th>16912</th>\n",
       "      <td>006U000000AVfVH</td>\n",
       "      <td>Flair Flexible Packaging - Mississauga ON -&gt; E...</td>\n",
       "      <td>Expanded</td>\n",
       "      <td>Closed Won</td>\n",
       "      <td>Relationship</td>\n",
       "      <td>35000.0</td>\n",
       "      <td>1/5/2013</td>\n",
       "      <td>30/07/2013</td>\n",
       "      <td>NaN</td>\n",
       "      <td>35000.00</td>\n",
       "      <td>005U0000001Dcav</td>\n",
       "      <td>Stan Bondar</td>\n",
       "      <td>Freight West: National Account Executive</td>\n",
       "      <td>West Freight</td>\n",
       "      <td>a0CU000000DYngr</td>\n",
       "      <td>67008</td>\n",
       "      <td>001U000000WS8bW</td>\n",
       "      <td>FLAIR FLEXIBLE PACKAGING</td>\n",
       "    </tr>\n",
       "  </tbody>\n",
       "</table>\n",
       "<p>16913 rows × 18 columns</p>\n",
       "</div>"
      ],
      "text/plain": [
       "        Opportunity ID                                   Opportunity Name  \\\n",
       "0      0060B00000eO1v0                         MITYBILT - BC PROJECT (TL)   \n",
       "1      0060B00000eO1YB  COLE INTERNATIONAL - US TL - HUMBLE TX TO HALI...   \n",
       "2      0060B00000eO2AD                                 LTL US ITR America   \n",
       "3      0060B00000eO295                                  TL MILLER & SMITH   \n",
       "4      0060B00000eO1YL  DALCAM SANITATION - DOMESTIC LTL - ON & QC INT...   \n",
       "...                ...                                                ...   \n",
       "16908  006U000000BnOOs                    GCR LTL Newfoundland and Quebec   \n",
       "16909  006U000000AVd7K             Clippe from Va to Ont and West- US LTL   \n",
       "16910  006U000000AVfcp                                          Ex Whitby   \n",
       "16911  006U000000AVd5e                         Keltic i/b USA LTL to NFLD   \n",
       "16912  006U000000AVfVH  Flair Flexible Packaging - Mississauga ON -> E...   \n",
       "\n",
       "               Type        Stage                              Reason  \\\n",
       "0          Expanded     Proposal                                 NaN   \n",
       "1          Expanded  Closed Lost                        No Equipment   \n",
       "2      New Business   Closed Won  Cross-functional between divisions   \n",
       "3      New Business   Closed Won                        Relationship   \n",
       "4          Expanded  Negotiation                                 NaN   \n",
       "...             ...          ...                                 ...   \n",
       "16908  New Business   Closed Won                        Relationship   \n",
       "16909      Expanded  Closed Lost                   Cancelled Project   \n",
       "16910      Expanded  Closed Lost                   Cancelled Project   \n",
       "16911      Expanded  Closed Lost                               Price   \n",
       "16912      Expanded   Closed Won                        Relationship   \n",
       "\n",
       "       Revenue Potential Created Date  Close Date     Service Offering Name  \\\n",
       "0                50000.0   31/12/2017  31/03/2018              SCS TL / LTL   \n",
       "1                40000.0   31/12/2017  22/01/2018                       NaN   \n",
       "2                10800.0   31/12/2017  31/12/2017                   LTL USA   \n",
       "3                24000.0   31/12/2017  31/12/2017  Asset TL BH/Needed Lanes   \n",
       "4                10632.0   31/12/2017  22/03/2018              LTL Domestic   \n",
       "...                  ...          ...         ...                       ...   \n",
       "16908            14400.0     1/8/2013  28/03/2014              LTL Domestic   \n",
       "16909            96000.0     1/5/2013    9/8/2013                   LTL USA   \n",
       "16910           100800.0     1/5/2013  24/09/2013              LTL Domestic   \n",
       "16911            12000.0     1/5/2013  23/09/2013                   LTL USA   \n",
       "16912            35000.0     1/5/2013  30/07/2013                       NaN   \n",
       "\n",
       "       Annual Revenue Potential          User ID  Opportunity Owner  \\\n",
       "0                      50000.04  0050B000007Fk56  Ainsley McWhirter   \n",
       "1                      40000.00  005U00000027Cb4       Miriam Watts   \n",
       "2                      10800.00  005U0000001Dcbw     Alvin Rodricks   \n",
       "3                      24000.00  005U0000001Dcbw     Alvin Rodricks   \n",
       "4                      10632.00  005U00000027Cb4       Miriam Watts   \n",
       "...                         ...              ...                ...   \n",
       "16908                  14400.00  005U0000001Dcbx         Brent Ryan   \n",
       "16909                  96000.00  005U0000001Dcbx         Brent Ryan   \n",
       "16910                 100800.00  005U0000001Dcar   Michelle Barrett   \n",
       "16911                  12000.00  005U00000027CbE      Shawn Lizotte   \n",
       "16912                  35000.00  005U0000001Dcav        Stan Bondar   \n",
       "\n",
       "                                     Owner Role Opportunity Owner: Department  \\\n",
       "0       Freight West Account Executive Prairies                  West Freight   \n",
       "1                         Maritimes AE: Freight             Maritimes Freight   \n",
       "2            Freight Ontario: Account Executive               Ontario Freight   \n",
       "3            Freight Ontario: Account Executive               Ontario Freight   \n",
       "4                         Maritimes AE: Freight             Maritimes Freight   \n",
       "...                                         ...                           ...   \n",
       "16908                     Maritimes AE: Freight             Maritimes Freight   \n",
       "16909                     Maritimes AE: Freight             Maritimes Freight   \n",
       "16910        Freight Ontario: Account Executive               Ontario Freight   \n",
       "16911                     Maritimes AE: Freight             Maritimes Freight   \n",
       "16912  Freight West: National Account Executive                  West Freight   \n",
       "\n",
       "      Account Number: Record ID Account Number: Account Number  \\\n",
       "0               a0CU000000DYoz9                          82623   \n",
       "1               a0CU000000QdXmI                          67466   \n",
       "2               a0C0B00000re88m                         127325   \n",
       "3               a0CU000000DYlnL                          22349   \n",
       "4               a0C0B00000jTNQc                         143949   \n",
       "...                         ...                            ...   \n",
       "16908           a0CU000000DZZ9I                          66527   \n",
       "16909           a0CU000000E4F0s                         127904   \n",
       "16910           a0CU000000DYpqG                           3720   \n",
       "16911           a0CU000000DYlc8                          34326   \n",
       "16912           a0CU000000DYngr                          67008   \n",
       "\n",
       "            Account ID                           Account Name  \n",
       "0      001U000000WSABn                      MITYBILT PRODUCTS  \n",
       "1      001U0000007fy5P           COLE INTERNATIONAL - HALIFAX  \n",
       "2      0010B00001w2sZ5                            ITR America  \n",
       "3      001U000000WSAAG               MILLER & SMITH FOODS INC  \n",
       "4      001U000000WS7yL              DALCAM SANITATION SOLUTIO  \n",
       "...                ...                                    ...  \n",
       "16908  001U000000WSV6A              GCR Tire Centre - Moncton  \n",
       "16909  001U000000WSIi9                         WHEELS CLIPPER  \n",
       "16910  001U000000WS6p1                 ATLANTIC PACKAGING PRD  \n",
       "16911  001U000000WS9Wf  KELTIC TRANSPORTATION Head Office MTN  \n",
       "16912  001U000000WS8bW               FLAIR FLEXIBLE PACKAGING  \n",
       "\n",
       "[16913 rows x 18 columns]"
      ]
     },
     "execution_count": 4,
     "metadata": {},
     "output_type": "execute_result"
    }
   ],
   "source": [
    "opportunities"
   ]
  },
  {
   "cell_type": "code",
   "execution_count": 5,
   "metadata": {},
   "outputs": [
    {
     "name": "stdout",
     "output_type": "stream",
     "text": [
      "<class 'pandas.core.frame.DataFrame'>\n",
      "RangeIndex: 16913 entries, 0 to 16912\n",
      "Data columns (total 18 columns):\n",
      " #   Column                          Non-Null Count  Dtype  \n",
      "---  ------                          --------------  -----  \n",
      " 0   Opportunity ID                  16913 non-null  object \n",
      " 1   Opportunity Name                16913 non-null  object \n",
      " 2   Type                            16913 non-null  object \n",
      " 3   Stage                           16913 non-null  object \n",
      " 4   Reason                          15867 non-null  object \n",
      " 5   Revenue Potential               16873 non-null  float64\n",
      " 6   Created Date                    16913 non-null  object \n",
      " 7   Close Date                      16913 non-null  object \n",
      " 8   Service Offering Name           15670 non-null  object \n",
      " 9   Annual Revenue Potential        16873 non-null  float64\n",
      " 10  User ID                         16913 non-null  object \n",
      " 11  Opportunity Owner               16913 non-null  object \n",
      " 12  Owner Role                      16911 non-null  object \n",
      " 13  Opportunity Owner: Department   16908 non-null  object \n",
      " 14  Account Number: Record ID       16913 non-null  object \n",
      " 15  Account Number: Account Number  16913 non-null  object \n",
      " 16  Account ID                      16913 non-null  object \n",
      " 17  Account Name                    16913 non-null  object \n",
      "dtypes: float64(2), object(16)\n",
      "memory usage: 2.3+ MB\n"
     ]
    }
   ],
   "source": [
    "opportunities.info()"
   ]
  },
  {
   "cell_type": "code",
   "execution_count": 12,
   "metadata": {},
   "outputs": [
    {
     "data": {
      "text/plain": [
       "array(['Closed Lost', 'Closed Won'], dtype=object)"
      ]
     },
     "execution_count": 12,
     "metadata": {},
     "output_type": "execute_result"
    }
   ],
   "source": [
    "# Let's remove all the values that are not in Stage \"Closed Won\" or \"Closed Lost\"\n",
    "\n",
    "opportunities = opportunities[opportunities['Stage'].isin([\"Closed Won\", \"Closed Lost\"])]\n",
    "\n",
    "# Let's check the values\n",
    "opportunities['Stage'].unique()"
   ]
  },
  {
   "cell_type": "code",
   "execution_count": 13,
   "metadata": {},
   "outputs": [],
   "source": [
    "opportunities.rename(columns={'Opportunity Owner: Department':'Department'}, inplace=True)"
   ]
  },
  {
   "cell_type": "code",
   "execution_count": 18,
   "metadata": {},
   "outputs": [
    {
     "name": "stdout",
     "output_type": "stream",
     "text": [
      "<class 'pandas.core.frame.DataFrame'>\n",
      "Int64Index: 15869 entries, 1 to 16912\n",
      "Data columns (total 19 columns):\n",
      " #   Column                          Non-Null Count  Dtype  \n",
      "---  ------                          --------------  -----  \n",
      " 0   Opportunity ID                  15869 non-null  object \n",
      " 1   Opportunity Name                15869 non-null  object \n",
      " 2   Type                            15869 non-null  object \n",
      " 3   Stage                           15869 non-null  object \n",
      " 4   Reason                          15867 non-null  object \n",
      " 5   Revenue Potential               15832 non-null  float64\n",
      " 6   Created Date                    15869 non-null  object \n",
      " 7   Close Date                      15869 non-null  object \n",
      " 8   Service Offering Name           14663 non-null  object \n",
      " 9   Annual Revenue Potential        15832 non-null  float64\n",
      " 10  User ID                         15869 non-null  object \n",
      " 11  Opportunity Owner               15869 non-null  object \n",
      " 12  Owner Role                      15868 non-null  object \n",
      " 13  Department                      15865 non-null  object \n",
      " 14  Account Number: Record ID       15869 non-null  object \n",
      " 15  Account Number: Account Number  15869 non-null  object \n",
      " 16  Account ID                      15869 non-null  object \n",
      " 17  Account Name                    15869 non-null  object \n",
      " 18  Win                             15869 non-null  int64  \n",
      "dtypes: float64(2), int64(1), object(16)\n",
      "memory usage: 2.4+ MB\n"
     ]
    }
   ],
   "source": [
    "opportunities.info()"
   ]
  },
  {
   "cell_type": "code",
   "execution_count": 49,
   "metadata": {},
   "outputs": [
    {
     "ename": "KeyError",
     "evalue": "'Department'",
     "output_type": "error",
     "traceback": [
      "\u001b[0;31m---------------------------------------------------------------------------\u001b[0m",
      "\u001b[0;31mKeyError\u001b[0m                                  Traceback (most recent call last)",
      "\u001b[0;32m~/gbc/lib/python3.8/site-packages/pandas/core/indexes/base.py\u001b[0m in \u001b[0;36mget_loc\u001b[0;34m(self, key, method, tolerance)\u001b[0m\n\u001b[1;32m   2894\u001b[0m             \u001b[0;32mtry\u001b[0m\u001b[0;34m:\u001b[0m\u001b[0;34m\u001b[0m\u001b[0;34m\u001b[0m\u001b[0m\n\u001b[0;32m-> 2895\u001b[0;31m                 \u001b[0;32mreturn\u001b[0m \u001b[0mself\u001b[0m\u001b[0;34m.\u001b[0m\u001b[0m_engine\u001b[0m\u001b[0;34m.\u001b[0m\u001b[0mget_loc\u001b[0m\u001b[0;34m(\u001b[0m\u001b[0mcasted_key\u001b[0m\u001b[0;34m)\u001b[0m\u001b[0;34m\u001b[0m\u001b[0;34m\u001b[0m\u001b[0m\n\u001b[0m\u001b[1;32m   2896\u001b[0m             \u001b[0;32mexcept\u001b[0m \u001b[0mKeyError\u001b[0m \u001b[0;32mas\u001b[0m \u001b[0merr\u001b[0m\u001b[0;34m:\u001b[0m\u001b[0;34m\u001b[0m\u001b[0;34m\u001b[0m\u001b[0m\n",
      "\u001b[0;32mpandas/_libs/index.pyx\u001b[0m in \u001b[0;36mpandas._libs.index.IndexEngine.get_loc\u001b[0;34m()\u001b[0m\n",
      "\u001b[0;32mpandas/_libs/index.pyx\u001b[0m in \u001b[0;36mpandas._libs.index.IndexEngine.get_loc\u001b[0;34m()\u001b[0m\n",
      "\u001b[0;32mpandas/_libs/hashtable_class_helper.pxi\u001b[0m in \u001b[0;36mpandas._libs.hashtable.PyObjectHashTable.get_item\u001b[0;34m()\u001b[0m\n",
      "\u001b[0;32mpandas/_libs/hashtable_class_helper.pxi\u001b[0m in \u001b[0;36mpandas._libs.hashtable.PyObjectHashTable.get_item\u001b[0;34m()\u001b[0m\n",
      "\u001b[0;31mKeyError\u001b[0m: 'Department'",
      "\nThe above exception was the direct cause of the following exception:\n",
      "\u001b[0;31mKeyError\u001b[0m                                  Traceback (most recent call last)",
      "\u001b[0;32m<ipython-input-49-3e9893ffadf7>\u001b[0m in \u001b[0;36m<module>\u001b[0;34m\u001b[0m\n\u001b[0;32m----> 1\u001b[0;31m \u001b[0mopportunities\u001b[0m\u001b[0;34m[\u001b[0m\u001b[0;34m'Department'\u001b[0m\u001b[0;34m]\u001b[0m\u001b[0;34m.\u001b[0m\u001b[0mvalue_counts\u001b[0m\u001b[0;34m(\u001b[0m\u001b[0;34m)\u001b[0m\u001b[0;34m\u001b[0m\u001b[0;34m\u001b[0m\u001b[0m\n\u001b[0m",
      "\u001b[0;32m~/gbc/lib/python3.8/site-packages/pandas/core/frame.py\u001b[0m in \u001b[0;36m__getitem__\u001b[0;34m(self, key)\u001b[0m\n\u001b[1;32m   2900\u001b[0m             \u001b[0;32mif\u001b[0m \u001b[0mself\u001b[0m\u001b[0;34m.\u001b[0m\u001b[0mcolumns\u001b[0m\u001b[0;34m.\u001b[0m\u001b[0mnlevels\u001b[0m \u001b[0;34m>\u001b[0m \u001b[0;36m1\u001b[0m\u001b[0;34m:\u001b[0m\u001b[0;34m\u001b[0m\u001b[0;34m\u001b[0m\u001b[0m\n\u001b[1;32m   2901\u001b[0m                 \u001b[0;32mreturn\u001b[0m \u001b[0mself\u001b[0m\u001b[0;34m.\u001b[0m\u001b[0m_getitem_multilevel\u001b[0m\u001b[0;34m(\u001b[0m\u001b[0mkey\u001b[0m\u001b[0;34m)\u001b[0m\u001b[0;34m\u001b[0m\u001b[0;34m\u001b[0m\u001b[0m\n\u001b[0;32m-> 2902\u001b[0;31m             \u001b[0mindexer\u001b[0m \u001b[0;34m=\u001b[0m \u001b[0mself\u001b[0m\u001b[0;34m.\u001b[0m\u001b[0mcolumns\u001b[0m\u001b[0;34m.\u001b[0m\u001b[0mget_loc\u001b[0m\u001b[0;34m(\u001b[0m\u001b[0mkey\u001b[0m\u001b[0;34m)\u001b[0m\u001b[0;34m\u001b[0m\u001b[0;34m\u001b[0m\u001b[0m\n\u001b[0m\u001b[1;32m   2903\u001b[0m             \u001b[0;32mif\u001b[0m \u001b[0mis_integer\u001b[0m\u001b[0;34m(\u001b[0m\u001b[0mindexer\u001b[0m\u001b[0;34m)\u001b[0m\u001b[0;34m:\u001b[0m\u001b[0;34m\u001b[0m\u001b[0;34m\u001b[0m\u001b[0m\n\u001b[1;32m   2904\u001b[0m                 \u001b[0mindexer\u001b[0m \u001b[0;34m=\u001b[0m \u001b[0;34m[\u001b[0m\u001b[0mindexer\u001b[0m\u001b[0;34m]\u001b[0m\u001b[0;34m\u001b[0m\u001b[0;34m\u001b[0m\u001b[0m\n",
      "\u001b[0;32m~/gbc/lib/python3.8/site-packages/pandas/core/indexes/base.py\u001b[0m in \u001b[0;36mget_loc\u001b[0;34m(self, key, method, tolerance)\u001b[0m\n\u001b[1;32m   2895\u001b[0m                 \u001b[0;32mreturn\u001b[0m \u001b[0mself\u001b[0m\u001b[0;34m.\u001b[0m\u001b[0m_engine\u001b[0m\u001b[0;34m.\u001b[0m\u001b[0mget_loc\u001b[0m\u001b[0;34m(\u001b[0m\u001b[0mcasted_key\u001b[0m\u001b[0;34m)\u001b[0m\u001b[0;34m\u001b[0m\u001b[0;34m\u001b[0m\u001b[0m\n\u001b[1;32m   2896\u001b[0m             \u001b[0;32mexcept\u001b[0m \u001b[0mKeyError\u001b[0m \u001b[0;32mas\u001b[0m \u001b[0merr\u001b[0m\u001b[0;34m:\u001b[0m\u001b[0;34m\u001b[0m\u001b[0;34m\u001b[0m\u001b[0m\n\u001b[0;32m-> 2897\u001b[0;31m                 \u001b[0;32mraise\u001b[0m \u001b[0mKeyError\u001b[0m\u001b[0;34m(\u001b[0m\u001b[0mkey\u001b[0m\u001b[0;34m)\u001b[0m \u001b[0;32mfrom\u001b[0m \u001b[0merr\u001b[0m\u001b[0;34m\u001b[0m\u001b[0;34m\u001b[0m\u001b[0m\n\u001b[0m\u001b[1;32m   2898\u001b[0m \u001b[0;34m\u001b[0m\u001b[0m\n\u001b[1;32m   2899\u001b[0m         \u001b[0;32mif\u001b[0m \u001b[0mtolerance\u001b[0m \u001b[0;32mis\u001b[0m \u001b[0;32mnot\u001b[0m \u001b[0;32mNone\u001b[0m\u001b[0;34m:\u001b[0m\u001b[0;34m\u001b[0m\u001b[0;34m\u001b[0m\u001b[0m\n",
      "\u001b[0;31mKeyError\u001b[0m: 'Department'"
     ]
    }
   ],
   "source": [
    "opportunities['Department'].value_counts()"
   ]
  },
  {
   "cell_type": "code",
   "execution_count": 48,
   "metadata": {},
   "outputs": [
    {
     "ename": "NameError",
     "evalue": "name 'mean' is not defined",
     "output_type": "error",
     "traceback": [
      "\u001b[0;31m---------------------------------------------------------------------------\u001b[0m",
      "\u001b[0;31mNameError\u001b[0m                                 Traceback (most recent call last)",
      "\u001b[0;32m<ipython-input-48-72bc83cdfc6c>\u001b[0m in \u001b[0;36m<module>\u001b[0;34m\u001b[0m\n\u001b[0;32m----> 1\u001b[0;31m ax = sns.barplot(y=\"Department\", x=\"Win\", data=opportunities, estimator=mean,\\\n\u001b[0m\u001b[1;32m      2\u001b[0m                 \u001b[0morient\u001b[0m\u001b[0;34m=\u001b[0m\u001b[0;34m\"h\"\u001b[0m\u001b[0;34m,\u001b[0m \u001b[0mci\u001b[0m\u001b[0;34m=\u001b[0m\u001b[0;32mNone\u001b[0m\u001b[0;34m,\u001b[0m\u001b[0;34m\u001b[0m\u001b[0;34m\u001b[0m\u001b[0m\n\u001b[1;32m      3\u001b[0m                 order=['Quebec Freight','National Accts Freight','Ontario Freight',\\\n\u001b[1;32m      4\u001b[0m                       \u001b[0;34m'West Freight'\u001b[0m\u001b[0;34m,\u001b[0m\u001b[0;34m'Ontario National Accounts Freight'\u001b[0m\u001b[0;34m,\u001b[0m\u001b[0;34m\u001b[0m\u001b[0;34m\u001b[0m\u001b[0m\n\u001b[1;32m      5\u001b[0m                       \u001b[0;34m'Maritimes Freight'\u001b[0m\u001b[0;34m,\u001b[0m\u001b[0;31m\\\u001b[0m\u001b[0;34m\u001b[0m\u001b[0;34m\u001b[0m\u001b[0m\n",
      "\u001b[0;31mNameError\u001b[0m: name 'mean' is not defined"
     ]
    }
   ],
   "source": [
    "ax = sns.barplot(y=\"Department\", x=\"Win\", data=opportunities, estimator=mean,\\\n",
    "                orient=\"h\", ci=None, \n",
    "                order=['Quebec Freight','National Accts Freight','Ontario Freight',\\\n",
    "                      'West Freight','Ontario National Accounts Freight',\n",
    "                      'Maritimes Freight',\\\n",
    "                      \"Small Enterprise Sales\"])\n",
    "plt.title(\"Percent of Winning Opportunities by Department \\n (Only Departments with > 100 \\\n",
    "Opportunities shown)\");\n",
    "#plt.xticks([\"0\",\"10\",\"20\",\"30\",\"40\",\"50\",\"60\"])\n",
    "plt.ylabel(\"Department\")\n",
    "plt.xlabel(\"Winning Percentage\");\n"
   ]
  },
  {
   "cell_type": "markdown",
   "metadata": {},
   "source": [
    "## Appendix A"
   ]
  },
  {
   "cell_type": "markdown",
   "metadata": {},
   "source": [
    "The following section contains the Python code for data cleaning and visualization used in this project."
   ]
  },
  {
   "cell_type": "markdown",
   "metadata": {},
   "source": [
    "### Import Libraries and Load Data"
   ]
  },
  {
   "cell_type": "markdown",
   "metadata": {},
   "source": [
    "The data were received in Excel files. We must import the necessary libraries and load the data."
   ]
  },
  {
   "cell_type": "code",
   "execution_count": 5,
   "metadata": {},
   "outputs": [],
   "source": [
    "import pandas as pd\n",
    "import numpy as np\n",
    "import seaborn as sns\n",
    "import matplotlib.pyplot as plt"
   ]
  },
  {
   "cell_type": "code",
   "execution_count": 6,
   "metadata": {},
   "outputs": [],
   "source": [
    "opportunities = pd.read_csv(\"data/AM - Opportunities.csv\", \\\n",
    "                            encoding=\"latin-1\")"
   ]
  },
  {
   "cell_type": "code",
   "execution_count": 7,
   "metadata": {},
   "outputs": [
    {
     "name": "stderr",
     "output_type": "stream",
     "text": [
      "/Users/alexeimarcilio/gbc/lib/python3.8/site-packages/IPython/core/interactiveshell.py:3145: DtypeWarning: Columns (21,26,28,29,30,31,35,36) have mixed types.Specify dtype option on import or set low_memory=False.\n",
      "  has_raised = await self.run_ast_nodes(code_ast.body, cell_name,\n"
     ]
    }
   ],
   "source": [
    "tasks = pd.read_csv(\"data/TasksAll.csv\",\\\n",
    "                   encoding=\"latin-1\")"
   ]
  },
  {
   "cell_type": "markdown",
   "metadata": {},
   "source": [
    "### Data Cleaning"
   ]
  },
  {
   "cell_type": "code",
   "execution_count": 8,
   "metadata": {},
   "outputs": [],
   "source": [
    "# Create a column \"Win\" which is 1 if \"Closed Won\" and 0 if not.\n",
    "# We check if the column exists first\n",
    "\n",
    "if 'Win' not in opportunities.columns:\n",
    "    opportunities['Win'] = [1 if x =='Closed Won' else 0 for x in opportunities['Stage']] "
   ]
  },
  {
   "cell_type": "code",
   "execution_count": 9,
   "metadata": {},
   "outputs": [],
   "source": [
    "# Update the age of all open opportunities to Feb 7, 2018\n",
    "opportunities.loc[~opportunities['Stage'].isin([\"Closed Won\", \"Closed Lost\"]),['Close Date']] = '7/2/2018'"
   ]
  },
  {
   "cell_type": "code",
   "execution_count": 10,
   "metadata": {},
   "outputs": [],
   "source": [
    "# Rename ID Column\n",
    "opportunities.rename({'Opportunity ID': 'OppID'}, axis=1, inplace=True)"
   ]
  },
  {
   "cell_type": "code",
   "execution_count": 11,
   "metadata": {},
   "outputs": [],
   "source": [
    "# Update the date fields to date format\n",
    "opportunities['Created Date'] = pd.to_datetime(opportunities['Created Date'],\\\n",
    "                                              format=\"%d/%m/%Y\")\n",
    "opportunities['Close Date'] = pd.to_datetime(opportunities['Close Date'],\\\n",
    "                                              format=\"%d/%m/%Y\")"
   ]
  },
  {
   "cell_type": "code",
   "execution_count": 12,
   "metadata": {},
   "outputs": [],
   "source": [
    "# Update Account IDs to strings\n",
    "opportunities['Account ID'] = opportunities['Account ID'].astype(str)\n",
    "# Update Opportunity IDs to strings\n",
    "opportunities['OppID'] = opportunities['OppID'].astype(str)\n",
    "# Update WhatID in Tasks to string\n",
    "tasks['WHATID'] = tasks['WHATID'].astype(str)"
   ]
  },
  {
   "cell_type": "code",
   "execution_count": 13,
   "metadata": {},
   "outputs": [],
   "source": [
    "# Calculate the age in days and create a new column\n",
    "opportunities['AgeInDays'] = (opportunities['Close Date'] - opportunities['Created Date'])\n",
    "opportunities['AgeInDays'] = opportunities['AgeInDays'] / np.timedelta64(1, 'D')\n",
    "opportunities['AgeInDays'] = opportunities['AgeInDays'].astype(int)"
   ]
  },
  {
   "cell_type": "code",
   "execution_count": 14,
   "metadata": {},
   "outputs": [],
   "source": [
    "# Opportunity Calls are all the calls made on that opportunity. \n",
    "# The WhatID in Tasks = opportunityID\n",
    "# There are three types of activities - Calls, Task, and Emails to lets capture each seperately\n"
   ]
  },
  {
   "cell_type": "code",
   "execution_count": 15,
   "metadata": {},
   "outputs": [],
   "source": [
    "# Let us create dummy variables for each type of task and group by OpportunityID (WhatID)\n",
    "features = [\"TASKSUBTYPE\"]\n",
    "taskCallsDum = pd.get_dummies(tasks[features])\n",
    "tasksCalls = tasks[['WHATID','TASKSUBTYPE']]\n",
    "dfCalls = pd.concat([tasksCalls, taskCallsDum], axis=1)\n",
    "dfCalls.head(5)\n",
    "dfCalls.columns = ['OppID', 'Type', 'Calls', 'Emails', 'Tasks']"
   ]
  },
  {
   "cell_type": "code",
   "execution_count": 16,
   "metadata": {},
   "outputs": [],
   "source": [
    "# Now we can group by OppID\n",
    "dfCallsGrouped = dfCalls.groupby('OppID')\n",
    "CallsCount = dfCallsGrouped.sum()"
   ]
  },
  {
   "cell_type": "code",
   "execution_count": 17,
   "metadata": {},
   "outputs": [],
   "source": [
    "CallsCount.reset_index(level=0, inplace=True)\n",
    "# The OppIDs in Tasks have an addition 3 characters - let's truncate them\n",
    "CallsCount['OppID'] = CallsCount['OppID'].str[:15]"
   ]
  },
  {
   "cell_type": "code",
   "execution_count": 18,
   "metadata": {},
   "outputs": [],
   "source": [
    "# Let's merge the tables so we have coumns for total Calls\n",
    "Opps = pd.merge(opportunities, CallsCount, how='left', on=['OppID'])"
   ]
  },
  {
   "cell_type": "code",
   "execution_count": 21,
   "metadata": {},
   "outputs": [
    {
     "data": {
      "image/png": "[encoded data removed]",
      "text/plain": [
       "<Figure size 432x288 with 1 Axes>"
      ]
     },
     "metadata": {
      "needs_background": "light"
     },
     "output_type": "display_data"
    }
   ],
   "source": [
    "ax = sns.regplot(x=\"Revenue Potential\", y=\"Emails\", data=Opps)"
   ]
  },
  {
   "cell_type": "code",
   "execution_count": 22,
   "metadata": {},
   "outputs": [
    {
     "data": {
      "image/png": "[encoded data removed]",
      "text/plain": [
       "<Figure size 432x288 with 1 Axes>"
      ]
     },
     "metadata": {
      "needs_background": "light"
     },
     "output_type": "display_data"
    }
   ],
   "source": [
    "ax = sns.regplot(x=\"Revenue Potential\", y=\"Calls\", data=Opps)"
   ]
  },
  {
   "cell_type": "code",
   "execution_count": 23,
   "metadata": {},
   "outputs": [
    {
     "data": {
      "image/png": "[encoded data removed]",
      "text/plain": [
       "<Figure size 432x288 with 1 Axes>"
      ]
     },
     "metadata": {
      "needs_background": "light"
     },
     "output_type": "display_data"
    }
   ],
   "source": [
    "ax = sns.regplot(x=\"Win\", y=\"Calls\", data=Opps, x_jitter=.03)"
   ]
  },
  {
   "cell_type": "code",
   "execution_count": 410,
   "metadata": {},
   "outputs": [
    {
     "data": {
      "image/png": "[encoded data removed]",
      "text/plain": [
       "<Figure size 432x288 with 1 Axes>"
      ]
     },
     "metadata": {
      "needs_background": "light"
     },
     "output_type": "display_data"
    }
   ],
   "source": [
    "ax = sns.regplot(x=\"Win\", y=\"Revenue Potential\", data=Opps, x_jitter=.03)"
   ]
  },
  {
   "cell_type": "code",
   "execution_count": 417,
   "metadata": {},
   "outputs": [
    {
     "data": {
      "image/png": "[encoded data removed]",
      "text/plain": [
       "<Figure size 432x288 with 1 Axes>"
      ]
     },
     "metadata": {
      "needs_background": "light"
     },
     "output_type": "display_data"
    }
   ],
   "source": [
    "ax = sns.regplot(x=\"Win\", y=\"AgeInDays\", data=Opps, x_jitter=.03)"
   ]
  },
  {
   "cell_type": "code",
   "execution_count": 209,
   "metadata": {},
   "outputs": [
    {
     "data": {
      "image/png": "[encoded data removed]",
      "text/plain": [
       "<Figure size 432x288 with 1 Axes>"
      ]
     },
     "metadata": {
      "needs_background": "light"
     },
     "output_type": "display_data"
    }
   ],
   "source": [
    "ax = sns.regplot(x=\"Emails\", y=\"Calls\", data=Opps, x_jitter=0.2)"
   ]
  },
  {
   "cell_type": "code",
   "execution_count": 24,
   "metadata": {},
   "outputs": [],
   "source": [
    "WinAge = Opps.groupby('Win')"
   ]
  },
  {
   "cell_type": "code",
   "execution_count": 26,
   "metadata": {},
   "outputs": [],
   "source": [
    "winByAge = (WinAge.mean())"
   ]
  },
  {
   "cell_type": "code",
   "execution_count": 29,
   "metadata": {},
   "outputs": [],
   "source": [
    "winByAge.reset_index(level=0, inplace=True)"
   ]
  },
  {
   "cell_type": "code",
   "execution_count": 37,
   "metadata": {},
   "outputs": [],
   "source": [
    "winByAge['Win'] = winByAge['Win'].astype(str)"
   ]
  },
  {
   "cell_type": "code",
   "execution_count": 45,
   "metadata": {},
   "outputs": [],
   "source": [
    "winByAge['Win'] = ['Lose','Win']"
   ]
  },
  {
   "cell_type": "code",
   "execution_count": 52,
   "metadata": {},
   "outputs": [
    {
     "data": {
      "image/png": "[encoded data removed]",
      "text/plain": [
       "<Figure size 432x288 with 1 Axes>"
      ]
     },
     "metadata": {
      "needs_background": "light"
     },
     "output_type": "display_data"
    }
   ],
   "source": [
    "# Check the mean age in days of winning vs losing opportunities\n",
    "sns.barplot(data=winByAge, y=\"Win\", x='AgeInDays', orient=\"h\")\n",
    "plt.title(\"Average # of Days to Close Winning vs. Losing Opportunities\");\n",
    "#plt.xticks([\"0\",\"10\",\"20\",\"30\",\"40\",\"50\",\"60\"])\n",
    "plt.ylabel(\"Win or Lose\")\n",
    "plt.yticks([0,1])\n",
    "plt.xlabel(\"Age in Days\");"
   ]
  },
  {
   "cell_type": "code",
   "execution_count": 98,
   "metadata": {},
   "outputs": [],
   "source": [
    "# Let's look at win rate by Department\n",
    "deptGroup = Opps.groupby('Opportunity Owner: Department')\n",
    "depWinRate = deptGroup.mean('Win')"
   ]
  },
  {
   "cell_type": "code",
   "execution_count": 99,
   "metadata": {},
   "outputs": [],
   "source": [
    "depWinRate.reset_index(level=0, inplace=True)"
   ]
  },
  {
   "cell_type": "code",
   "execution_count": 100,
   "metadata": {},
   "outputs": [],
   "source": [
    "depWinRate = depWinRate[depWinRate['Win'] > 0]\n",
    "depWinRate['Win'] = depWinRate['Win'] * 100\n",
    "depWinRate.sort_values('Win',ascending=False, inplace=True)"
   ]
  },
  {
   "cell_type": "code",
   "execution_count": 101,
   "metadata": {},
   "outputs": [
    {
     "data": {
      "image/png": "[encoded data removed]",
      "text/plain": [
       "<Figure size 432x288 with 1 Axes>"
      ]
     },
     "metadata": {
      "needs_background": "light"
     },
     "output_type": "display_data"
    }
   ],
   "source": [
    "# Check the winning Rate by Department\n",
    "sns.barplot(data=depWinRate, y='Opportunity Owner: Department', x='Win', orient=\"h\")\n",
    "plt.title(\"Percent of Deals won by Department\");\n",
    "#plt.xticks([100,200,300,400,500,60])\n",
    "plt.ylabel(\"Department\")\n",
    "plt.xlabel(\"Percent of Deals Won\");"
   ]
  },
  {
   "cell_type": "code",
   "execution_count": 102,
   "metadata": {},
   "outputs": [],
   "source": [
    "ageGrp = Opps.groupby('AgeInDays')"
   ]
  },
  {
   "cell_type": "code",
   "execution_count": 109,
   "metadata": {},
   "outputs": [
    {
     "data": {
      "text/html": [
       "<div>\n",
       "<style scoped>\n",
       "    .dataframe tbody tr th:only-of-type {\n",
       "        vertical-align: middle;\n",
       "    }\n",
       "\n",
       "    .dataframe tbody tr th {\n",
       "        vertical-align: top;\n",
       "    }\n",
       "\n",
       "    .dataframe thead th {\n",
       "        text-align: right;\n",
       "    }\n",
       "</style>\n",
       "<table border=\"1\" class=\"dataframe\">\n",
       "  <thead>\n",
       "    <tr style=\"text-align: right;\">\n",
       "      <th></th>\n",
       "      <th>Revenue Potential</th>\n",
       "      <th>Annual Revenue Potential</th>\n",
       "      <th>Win</th>\n",
       "      <th>Calls</th>\n",
       "      <th>Emails</th>\n",
       "      <th>Tasks</th>\n",
       "    </tr>\n",
       "    <tr>\n",
       "      <th>AgeInDays</th>\n",
       "      <th></th>\n",
       "      <th></th>\n",
       "      <th></th>\n",
       "      <th></th>\n",
       "      <th></th>\n",
       "      <th></th>\n",
       "    </tr>\n",
       "  </thead>\n",
       "  <tbody>\n",
       "    <tr>\n",
       "      <th>-499</th>\n",
       "      <td>40000.0</td>\n",
       "      <td>40000.0</td>\n",
       "      <td>1.0</td>\n",
       "      <td>NaN</td>\n",
       "      <td>NaN</td>\n",
       "      <td>NaN</td>\n",
       "    </tr>\n",
       "    <tr>\n",
       "      <th>-45</th>\n",
       "      <td>5000.0</td>\n",
       "      <td>5000.0</td>\n",
       "      <td>1.0</td>\n",
       "      <td>NaN</td>\n",
       "      <td>NaN</td>\n",
       "      <td>NaN</td>\n",
       "    </tr>\n",
       "    <tr>\n",
       "      <th>-38</th>\n",
       "      <td>200000.0</td>\n",
       "      <td>200000.0</td>\n",
       "      <td>1.0</td>\n",
       "      <td>NaN</td>\n",
       "      <td>NaN</td>\n",
       "      <td>NaN</td>\n",
       "    </tr>\n",
       "    <tr>\n",
       "      <th>-35</th>\n",
       "      <td>19250.0</td>\n",
       "      <td>19250.0</td>\n",
       "      <td>1.0</td>\n",
       "      <td>0.0</td>\n",
       "      <td>0.0</td>\n",
       "      <td>1.0</td>\n",
       "    </tr>\n",
       "    <tr>\n",
       "      <th>-31</th>\n",
       "      <td>100000.0</td>\n",
       "      <td>100000.0</td>\n",
       "      <td>1.0</td>\n",
       "      <td>NaN</td>\n",
       "      <td>NaN</td>\n",
       "      <td>NaN</td>\n",
       "    </tr>\n",
       "    <tr>\n",
       "      <th>...</th>\n",
       "      <td>...</td>\n",
       "      <td>...</td>\n",
       "      <td>...</td>\n",
       "      <td>...</td>\n",
       "      <td>...</td>\n",
       "      <td>...</td>\n",
       "    </tr>\n",
       "    <tr>\n",
       "      <th>872</th>\n",
       "      <td>0.0</td>\n",
       "      <td>0.0</td>\n",
       "      <td>0.0</td>\n",
       "      <td>NaN</td>\n",
       "      <td>NaN</td>\n",
       "      <td>NaN</td>\n",
       "    </tr>\n",
       "    <tr>\n",
       "      <th>893</th>\n",
       "      <td>1000000.0</td>\n",
       "      <td>1000000.0</td>\n",
       "      <td>0.0</td>\n",
       "      <td>NaN</td>\n",
       "      <td>NaN</td>\n",
       "      <td>NaN</td>\n",
       "    </tr>\n",
       "    <tr>\n",
       "      <th>910</th>\n",
       "      <td>24000.0</td>\n",
       "      <td>24000.0</td>\n",
       "      <td>1.0</td>\n",
       "      <td>0.0</td>\n",
       "      <td>0.0</td>\n",
       "      <td>2.0</td>\n",
       "    </tr>\n",
       "    <tr>\n",
       "      <th>1013</th>\n",
       "      <td>0.0</td>\n",
       "      <td>0.0</td>\n",
       "      <td>0.0</td>\n",
       "      <td>0.0</td>\n",
       "      <td>0.0</td>\n",
       "      <td>12.0</td>\n",
       "    </tr>\n",
       "    <tr>\n",
       "      <th>1239</th>\n",
       "      <td>62400.0</td>\n",
       "      <td>62400.0</td>\n",
       "      <td>0.0</td>\n",
       "      <td>0.0</td>\n",
       "      <td>0.0</td>\n",
       "      <td>2.0</td>\n",
       "    </tr>\n",
       "  </tbody>\n",
       "</table>\n",
       "<p>538 rows × 6 columns</p>\n",
       "</div>"
      ],
      "text/plain": [
       "           Revenue Potential  Annual Revenue Potential  Win  Calls  Emails  \\\n",
       "AgeInDays                                                                    \n",
       "-499                 40000.0                   40000.0  1.0    NaN     NaN   \n",
       "-45                   5000.0                    5000.0  1.0    NaN     NaN   \n",
       "-38                 200000.0                  200000.0  1.0    NaN     NaN   \n",
       "-35                  19250.0                   19250.0  1.0    0.0     0.0   \n",
       "-31                 100000.0                  100000.0  1.0    NaN     NaN   \n",
       "...                      ...                       ...  ...    ...     ...   \n",
       " 872                     0.0                       0.0  0.0    NaN     NaN   \n",
       " 893               1000000.0                 1000000.0  0.0    NaN     NaN   \n",
       " 910                 24000.0                   24000.0  1.0    0.0     0.0   \n",
       " 1013                    0.0                       0.0  0.0    0.0     0.0   \n",
       " 1239                62400.0                   62400.0  0.0    0.0     0.0   \n",
       "\n",
       "           Tasks  \n",
       "AgeInDays         \n",
       "-499         NaN  \n",
       "-45          NaN  \n",
       "-38          NaN  \n",
       "-35          1.0  \n",
       "-31          NaN  \n",
       "...          ...  \n",
       " 872         NaN  \n",
       " 893         NaN  \n",
       " 910         2.0  \n",
       " 1013       12.0  \n",
       " 1239        2.0  \n",
       "\n",
       "[538 rows x 6 columns]"
      ]
     },
     "execution_count": 109,
     "metadata": {},
     "output_type": "execute_result"
    }
   ],
   "source": [
    "ageGrp.mean()"
   ]
  },
  {
   "cell_type": "code",
   "execution_count": 110,
   "metadata": {},
   "outputs": [
    {
     "data": {
      "text/html": [
       "<div>\n",
       "<style scoped>\n",
       "    .dataframe tbody tr th:only-of-type {\n",
       "        vertical-align: middle;\n",
       "    }\n",
       "\n",
       "    .dataframe tbody tr th {\n",
       "        vertical-align: top;\n",
       "    }\n",
       "\n",
       "    .dataframe thead th {\n",
       "        text-align: right;\n",
       "    }\n",
       "</style>\n",
       "<table border=\"1\" class=\"dataframe\">\n",
       "  <thead>\n",
       "    <tr style=\"text-align: right;\">\n",
       "      <th></th>\n",
       "      <th>AgeInDays</th>\n",
       "      <th>Win</th>\n",
       "    </tr>\n",
       "  </thead>\n",
       "  <tbody>\n",
       "    <tr>\n",
       "      <th>0</th>\n",
       "      <td>38</td>\n",
       "      <td>0</td>\n",
       "    </tr>\n",
       "    <tr>\n",
       "      <th>1</th>\n",
       "      <td>22</td>\n",
       "      <td>0</td>\n",
       "    </tr>\n",
       "    <tr>\n",
       "      <th>2</th>\n",
       "      <td>0</td>\n",
       "      <td>1</td>\n",
       "    </tr>\n",
       "    <tr>\n",
       "      <th>3</th>\n",
       "      <td>0</td>\n",
       "      <td>1</td>\n",
       "    </tr>\n",
       "    <tr>\n",
       "      <th>4</th>\n",
       "      <td>38</td>\n",
       "      <td>0</td>\n",
       "    </tr>\n",
       "    <tr>\n",
       "      <th>...</th>\n",
       "      <td>...</td>\n",
       "      <td>...</td>\n",
       "    </tr>\n",
       "    <tr>\n",
       "      <th>16908</th>\n",
       "      <td>239</td>\n",
       "      <td>1</td>\n",
       "    </tr>\n",
       "    <tr>\n",
       "      <th>16909</th>\n",
       "      <td>100</td>\n",
       "      <td>0</td>\n",
       "    </tr>\n",
       "    <tr>\n",
       "      <th>16910</th>\n",
       "      <td>146</td>\n",
       "      <td>0</td>\n",
       "    </tr>\n",
       "    <tr>\n",
       "      <th>16911</th>\n",
       "      <td>145</td>\n",
       "      <td>0</td>\n",
       "    </tr>\n",
       "    <tr>\n",
       "      <th>16912</th>\n",
       "      <td>90</td>\n",
       "      <td>1</td>\n",
       "    </tr>\n",
       "  </tbody>\n",
       "</table>\n",
       "<p>16913 rows × 2 columns</p>\n",
       "</div>"
      ],
      "text/plain": [
       "       AgeInDays  Win\n",
       "0             38    0\n",
       "1             22    0\n",
       "2              0    1\n",
       "3              0    1\n",
       "4             38    0\n",
       "...          ...  ...\n",
       "16908        239    1\n",
       "16909        100    0\n",
       "16910        146    0\n",
       "16911        145    0\n",
       "16912         90    1\n",
       "\n",
       "[16913 rows x 2 columns]"
      ]
     },
     "execution_count": 110,
     "metadata": {},
     "output_type": "execute_result"
    }
   ],
   "source": [
    "Opps[['AgeInDays','Win']]"
   ]
  },
  {
   "cell_type": "code",
   "execution_count": 198,
   "metadata": {},
   "outputs": [],
   "source": [
    "# Add a Week column every 7 days\n",
    "import math\n",
    "Opps['WeeksPassed'] = ((Opps['AgeInDays'] / 7))\n",
    "Opps['WeeksPassed'] = Opps['WeeksPassed'].apply(math.trunc)"
   ]
  },
  {
   "cell_type": "code",
   "execution_count": 199,
   "metadata": {},
   "outputs": [
    {
     "data": {
      "text/html": [
       "<div>\n",
       "<style scoped>\n",
       "    .dataframe tbody tr th:only-of-type {\n",
       "        vertical-align: middle;\n",
       "    }\n",
       "\n",
       "    .dataframe tbody tr th {\n",
       "        vertical-align: top;\n",
       "    }\n",
       "\n",
       "    .dataframe thead th {\n",
       "        text-align: right;\n",
       "    }\n",
       "</style>\n",
       "<table border=\"1\" class=\"dataframe\">\n",
       "  <thead>\n",
       "    <tr style=\"text-align: right;\">\n",
       "      <th></th>\n",
       "      <th>AgeInDays</th>\n",
       "      <th>WeeksPassed</th>\n",
       "    </tr>\n",
       "  </thead>\n",
       "  <tbody>\n",
       "    <tr>\n",
       "      <th>0</th>\n",
       "      <td>38</td>\n",
       "      <td>5</td>\n",
       "    </tr>\n",
       "    <tr>\n",
       "      <th>1</th>\n",
       "      <td>22</td>\n",
       "      <td>3</td>\n",
       "    </tr>\n",
       "    <tr>\n",
       "      <th>2</th>\n",
       "      <td>0</td>\n",
       "      <td>0</td>\n",
       "    </tr>\n",
       "    <tr>\n",
       "      <th>3</th>\n",
       "      <td>0</td>\n",
       "      <td>0</td>\n",
       "    </tr>\n",
       "    <tr>\n",
       "      <th>4</th>\n",
       "      <td>38</td>\n",
       "      <td>5</td>\n",
       "    </tr>\n",
       "    <tr>\n",
       "      <th>...</th>\n",
       "      <td>...</td>\n",
       "      <td>...</td>\n",
       "    </tr>\n",
       "    <tr>\n",
       "      <th>16908</th>\n",
       "      <td>239</td>\n",
       "      <td>34</td>\n",
       "    </tr>\n",
       "    <tr>\n",
       "      <th>16909</th>\n",
       "      <td>100</td>\n",
       "      <td>14</td>\n",
       "    </tr>\n",
       "    <tr>\n",
       "      <th>16910</th>\n",
       "      <td>146</td>\n",
       "      <td>20</td>\n",
       "    </tr>\n",
       "    <tr>\n",
       "      <th>16911</th>\n",
       "      <td>145</td>\n",
       "      <td>20</td>\n",
       "    </tr>\n",
       "    <tr>\n",
       "      <th>16912</th>\n",
       "      <td>90</td>\n",
       "      <td>12</td>\n",
       "    </tr>\n",
       "  </tbody>\n",
       "</table>\n",
       "<p>16913 rows × 2 columns</p>\n",
       "</div>"
      ],
      "text/plain": [
       "       AgeInDays  WeeksPassed\n",
       "0             38            5\n",
       "1             22            3\n",
       "2              0            0\n",
       "3              0            0\n",
       "4             38            5\n",
       "...          ...          ...\n",
       "16908        239           34\n",
       "16909        100           14\n",
       "16910        146           20\n",
       "16911        145           20\n",
       "16912         90           12\n",
       "\n",
       "[16913 rows x 2 columns]"
      ]
     },
     "execution_count": 199,
     "metadata": {},
     "output_type": "execute_result"
    }
   ],
   "source": [
    "Opps[['AgeInDays','WeeksPassed']]"
   ]
  },
  {
   "cell_type": "code",
   "execution_count": 145,
   "metadata": {},
   "outputs": [],
   "source": [
    "# Let's check win percentage by weeks passed\n",
    "weekGroup = Opps.groupby('WeeksPassed')"
   ]
  },
  {
   "cell_type": "code",
   "execution_count": 176,
   "metadata": {},
   "outputs": [],
   "source": [
    "# Let's check the percentage of Deals one as the opportunities age week by week\n",
    "week = []\n",
    "pct = []\n",
    "for i in range(0,30):\n",
    "    Pct = Opps[Opps['WeeksPassed'] == i]['Win'].mean()\n",
    "    week.append(i)\n",
    "    pct.append(Pct)\n",
    "\n",
    "data = {'Week':week,'Pct':pct}\n",
    "df = pd.DataFrame(data)"
   ]
  },
  {
   "cell_type": "code",
   "execution_count": 194,
   "metadata": {
    "scrolled": true
   },
   "outputs": [
    {
     "data": {
      "image/png": "[encoded data removed]",
      "text/plain": [
       "<Figure size 432x288 with 1 Axes>"
      ]
     },
     "metadata": {
      "needs_background": "light"
     },
     "output_type": "display_data"
    }
   ],
   "source": [
    "# Check the winning Rate by Department\n",
    "sns.lineplot(data=df, y='Pct', x='Week')\n",
    "plt.title(\"Percent of Deals won by Age of Deal in Weeks\");\n",
    "#plt.xticks([100,200,300,400,500,60])\n",
    "plt.ylabel(\"Percent of Deals Won\")\n",
    "plt.xlabel(\"Age of Deal in Weeks\");"
   ]
  },
  {
   "cell_type": "markdown",
   "metadata": {},
   "source": [
    "## Months Passed"
   ]
  },
  {
   "cell_type": "code",
   "execution_count": 200,
   "metadata": {},
   "outputs": [],
   "source": [
    "# Add a Week column every 7 days\n",
    "import math\n",
    "Opps['MonthsPassed'] = ((Opps['AgeInDays'] / 30))\n",
    "Opps['MonthsPassed'] = Opps['MonthsPassed'].apply(math.trunc)"
   ]
  },
  {
   "cell_type": "code",
   "execution_count": 201,
   "metadata": {},
   "outputs": [
    {
     "data": {
      "text/html": [
       "<div>\n",
       "<style scoped>\n",
       "    .dataframe tbody tr th:only-of-type {\n",
       "        vertical-align: middle;\n",
       "    }\n",
       "\n",
       "    .dataframe tbody tr th {\n",
       "        vertical-align: top;\n",
       "    }\n",
       "\n",
       "    .dataframe thead th {\n",
       "        text-align: right;\n",
       "    }\n",
       "</style>\n",
       "<table border=\"1\" class=\"dataframe\">\n",
       "  <thead>\n",
       "    <tr style=\"text-align: right;\">\n",
       "      <th></th>\n",
       "      <th>AgeInDays</th>\n",
       "      <th>MonthsPassed</th>\n",
       "    </tr>\n",
       "  </thead>\n",
       "  <tbody>\n",
       "    <tr>\n",
       "      <th>0</th>\n",
       "      <td>38</td>\n",
       "      <td>1</td>\n",
       "    </tr>\n",
       "    <tr>\n",
       "      <th>1</th>\n",
       "      <td>22</td>\n",
       "      <td>0</td>\n",
       "    </tr>\n",
       "    <tr>\n",
       "      <th>2</th>\n",
       "      <td>0</td>\n",
       "      <td>0</td>\n",
       "    </tr>\n",
       "    <tr>\n",
       "      <th>3</th>\n",
       "      <td>0</td>\n",
       "      <td>0</td>\n",
       "    </tr>\n",
       "    <tr>\n",
       "      <th>4</th>\n",
       "      <td>38</td>\n",
       "      <td>1</td>\n",
       "    </tr>\n",
       "    <tr>\n",
       "      <th>...</th>\n",
       "      <td>...</td>\n",
       "      <td>...</td>\n",
       "    </tr>\n",
       "    <tr>\n",
       "      <th>16908</th>\n",
       "      <td>239</td>\n",
       "      <td>7</td>\n",
       "    </tr>\n",
       "    <tr>\n",
       "      <th>16909</th>\n",
       "      <td>100</td>\n",
       "      <td>3</td>\n",
       "    </tr>\n",
       "    <tr>\n",
       "      <th>16910</th>\n",
       "      <td>146</td>\n",
       "      <td>4</td>\n",
       "    </tr>\n",
       "    <tr>\n",
       "      <th>16911</th>\n",
       "      <td>145</td>\n",
       "      <td>4</td>\n",
       "    </tr>\n",
       "    <tr>\n",
       "      <th>16912</th>\n",
       "      <td>90</td>\n",
       "      <td>3</td>\n",
       "    </tr>\n",
       "  </tbody>\n",
       "</table>\n",
       "<p>16913 rows × 2 columns</p>\n",
       "</div>"
      ],
      "text/plain": [
       "       AgeInDays  MonthsPassed\n",
       "0             38             1\n",
       "1             22             0\n",
       "2              0             0\n",
       "3              0             0\n",
       "4             38             1\n",
       "...          ...           ...\n",
       "16908        239             7\n",
       "16909        100             3\n",
       "16910        146             4\n",
       "16911        145             4\n",
       "16912         90             3\n",
       "\n",
       "[16913 rows x 2 columns]"
      ]
     },
     "execution_count": 201,
     "metadata": {},
     "output_type": "execute_result"
    }
   ],
   "source": [
    "Opps[['AgeInDays','MonthsPassed']]"
   ]
  },
  {
   "cell_type": "code",
   "execution_count": 145,
   "metadata": {},
   "outputs": [],
   "source": [
    "# Let's check win percentage by weeks passed\n",
    "monthGroup = Opps.groupby('MonthsPassed')"
   ]
  },
  {
   "cell_type": "code",
   "execution_count": 205,
   "metadata": {},
   "outputs": [],
   "source": [
    "# Let's check the percentage of Deals one as the opportunities age week by week\n",
    "month = []\n",
    "pct = []\n",
    "for i in range(0,10):\n",
    "    Pct = Opps[Opps['MonthsPassed'] == i]['Win'].mean()\n",
    "    month.append(i)\n",
    "    pct.append(Pct)\n",
    "\n",
    "data = {'Month':month,'Pct':pct}\n",
    "dfMonth = pd.DataFrame(data)"
   ]
  },
  {
   "cell_type": "code",
   "execution_count": 206,
   "metadata": {
    "scrolled": true
   },
   "outputs": [
    {
     "data": {
      "image/png": "[encoded data removed]",
      "text/plain": [
       "<Figure size 432x288 with 1 Axes>"
      ]
     },
     "metadata": {
      "needs_background": "light"
     },
     "output_type": "display_data"
    }
   ],
   "source": [
    "# Check the winning Rate by Department\n",
    "sns.lineplot(data=dfMonth, y='Pct', x='Month')\n",
    "plt.title(\"Percent of Deals won by Age of Deal in Months\");\n",
    "#plt.xticks([100,200,300,400,500,60])\n",
    "plt.ylabel(\"Percent of Deals Won\")\n",
    "plt.xlabel(\"Age of Deal in Months\");"
   ]
  },
  {
   "cell_type": "code",
   "execution_count": 210,
   "metadata": {},
   "outputs": [
    {
     "data": {
      "text/plain": [
       "0.4393661680364217"
      ]
     },
     "execution_count": 210,
     "metadata": {},
     "output_type": "execute_result"
    }
   ],
   "source": [
    "Opps['Win'].mean()"
   ]
  },
  {
   "cell_type": "code",
   "execution_count": null,
   "metadata": {},
   "outputs": [],
   "source": []
  }
 ],
 "metadata": {
  "kernelspec": {
   "display_name": "gbc",
   "language": "python",
   "name": "gbc"
  },
  "language_info": {
   "codemirror_mode": {
    "name": "ipython",
    "version": 3
   },
   "file_extension": ".py",
   "mimetype": "text/x-python",
   "name": "python",
   "nbconvert_exporter": "python",
   "pygments_lexer": "ipython3",
   "version": "3.8.0"
  },
  "latex_envs": {
   "LaTeX_envs_menu_present": true,
   "autoclose": false,
   "autocomplete": true,
   "bibliofile": "biblio.bib",
   "cite_by": "apalike",
   "current_citInitial": 1,
   "eqLabelWithNumbers": true,
   "eqNumInitial": 1,
   "hotkeys": {
    "equation": "Ctrl-E",
    "itemize": "Ctrl-I"
   },
   "labels_anchors": false,
   "latex_user_defs": false,
   "report_style_numbering": false,
   "user_envs_cfg": false
  },
  "toc": {
   "base_numbering": 1,
   "nav_menu": {},
   "number_sections": false,
   "sideBar": true,
   "skip_h1_title": true,
   "title_cell": "Table of Contents",
   "title_sidebar": "Contents",
   "toc_cell": true,
   "toc_position": {
    "height": "calc(100% - 180px)",
    "left": "10px",
    "top": "150px",
    "width": "165px"
   },
   "toc_section_display": true,
   "toc_window_display": false
  }
 },
 "nbformat": 4,
 "nbformat_minor": 4
}
