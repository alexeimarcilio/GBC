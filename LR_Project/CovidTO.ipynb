{
 "cells": [
  {
   "cell_type": "raw",
   "metadata": {},
   "source": [
    "\\setcounter{secnumdepth}{0}\n",
    "\\title{Predicting Covid Cases in Toronto Neighbourhoods: An Analysis using Linear Regression}\n",
    "\\author{Alexei Marcilio}\n",
    "\\date{\\today}\n",
    "\\maketitle\n",
    "\\thispagestyle{empty}\n",
    "\\newpage\n",
    "\\pagenumbering{arabic}"
   ]
  },
  {
   "cell_type": "markdown",
   "metadata": {},
   "source": [
    "## Executive Summary"
   ]
  },
  {
   "cell_type": "markdown",
   "metadata": {},
   "source": [
    "This study used multiple linear regression to predict covid rates in Toronto's 140 neighborhoods using demographic data from Stats Canada. The correlation of these features to the target variable were analyzed in order to limit the number of potential predictors. Features which were highly correlated to each other were removed and an analysis of the p-values were done recursively to eliminate further predictors. Using the IQR method a few neighborhoods were removed that were considered outliers. The final model used only three variables to predict covid rates in the neighborhoods with an $R^2$  value of 0.605. Specifically these variables in the Stats Canada demographic database are know as Black (Visible Minority), Occupations in manufacturing and utilities, and Journey to work Between 12 p.m. and 4:59 a.m. The model was found to be _Rate = 1038 + 157.7 \\* Black\\% + 140.8 \\* ManufactJob + 170.1 \\* WorkNights_. Such a model could be useful in order to determine where to target prescriptive or preemptive action. "
   ]
  },
  {
   "cell_type": "markdown",
   "metadata": {},
   "source": [
    "# Introduction"
   ]
  },
  {
   "cell_type": "markdown",
   "metadata": {},
   "source": [
    "The purpose of this study is to build a linear regression model that will predict the number of covid-19 cases for any Toronto neighborhood based on its demographic data. Predicting covid-19 cases is useful in that an understanding of which socioeconomic factors that influence the growth of disease in a community will help with our understanding of the virus. This knowledge will enable resources to be better targeted in the future to help prevent transmission during this, or any future pandemic."
   ]
  },
  {
   "cell_type": "markdown",
   "metadata": {},
   "source": [
    "### Load Libraries"
   ]
  },
  {
   "cell_type": "markdown",
   "metadata": {},
   "source": [
    "The relevant data science libraries are loaded into the Jupyter notebook."
   ]
  },
  {
   "cell_type": "code",
   "execution_count": 709,
   "metadata": {},
   "outputs": [],
   "source": [
    "# Import libraries\n",
    "import pandas as pd\n",
    "import matplotlib.pyplot as plt\n",
    "import seaborn as sns\n",
    "from datetime import datetime\n",
    "import numpy as np\n",
    "%matplotlib inline\n",
    "import warnings\n",
    "from scipy import stats\n",
    "warnings.filterwarnings('ignore')"
   ]
  },
  {
   "cell_type": "markdown",
   "metadata": {},
   "source": [
    "## Data"
   ]
  },
  {
   "cell_type": "markdown",
   "metadata": {},
   "source": [
    "A population Census is held across Canada every 5 years. It collects data about age and sex, families and households, language, immigration and internal migration, racial diversity, Aboriginal peoples, housing, education, income, and labor. \n",
    "The City of Toronto Neighborhood Profiles use this Census data to provide a portrait of the demographic, social and economic characteristics of the people and households in each City of Toronto neighborhood.$^{[1]}$\n",
    "\n",
    "The data is made available through Toronto's Open Data portal (https://open.toronto.ca/).$^{[2]}$\n",
    "\n",
    "Two datasets from this site were used for this study. One that shows the number of covid cases by Toronto neighborhood (https://open.toronto.ca/dataset/covid-19-cases-in-toronto/) and the other contains demographic features of each of these neighborhoods (https://open.toronto.ca/dataset/neighbourhood-profiles/). There are over 2,300 features shown for each neighborhood including:"
   ]
  },
  {
   "cell_type": "raw",
   "metadata": {},
   "source": [
    "\\begin{itemize}\n",
    "\n",
    "  \\item Aboriginal peoples\n",
    "  \\item Age and sex\n",
    "  \\item Education\n",
    "  \\item Families, households and marital status\n",
    "  \\item Housing\n",
    "  \\item Immigration and ethnocultural diversity\n",
    "  \\item Income\n",
    "  \\item Journey to work\n",
    "  \\item Labour\n",
    "  \\item Language\n",
    "  \\item Language of work\n",
    "  \\item Mobility and migration\n",
    "  \\item Population and dwelling counts\n",
    "  \\item Type of dwelling\n",
    "\n",
    "\\end{itemize}"
   ]
  },
  {
   "cell_type": "markdown",
   "metadata": {},
   "source": [
    "### Load Files"
   ]
  },
  {
   "cell_type": "markdown",
   "metadata": {},
   "source": [
    "Pandas read_csv function is used to load the two files into dataframes."
   ]
  },
  {
   "cell_type": "code",
   "execution_count": 710,
   "metadata": {},
   "outputs": [],
   "source": [
    "covid_to = pd.read_csv('data/CityofToronto_COVID-19_NeighbourhoodData.csv')"
   ]
  },
  {
   "cell_type": "code",
   "execution_count": 711,
   "metadata": {},
   "outputs": [],
   "source": [
    "neigh = pd.read_csv(\"data/neighbourhood-profiles-2016-csv_ADJ.csv\")"
   ]
  },
  {
   "cell_type": "markdown",
   "metadata": {},
   "source": [
    "### Data Cleaning"
   ]
  },
  {
   "cell_type": "markdown",
   "metadata": {},
   "source": [
    "The demographic data is a huge dataset containing over 2300 rows, each one representing a different demographic feature. In order to create one usable dataset the following tasks were performed:\n",
    "\n",
    "1. The dataset was transposed so that the columns, which are the Toronto neighborhoods become row and each feature becomes a column.\n",
    "2. The columns which are presented as absolute numbers, for example *Number of Latin Americans*, were changed to represent percentages of each number compared to the neighborhood population.\n",
    "3. Every column is given a unique identifying name.\n",
    "4. A dataframe was created to capture the column descriptions which are quite lengthy.\n",
    "5. Null rows were dropped - these were summary rows which did not relate to each neighborhood.\n",
    "6. All the numeric columns were converted to floats - there were no categorical columns.\n",
    "7. The two dataframes (demographic data and covid case data) were merged on the neighborhood id column to create one dataframe."
   ]
  },
  {
   "cell_type": "code",
   "execution_count": 712,
   "metadata": {},
   "outputs": [],
   "source": [
    "# The Neighbourhood file has Neighbourhoods as columns so we must \n",
    "# transpose it.\n",
    "neighTO = neigh.transpose()"
   ]
  },
  {
   "cell_type": "markdown",
   "metadata": {},
   "source": [
    "Now that the data is transposed there are over 2300 columns. Let's keep track of the meanings of these columns so we can \n",
    "later use this information to interpret the results. In the meantime we will refer to the columns by\n",
    "their numeric names. A sample from this table is shown below."
   ]
  },
  {
   "cell_type": "code",
   "execution_count": 713,
   "metadata": {},
   "outputs": [],
   "source": [
    "# Let's the column names to strings\n",
    "neighTO.columns = [\"Col_\" + str(x) for x in neighTO.columns]"
   ]
  },
  {
   "cell_type": "code",
   "execution_count": 714,
   "metadata": {},
   "outputs": [],
   "source": [
    "colNames = neighTO.iloc[0:5,:].transpose()"
   ]
  },
  {
   "cell_type": "code",
   "execution_count": 715,
   "metadata": {},
   "outputs": [],
   "source": [
    "%%script false --no-raise-error\n",
    "# Now we have a dataframe of all the column names\n",
    "print(colNames.head(5).iloc[:,0:5].to_latex(index=False))  "
   ]
  },
  {
   "cell_type": "raw",
   "metadata": {},
   "source": [
    "\n",
    "\\begin{tabular}{rllll}\n",
    "\\toprule\n",
    " level\\_0 &  index & \\_id &                   Category &                      Topic \\\\\n",
    "\\midrule\n",
    "       0 &  Col\\_0 &   1 &  Neighbourhood Information &  Neighbourhood Information \\\\\n",
    "       1 &  Col\\_1 &   1 &  Neighbourhood Information &  Neighbourhood Information \\\\\n",
    "       2 &  Col\\_2 &   3 &                 Population &   Population and dwellings \\\\\n",
    "       3 &  Col\\_3 &   4 &                 Population &   Population and dwellings \\\\\n",
    "       4 &  Col\\_4 &   6 &                 Population &   Population and dwellings \\\\\n",
    "\\bottomrule\n",
    "\\end{tabular}\n"
   ]
  },
  {
   "cell_type": "code",
   "execution_count": 716,
   "metadata": {},
   "outputs": [],
   "source": [
    "# Let's remove all the descriptive rows\n",
    "neighTO = neighTO.iloc[5:,:]"
   ]
  },
  {
   "cell_type": "code",
   "execution_count": 717,
   "metadata": {},
   "outputs": [],
   "source": [
    "# We can remove the city of Toronto\n",
    "neighTO = neighTO[neighTO.index != 'City of Toronto']"
   ]
  },
  {
   "cell_type": "code",
   "execution_count": 718,
   "metadata": {},
   "outputs": [],
   "source": [
    "# Let's ensure the neighborhoodID in both files is an int so we can\n",
    "# join the files\n",
    "neighTO['Col_0'] = neighTO['Col_0'].astype(int)"
   ]
  },
  {
   "cell_type": "code",
   "execution_count": 719,
   "metadata": {},
   "outputs": [],
   "source": [
    "# We drop the null row and convert ID to int\n",
    "covid_to.dropna(inplace=True)\n",
    "covid_to['Neighbourhood ID'] = covid_to['Neighbourhood ID'].astype(int)"
   ]
  },
  {
   "cell_type": "code",
   "execution_count": 720,
   "metadata": {},
   "outputs": [],
   "source": [
    "# Let's convert the demographic data to floats - select only string columns\n",
    "for x in neighTO.select_dtypes(include='object').columns:\n",
    "    if x != 'Col_0':\n",
    "        # Remove % symbol if present\n",
    "        neighTO[x] = neighTO[x].replace({'%':''}, regex = True)\n",
    "        neighTO[x] = neighTO[x].astype(float)"
   ]
  },
  {
   "cell_type": "code",
   "execution_count": 721,
   "metadata": {},
   "outputs": [],
   "source": [
    "# We see they are all floats except for the int column\n",
    "#neighTO.info();"
   ]
  },
  {
   "cell_type": "code",
   "execution_count": 722,
   "metadata": {},
   "outputs": [],
   "source": [
    "# Now we can see that all our columns are numeric\n",
    "#neighTO.describe().iloc[:,1:5]\n",
    "#print(neighTO.describe().iloc[:,1:5].to_latex(index=False)) "
   ]
  },
  {
   "cell_type": "markdown",
   "metadata": {},
   "source": [
    "We can confirm that all the data has been converted to floats. We need to join the datasets so we have one dataset with all the features and target."
   ]
  },
  {
   "cell_type": "code",
   "execution_count": 723,
   "metadata": {},
   "outputs": [],
   "source": [
    "# Rename the column so they match in both files\n",
    "neighTO.rename(columns={'Col_0': \"Neighbourhood ID\"}, inplace=True)"
   ]
  },
  {
   "cell_type": "code",
   "execution_count": 724,
   "metadata": {},
   "outputs": [],
   "source": [
    "# Join the files on Neighbourhood ID\n",
    "NeighCases = pd.merge(neighTO, covid_to, how='left', on=['Neighbourhood ID'])"
   ]
  },
  {
   "cell_type": "code",
   "execution_count": 725,
   "metadata": {},
   "outputs": [],
   "source": [
    "# Let's write this to excel to back it up.\n",
    "NeighCases.to_csv(\"data/NeigCases.csv\")"
   ]
  },
  {
   "cell_type": "markdown",
   "metadata": {},
   "source": [
    "## Data Exploration"
   ]
  },
  {
   "cell_type": "markdown",
   "metadata": {},
   "source": [
    "There's a huge difference in the rate of covid-19 cases in each Toronto neighborhood. \n",
    "\n",
    "The top 5 neighborhoods have **dramatically higher case rates** than the bottom five neighborhoods."
   ]
  },
  {
   "cell_type": "code",
   "execution_count": 810,
   "metadata": {},
   "outputs": [
    {
     "data": {
      "image/png": "[encoded data removed]",
      "text/plain": [
       "<Figure size 432x288 with 1 Axes>"
      ]
     },
     "metadata": {
      "needs_background": "light"
     },
     "output_type": "display_data"
    }
   ],
   "source": [
    "sns.reset_orig()\n",
    "df = NeighCases[['Neighbourhood Name', \"Rate per 100,000 people\"]].sort_values(\"Rate per 100,000 people\")\n",
    "df.columns = ['Neighbourhood', 'Rate per 100,000 people']\n",
    "\n",
    "ax = sns.barplot(data=df.head(5).append(df.tail(5)), y='Neighbourhood',x='Rate per 100,000 people',orient='h')\n",
    "# txt=\"Figure 1. The top 5 and bottom 5 Toronto neighborhoods by covid case rate.\"\n",
    "# # plt.figtext(0.5, 0.01, txt, wrap=True, horizontalalignment='center', fontsize=14)\n",
    "# plt.figtext(0.5, -0.1, txt, wrap=True, horizontalalignment='center', fontsize=13)\n",
    "\n",
    "plt.title('The Top 5 and Bottom 5 Toronto Neighbourhoods by Covid Case Rate',fontsize= 15)\n",
    "plt.xlabel(\"Covid Case Rate per 100,000 people\", fontsize=12)\n",
    "plt.ylabel(\"Toronto Neighbourhood\", fontsize=12);"
   ]
  },
  {
   "cell_type": "markdown",
   "metadata": {},
   "source": [
    "The rate in the neighborhood of Weston has a covid case rate of almost 13 times that of the Beaches neighborhood."
   ]
  },
  {
   "cell_type": "code",
   "execution_count": 749,
   "metadata": {},
   "outputs": [],
   "source": [
    "#df.head(1).append(df.tail(1))\n",
    "#print(df.head(1).append(df.tail(1)).to_latex(index=False)) "
   ]
  },
  {
   "cell_type": "raw",
   "metadata": {},
   "source": [
    "\n",
    "\\begin{tabular}{lr}\n",
    "\\toprule\n",
    "Neighbourhood &  Rate per 100,000 people \\\\\n",
    "\\midrule\n",
    "  The Beaches &               282.839523 \\\\\n",
    "       Weston &              3612.716763 \\\\\n",
    "\\bottomrule\n",
    "\\end{tabular}\n"
   ]
  },
  {
   "cell_type": "markdown",
   "metadata": {},
   "source": [
    "Various media reports have shown that certain demographic factors can influence covid rates$^{[3]}$. Reports have shown that the virus has disproportionately affected communities based on the following factors:\n"
   ]
  },
  {
   "cell_type": "markdown",
   "metadata": {},
   "source": [
    "* Racial Profile<br>\n",
    "* Density<br>\n",
    "* Employment<br>\n",
    "* Income<br>"
   ]
  },
  {
   "cell_type": "code",
   "execution_count": 728,
   "metadata": {},
   "outputs": [],
   "source": [
    "#colNames.Category.unique()"
   ]
  },
  {
   "cell_type": "markdown",
   "metadata": {},
   "source": [
    "Let's examine some columns that correspond to these factors and see how they relate to covid rates. \n",
    "\n",
    "The following graph shows how covid rates vary depending on the proportion of different racial groups in each Toronto neighborhood. \n",
    "There seems to be a moderate positive relationship between covid rates and the percent of Blacks in each neighborhood and also Latin Americans."
   ]
  },
  {
   "cell_type": "code",
   "execution_count": 729,
   "metadata": {},
   "outputs": [],
   "source": [
    "colNames[colNames['Category'] == 'Visible minority'].index;"
   ]
  },
  {
   "cell_type": "code",
   "execution_count": 805,
   "metadata": {},
   "outputs": [
    {
     "data": {
      "image/png": "[encoded data removed]",
      "text/plain": [
       "<Figure size 720x720 with 4 Axes>"
      ]
     },
     "metadata": {
      "needs_background": "light"
     },
     "output_type": "display_data"
    }
   ],
   "source": [
    "df = NeighCases[colNames[colNames['Category'] == 'Visible minority'].index]\n",
    "df = df.rename(columns={\"Col_1266\": \"Visible Minoriaty\", \"Col_1267\": \"South Asian\",\n",
    "                  \"Col_1077\": \"Latin American\", \"Col_1269\": \"Black\", \"Col_1272\": \"Southeast Asian\"})\n",
    "df['Rate'] = NeighCases['Rate per 100,000 people']\n",
    "df = df[[\"South Asian\", \"Latin American\", \"Black\", \"Southeast Asian\",\"Rate\"]]\n",
    "\n",
    "fig, ax = plt.subplots(nrows = 2, ncols = 2, figsize=(10,10))\n",
    "\n",
    "ax[0,0].scatter(data=df, x='South Asian', y='Rate', c=\"r\")\n",
    "ax[0,0].set_xlabel(\"% South Asian\", fontsize=14)\n",
    "ax[0,1].scatter(data=df, x='Black', y='Rate', c=\"g\")\n",
    "ax[0,1].set_xlabel(\"% Black\", fontsize=14)\n",
    "ax[1,0].scatter(data=df, x='Latin American', y='Rate', c=\"y\")\n",
    "ax[1,0].set_xlabel(\"% Latin American\", fontsize=14)\n",
    "ax[1,1].scatter(data=df, x='Southeast Asian', y='Rate', c='b')\n",
    "ax[1,1].set_xlabel(\"% Southeast Asian\", fontsize=14);\n",
    "fig.text(0.04, 0.5, 'Covid Rate', va='center', rotation='vertical', fontsize=16)\n",
    "fig.suptitle('Covid Rates of Toronto Neighborhoods vs Percent of certain Races', fontsize=16, y=.94);\n"
   ]
  },
  {
   "cell_type": "code",
   "execution_count": 806,
   "metadata": {},
   "outputs": [],
   "source": [
    "# # Let's look at the top 5 visible minority categories\n",
    "# df = NeighCases[colNames[colNames['Category'] == 'Visible minority'].index]\n",
    "# df = df.rename(columns={\"Col_1266\": \"Visible Minoriaty\", \"Col_1267\": \"South Asian\",\n",
    "#                   \"Col_1077\": \"Latin American\", \"Col_1269\": \"Black\", \"Col_1272\": \"Southeast Asian\"})\n",
    "# df['Rate'] = NeighCases['Rate per 100,000 people']\n",
    "# df = df[[\"South Asian\", \"Latin American\", \"Black\", \"Southeast Asian\",\"Rate\"]]\n",
    "# #Create the pairplot\n",
    "# ax = sns.pairplot(data=df, \n",
    "#             x_vars=[\"South Asian\", \"Latin American\", \"Black\", \"Southeast Asian\"],\n",
    "#             y_vars=['Rate'], diag_kind=None);\n",
    "# #Add titles\n",
    "# ax.fig.suptitle(\"Covid Rates vs. Proportion of certain races in Toronto Neighborhoods\", y=1.08, fontsize=14) # y= some height>1\n",
    "# ax.fig.set_size_inches(14,4);"
   ]
  },
  {
   "cell_type": "markdown",
   "metadata": {},
   "source": [
    "Now lets check some other potential predictors, including income, density and employment."
   ]
  },
  {
   "cell_type": "code",
   "execution_count": 808,
   "metadata": {},
   "outputs": [
    {
     "data": {
      "image/png": "[encoded data removed]",
      "text/plain": [
       "<Figure size 720x720 with 4 Axes>"
      ]
     },
     "metadata": {
      "needs_background": "light"
     },
     "output_type": "display_data"
    }
   ],
   "source": [
    "df = NeighCases[[\"Col_1855\", \"Col_100\", \"Col_1047\", \"Col_1635\"]]\n",
    "df = df.rename(columns={\"Col_1855\": \"Work in Manufacturing\", \"Col_100\": \"3 or More Kids\",\\\n",
    "                        \"Col_1047\": \"Income Lowest Decile\", \"Col_1635\": \"Bachelors Degree\"})\n",
    "df['Rate'] = NeighCases['Rate per 100,000 people']\n",
    "# Create the pairplot\n",
    "\n",
    "fig, ax = plt.subplots(nrows = 2, ncols = 2, figsize=(10,10))\n",
    "\n",
    "ax[0,0].scatter(data=df, x='Work in Manufacturing', y='Rate', c=\"r\")\n",
    "ax[0,0].set_xlabel(\"Work in Manufacturing\", fontsize=14)\n",
    "ax[0,1].scatter(data=df, x='3 or More Kids', y='Rate', c=\"g\")\n",
    "ax[0,1].set_xlabel(\"3 or More Kids\", fontsize=14)\n",
    "ax[1,0].scatter(data=df, x='Income Lowest Decile', y='Rate', c=\"y\")\n",
    "ax[1,0].set_xlabel(\"Income Lowest Decile\", fontsize=14)\n",
    "ax[1,1].scatter(data=df, x='Bachelors Degree', y='Rate', c='b')\n",
    "ax[1,1].set_xlabel(\"Bachelors Degree\", fontsize=14);\n",
    "fig.text(0.04, 0.5, 'Covid Rate', va='center', rotation='vertical', fontsize=16)\n",
    "fig.suptitle('Covid Rates of Toronto Neighborhoods vs Percent of Demographic Factors', fontsize=16, y=.94);"
   ]
  },
  {
   "cell_type": "code",
   "execution_count": 809,
   "metadata": {},
   "outputs": [],
   "source": [
    "# # Let's look at the top 5 visible minority categories\n",
    "# df = NeighCases[[\"Col_1855\", \"Col_100\", \"Col_1047\", \"Col_1635\"]]\n",
    "# df = df.rename(columns={\"Col_1855\": \"Work in Manufacturing\", \"Col_100\": \"3 or More Kids\",\\\n",
    "#                         \"Col_1047\": \"Income Lowest Decile\", \"Col_1635\": \"Bachelors Degree\"})\n",
    "# df['Rate'] = NeighCases['Rate per 100,000 people']\n",
    "# # Create the pairplot\n",
    "# ax = sns.pairplot(data=df, \n",
    "#             x_vars=[\"Work in Manufacturing\", \"3 or More Kids\",\\\n",
    "#                     \"Income Lowest Decile\", \"Bachelors Degree\"],\n",
    "#             y_vars=['Rate'], diag_kind=None);\n",
    "# # Add titles\n",
    "# ax.fig.suptitle(\"Covid Rates vs. Proportion of specific labour, education, \\\n",
    "# and household parameters in Toronto Neighborhoods\", y=1.08, fontsize=15) # y= some height>1\n",
    "# # Set the size\n",
    "# ax.fig.set_size_inches(14,4)\n",
    "# # Add the figure text below"
   ]
  },
  {
   "cell_type": "markdown",
   "metadata": {},
   "source": [
    "There seems to be a positive trend between the proportion of the population that work in manufacturing jobs in a neighborhood vs. covid rates, and a negative trend between the proportion who have Bachelor's Degrees."
   ]
  },
  {
   "cell_type": "markdown",
   "metadata": {},
   "source": [
    "## Feature Selection"
   ]
  },
  {
   "cell_type": "markdown",
   "metadata": {},
   "source": [
    "There are so many features (over 2,300) so in order to narrow it down we will examine the correlation of every feature to the target (Covid rate per 100,000 people). One of the most common ways to identify potential features is to examine the correlation between columns of X and y (Corr)$^{[4]}$. \n",
    "\n",
    "We will select the top 10 features based on this correlation and use this as our new pared down dataset."
   ]
  },
  {
   "cell_type": "code",
   "execution_count": 695,
   "metadata": {},
   "outputs": [],
   "source": [
    "# Let's look at all the features and how they compare to \n",
    "# the target - this will show the top 100 features\n",
    "cor = NeighCases.corr()\n",
    "threshold = 0.6\n",
    "a=abs(cor['Rate per 100,000 people'])\n",
    "result=pd.DataFrame(a[a>0.6])\n",
    "feat_cor = result.sort_values('Rate per 100,000 people', ascending=False).head(100)"
   ]
  },
  {
   "cell_type": "code",
   "execution_count": 696,
   "metadata": {},
   "outputs": [],
   "source": [
    "# Let's remove the Case Count column and examine these variables\n",
    "feat_cor.drop('Case Count', inplace=True)\n",
    "# feat_cor.drop('Rate per 100,000 people', inplace=True)"
   ]
  },
  {
   "cell_type": "code",
   "execution_count": 824,
   "metadata": {},
   "outputs": [],
   "source": [
    "try:\n",
    "    feat_cor.reset_index(level=0, inplace=True)\n",
    "except:\n",
    "    None"
   ]
  },
  {
   "cell_type": "code",
   "execution_count": 825,
   "metadata": {},
   "outputs": [],
   "source": [
    "try:\n",
    "    colNames.reset_index(level=0, inplace=True)\n",
    "except:\n",
    "    None"
   ]
  },
  {
   "cell_type": "code",
   "execution_count": 699,
   "metadata": {},
   "outputs": [],
   "source": [
    "dfCol = colNames[['index','Category', 'Characteristic']]"
   ]
  },
  {
   "cell_type": "code",
   "execution_count": 700,
   "metadata": {},
   "outputs": [],
   "source": [
    "feat_corName = pd.merge(feat_cor, dfCol, how='left', on=['index'])"
   ]
  },
  {
   "cell_type": "markdown",
   "metadata": {},
   "source": [
    "The top 10 features in order of descending correlation to \"Rate per 100,000\" column. The top features are all seemingly related to Black, Caribbean and African origins except for a Labor related column which is Occupations in manufacturing and utilities."
   ]
  },
  {
   "cell_type": "code",
   "execution_count": 701,
   "metadata": {},
   "outputs": [],
   "source": [
    "# Here are the top 10 features in order of desending correlation to \"Rate per 100,000\"\n",
    "df_fcN = feat_corName.sort_values(by='Rate per 100,000 people', ascending=False).head(10)\n",
    "#print(df_fcN.to_latex(index=False)) "
   ]
  },
  {
   "cell_type": "raw",
   "metadata": {},
   "source": [
    "\n",
    "\\scalebox{0.7}{\n",
    "\\begin{tabular}{lrll}\n",
    "\\toprule\n",
    "                   index &  Rate per 100,000 people &                     Category &                                    Characteristic \\\\\n",
    "\\midrule\n",
    " Rate per 100,000 people &                 1.000000 &                          NaN &                                               NaN \\\\\n",
    "                Col\\_1269 &                 0.744447 &             Visible minority &                                             Black \\\\\n",
    "                Col\\_1105 &                 0.741047 &  Immigration and citizenship &                                           Jamaica \\\\\n",
    "                Col\\_1099 &                 0.737303 &  Immigration and citizenship &                                          Americas \\\\\n",
    "                Col\\_1377 &                 0.731488 &                Ethnic origin &                                          Jamaican \\\\\n",
    "                 Col\\_329 &                 0.727007 &                     Language &                             Niger-Congo languages \\\\\n",
    "                Col\\_1855 &                 0.726108 &                       Labour &      9 Occupations in manufacturing and utilities \\\\\n",
    "                Col\\_1135 &                 0.724949 &  Immigration and citizenship &                                           Nigeria \\\\\n",
    "                Col\\_1414 &                 0.713611 &                Ethnic origin &                  Central and West African origins \\\\\n",
    "                Col\\_1329 &                 0.712460 &                Ethnic origin &                                 Caribbean origins \\\\\n",
    "\\bottomrule\n",
    "\\end{tabular}\n",
    "}\n"
   ]
  },
  {
   "cell_type": "markdown",
   "metadata": {},
   "source": [
    "Let's look at the top correlation in each Category of predictors. The category with the top correlated predictor is \"Visible Minority\" (**0.75**) and \"Housing\" is the category with the lowest correlated predictor (**0.63**)."
   ]
  },
  {
   "cell_type": "code",
   "execution_count": 733,
   "metadata": {},
   "outputs": [],
   "source": [
    "# Return top from each category\n",
    "#groupMax = feat_corName.groupby([\"Category\"])\n",
    "#groupMax.max('Rate per 100,000 people')\n",
    "#print(groupMax.max('Rate per 100,000 people').to_latex(index=False)) "
   ]
  },
  {
   "cell_type": "markdown",
   "metadata": {},
   "source": [
    "It seems logical that predictors within the same category would be correlated, so let's find the top correlated predictor within each category."
   ]
  },
  {
   "cell_type": "code",
   "execution_count": 734,
   "metadata": {},
   "outputs": [],
   "source": [
    "# *****\n",
    "# Let's find the rows with the highest value for each category\n",
    "idx = feat_corName.groupby(['Category'])['Rate per 100,000 people'].transform(max) == \\\n",
    "feat_corName['Rate per 100,000 people']\n",
    "#feat_corName[idx]\n",
    "#print(feat_corName[idx].to_latex(index=False)) "
   ]
  },
  {
   "cell_type": "raw",
   "metadata": {},
   "source": [
    "\n",
    "\\scalebox{0.7}{\n",
    "\\begin{tabular}{lrll}\n",
    "\\toprule\n",
    "    index &  Rate per 100,000 people &                                 Category &                                    Characteristic \\\\\n",
    "\\midrule\n",
    " Col\\_1269 &                 0.744447 &                         Visible minority &                                             Black \\\\\n",
    " Col\\_1105 &                 0.741047 &              Immigration and citizenship &                                           Jamaica \\\\\n",
    " Col\\_1377 &                 0.731488 &                            Ethnic origin &                                          Jamaican \\\\\n",
    "  Col\\_329 &                 0.727007 &                                 Language &                             Niger-Congo languages \\\\\n",
    " Col\\_1855 &                 0.726108 &                                   Labour &      9 Occupations in manufacturing and utilities \\\\\n",
    "  Col\\_105 &                 0.690762 &  Families, households and marital status &                                3 or more children \\\\\n",
    " Col\\_1049 &                 0.684972 &                                   Income &                               In the third decile \\\\\n",
    " Col\\_1635 &                 0.677412 &                                Education &                                 Bachelor's degree \\\\\n",
    " Col\\_1907 &                 0.666669 &                          Journey to work &                     Between 12 p.m. and 4:59 a.m. \\\\\n",
    " Col\\_1594 &                 0.629968 &                                  Housing &                           2 household maintainers \\\\\n",
    "\\bottomrule\n",
    "\\end{tabular}\n",
    "}\n"
   ]
  },
  {
   "cell_type": "code",
   "execution_count": 617,
   "metadata": {},
   "outputs": [],
   "source": [
    "# Let's create a dataframe using only these values and let's make the\n",
    "# columns more readable.\n",
    "NeighCovid = NeighCases[feat_corName[idx]['index']]\n",
    "NeighCovid['Rate'] = NeighCases['Rate per 100,000 people']"
   ]
  },
  {
   "cell_type": "code",
   "execution_count": 618,
   "metadata": {},
   "outputs": [],
   "source": [
    "NeighCovid.columns = ['Black%', 'Jamaica%', 'Jamaican', 'CongoLang', 'ManufactJob', 'MoreThan2Kids',\\\n",
    "                      'ThirdDecIncome', 'BachelorDegree', 'WorkNights', 'BothMaintHouse', 'Rate']"
   ]
  },
  {
   "cell_type": "markdown",
   "metadata": {},
   "source": [
    "### Remove Correlated Predictors"
   ]
  },
  {
   "cell_type": "markdown",
   "metadata": {},
   "source": [
    "If certain features are highly correlated with other ones then there are redundant features and they can be removed to make the model more simple. The following heatmap shows that there are several highly correlated features, for example _Black_ with *Jamaica%*, *Jamaican*, *CongoLang* and *MoreThan2Kids*."
   ]
  },
  {
   "cell_type": "code",
   "execution_count": 619,
   "metadata": {},
   "outputs": [
    {
     "data": {
      "image/png": "[encoded data removed]",
      "text/plain": [
       "<Figure size 504x504 with 2 Axes>"
      ]
     },
     "metadata": {
      "needs_background": "light"
     },
     "output_type": "display_data"
    }
   ],
   "source": [
    "# Correlation of variables\n",
    "plt.figure(figsize=(7,7))\n",
    "sns.heatmap(abs(NeighCovid.corr()), annot=True, cmap=\"coolwarm\");"
   ]
  },
  {
   "cell_type": "markdown",
   "metadata": {},
   "source": [
    "It makes sense than language, ethnic origin, language and visible minority categories of data\n",
    "are highly correlated. Let's remove the *Jamaica%*, *Jamaican*, and *CongoLang* predictors."
   ]
  },
  {
   "cell_type": "code",
   "execution_count": 620,
   "metadata": {},
   "outputs": [],
   "source": [
    "# Remove columns from dataset\n",
    "NeighCovid.drop(['Jamaica%', 'Jamaican', 'CongoLang'], axis=1, inplace=True)"
   ]
  },
  {
   "cell_type": "markdown",
   "metadata": {},
   "source": [
    "In the interest of simplicity we can reduce features further. Black and Morethan2Kids is highly correlated, as well as ManufactJob and ThirdDecIncome so we will reduce the features that are least correlated with Rate."
   ]
  },
  {
   "cell_type": "code",
   "execution_count": 622,
   "metadata": {},
   "outputs": [],
   "source": [
    "NeighCovid.drop(['MoreThan2Kids', 'ThirdDecIncome'], axis=1, inplace=True)"
   ]
  },
  {
   "cell_type": "markdown",
   "metadata": {},
   "source": [
    "Let's look at the heatmap of feature correlations. We can now see that we have all the correlations are under **0.80**. Let's use these remaining features to build a model."
   ]
  },
  {
   "cell_type": "code",
   "execution_count": 623,
   "metadata": {
    "scrolled": true
   },
   "outputs": [
    {
     "data": {
      "image/png": "[encoded data removed]",
      "text/plain": [
       "<Figure size 504x504 with 2 Axes>"
      ]
     },
     "metadata": {
      "needs_background": "light"
     },
     "output_type": "display_data"
    }
   ],
   "source": [
    "plt.figure(figsize=(7,7))\n",
    "sns.heatmap(abs(NeighCovid.corr()), annot=True, cmap=\"coolwarm\");"
   ]
  },
  {
   "cell_type": "markdown",
   "metadata": {},
   "source": [
    "## Method & Results"
   ]
  },
  {
   "cell_type": "markdown",
   "metadata": {},
   "source": [
    "### Linear Regression"
   ]
  },
  {
   "cell_type": "markdown",
   "metadata": {},
   "source": [
    "Linear regression is a linear way of modeling the relationship between a dependent variable (target) and \n",
    "one or more independent variables (features). If there one feature it is called simple linear regression, and\n",
    "if there is more than one it is called multiple linear regression.$^{[5]}$\n",
    "\n",
    "The equation for multiple linear regression is as follows:\n",
    "\n",
    "$y_i = \\beta_0 + \\beta _1 x_{i1} + \\beta _2 x_{i2} + ... + \\beta _p x_{ip} + \\epsilon$\n",
    "\n",
    "where, for i=n observations:\n",
    "\n",
    "$y_i$ = dependent variable\n",
    "\n",
    "$x_i$ = expanatory variables\n",
    "\n",
    "$\\beta_0$ = y-intercept (constant term)\n",
    "\n",
    "$\\beta_p$ = slope coefficients for each explanatory variable\n",
    "\n",
    "$\\epsilon$ = the model's error term (also known as the residuals)"
   ]
  },
  {
   "cell_type": "code",
   "execution_count": 624,
   "metadata": {},
   "outputs": [],
   "source": [
    "# Run the functions notebook\n",
    "%run CovidFunctions.ipynb"
   ]
  },
  {
   "cell_type": "markdown",
   "metadata": {},
   "source": [
    "#### Simple Linear Regression"
   ]
  },
  {
   "cell_type": "markdown",
   "metadata": {},
   "source": [
    "Let's start with a simple linear regression model. We will use only one feature to predict the one target (Covid Rate). We will use the column which is most highly correlated to Covid Rate which is the percent of Black people in each neighborhood."
   ]
  },
  {
   "cell_type": "code",
   "execution_count": 625,
   "metadata": {},
   "outputs": [],
   "source": [
    "# Create the X and y datasets\n",
    "dfB = NeighCovid[['Black%','Rate']]\n",
    "X = NeighCovid[[\"Black%\"]]\n",
    "y = NeighCovid[\"Rate\"]"
   ]
  },
  {
   "cell_type": "code",
   "execution_count": 626,
   "metadata": {},
   "outputs": [],
   "source": [
    "from sklearn.preprocessing import StandardScaler\n",
    "sc = StandardScaler()\n",
    "X = sc.fit_transform(X)"
   ]
  },
  {
   "cell_type": "code",
   "execution_count": 627,
   "metadata": {},
   "outputs": [],
   "source": [
    "# Split data into train and test\n",
    "from sklearn.model_selection import train_test_split\n",
    "X_train, X_test, y_train, y_test = train_test_split(X, y, test_size = 0.3, random_state = 11)"
   ]
  },
  {
   "cell_type": "code",
   "execution_count": 628,
   "metadata": {},
   "outputs": [
    {
     "data": {
      "text/plain": [
       "LinearRegression()"
      ]
     },
     "execution_count": 628,
     "metadata": {},
     "output_type": "execute_result"
    }
   ],
   "source": [
    "# Create and train the model\n",
    "from sklearn.linear_model import LinearRegression\n",
    "#Create the model :\n",
    "regressor = LinearRegression()\n",
    "#Train the model :\n",
    "regressor.fit(X_train, y_train)"
   ]
  },
  {
   "cell_type": "markdown",
   "metadata": {},
   "source": [
    "Here's the coefficient of the model:"
   ]
  },
  {
   "cell_type": "code",
   "execution_count": 812,
   "metadata": {},
   "outputs": [
    {
     "data": {
      "text/plain": [
       "535.7894650023125"
      ]
     },
     "execution_count": 812,
     "metadata": {},
     "output_type": "execute_result"
    }
   ],
   "source": [
    "L = regressor.coef_\n",
    "L[0]"
   ]
  },
  {
   "cell_type": "markdown",
   "metadata": {},
   "source": [
    "Here is the intercept:"
   ]
  },
  {
   "cell_type": "code",
   "execution_count": 813,
   "metadata": {},
   "outputs": [
    {
     "data": {
      "text/plain": [
       "1217.1073039109747"
      ]
     },
     "execution_count": 813,
     "metadata": {},
     "output_type": "execute_result"
    }
   ],
   "source": [
    "regressor.intercept_"
   ]
  },
  {
   "cell_type": "markdown",
   "metadata": {},
   "source": [
    "This is the equation of our current model:"
   ]
  },
  {
   "cell_type": "code",
   "execution_count": 814,
   "metadata": {},
   "outputs": [
    {
     "name": "stdout",
     "output_type": "stream",
     "text": [
      "Rate = 1217.11 + 535.79*Black% \n"
     ]
    }
   ],
   "source": [
    "print(\"Rate = {:.2f} + {:.2f}*Black% \".format(regressor.intercept_,L[0]))"
   ]
  },
  {
   "cell_type": "code",
   "execution_count": 815,
   "metadata": {},
   "outputs": [],
   "source": [
    "y_pred = regressor.predict(X_test)"
   ]
  },
  {
   "cell_type": "markdown",
   "metadata": {},
   "source": [
    "Let's compare the actual vs. predicted values. They don't appear to be that close."
   ]
  },
  {
   "cell_type": "code",
   "execution_count": 634,
   "metadata": {},
   "outputs": [],
   "source": [
    "df_results = pd.DataFrame({'Actual': y_test, 'Predicted': y_pred})\n",
    "#df_results.head(10)\n",
    "#print(df_results.head(10).to_latex(index=False)) "
   ]
  },
  {
   "cell_type": "raw",
   "metadata": {},
   "source": [
    "\n",
    "\\begin{tabular}{rr}\n",
    "\\toprule\n",
    "      Actual &    Predicted \\\\\n",
    "\\midrule\n",
    "  821.054175 &  1615.920010 \\\\\n",
    "  945.744151 &  1085.344638 \\\\\n",
    "  411.211816 &   791.169031 \\\\\n",
    "  916.681012 &   493.833270 \\\\\n",
    " 1602.536636 &   898.410806 \\\\\n",
    "  875.561257 &   917.066319 \\\\\n",
    "  838.113558 &  1191.260502 \\\\\n",
    "  910.879545 &  1163.272389 \\\\\n",
    "  372.764405 &   464.154978 \\\\\n",
    "  513.462743 &   929.264058 \\\\\n",
    "\\bottomrule\n",
    "\\end{tabular}\n"
   ]
  },
  {
   "cell_type": "code",
   "execution_count": 738,
   "metadata": {},
   "outputs": [
    {
     "data": {
      "image/png": "[encoded data removed]",
      "text/plain": [
       "<Figure size 432x288 with 1 Axes>"
      ]
     },
     "metadata": {
      "needs_background": "light"
     },
     "output_type": "display_data"
    }
   ],
   "source": [
    "# Let's examine a scatterplot of the actual vs. predicted values\n",
    "sns.scatterplot(data=df_results, x = 'Actual', y = 'Predicted')\n",
    "plt.title(\"Actual vs. Predicted results\", fontsize=13);"
   ]
  },
  {
   "cell_type": "markdown",
   "metadata": {},
   "source": [
    "Let's look at the results of the model. The **$R^2$ value is 0.49**. This is quite good for a social study such as this one. "
   ]
  },
  {
   "cell_type": "code",
   "execution_count": 636,
   "metadata": {},
   "outputs": [
    {
     "name": "stdout",
     "output_type": "stream",
     "text": [
      "The R-squared value is:       49.09 \n",
      "The Root MSE is:\t      313.20868156422546 \n",
      "The Intercept is:\t      1217.1073039109747\n"
     ]
    }
   ],
   "source": [
    "print(f\"The R-squared value is: \\\n",
    "      {ReturnR2value(dfB,'R2')} \\nThe Root MSE is:\\t\\\n",
    "      {ReturnR2value(dfB,'MSE')} \\nThe Intercept is:\\t\\\n",
    "      {ReturnR2value(dfB,'Intercept')}\")     "
   ]
  },
  {
   "cell_type": "markdown",
   "metadata": {},
   "source": [
    "### Outliers"
   ]
  },
  {
   "cell_type": "markdown",
   "metadata": {},
   "source": [
    "In order to improve the model we could use more training data, however as we only have 140 neighborhoods we do not have that much data to begin with. We can also look at outliers.\n",
    "\n",
    "The following boxplots show the outliers for the X (%Black) and y (Rate) columns."
   ]
  },
  {
   "cell_type": "code",
   "execution_count": 637,
   "metadata": {},
   "outputs": [
    {
     "data": {
      "image/png": "[encoded data removed]",
      "text/plain": [
       "<Figure size 576x288 with 2 Axes>"
      ]
     },
     "metadata": {
      "needs_background": "light"
     },
     "output_type": "display_data"
    }
   ],
   "source": [
    "# Show boxplots for predictor and target\n",
    "df = NeighCovid[[\"Black%\"]]\n",
    "df['Rate'] = NeighCovid['Rate']\n",
    "\n",
    "fig, (ax1, ax2) = plt.subplots(ncols=2, sharey=True, figsize=(8,4))\n",
    "sns.boxplot(data=df['Black%'], orient=\"h\", ax=ax1, color='r')\n",
    "sns.boxplot(data=df['Rate'], orient=\"h\", ax=ax2)\n",
    "\n",
    "# Add the figure text below\n",
    "ax1.set_title(\"%Black\")\n",
    "ax2.set_title(\"Rate\")\n",
    "plt.suptitle(\"Boxplots of Feature and Targets columns\", fontsize=13);"
   ]
  },
  {
   "cell_type": "markdown",
   "metadata": {},
   "source": [
    "The figure above shows us that there are outliers in both the feature and target columns. Let's remove the outliers and recreate the model and see if there's an improvement."
   ]
  },
  {
   "cell_type": "markdown",
   "metadata": {},
   "source": [
    "This code will remove all the rows that are outliers according to IQR. We call shape to determine that 11 rows have been removed. "
   ]
  },
  {
   "cell_type": "code",
   "execution_count": 638,
   "metadata": {},
   "outputs": [],
   "source": [
    "df_out = RemoveOutlierDF(df)"
   ]
  },
  {
   "cell_type": "code",
   "execution_count": 819,
   "metadata": {},
   "outputs": [
    {
     "name": "stdout",
     "output_type": "stream",
     "text": [
      "We have removed 11 outliers.\n"
     ]
    }
   ],
   "source": [
    "print(f\"We have removed {df.shape[0] - df_out.shape[0]} outliers.\")"
   ]
  },
  {
   "cell_type": "markdown",
   "metadata": {},
   "source": [
    "Let's run the model again to see if there's an improvement."
   ]
  },
  {
   "cell_type": "code",
   "execution_count": 820,
   "metadata": {},
   "outputs": [
    {
     "name": "stdout",
     "output_type": "stream",
     "text": [
      "The R-squared value is:       36.37 \n",
      "The Root MSE is:\t      538.6686246770221 \n",
      "The Intercept is:\t      1008.2957708286475\n"
     ]
    }
   ],
   "source": [
    "print(f\"The R-squared value is: \\\n",
    "      {ReturnR2value(df_out,'R2')} \\nThe Root MSE is:\\t\\\n",
    "      {ReturnR2value(df_out,'MSE')} \\nThe Intercept is:\\t\\\n",
    "      {ReturnR2value(df_out,'Intercept')}\")  "
   ]
  },
  {
   "cell_type": "markdown",
   "metadata": {},
   "source": [
    "Let's look at the results of the new model. The **$R^2$ value is now 0.36**. \n",
    "\n",
    "So removing the outliers actually made things worse."
   ]
  },
  {
   "cell_type": "markdown",
   "metadata": {},
   "source": [
    "### Multiple Linear Regression"
   ]
  },
  {
   "cell_type": "markdown",
   "metadata": {},
   "source": [
    "Now let's see if we can improve the model by using more than one feature. We will use the five features we discussed earlier: %Black, ManufactJob, Bachelor Degree, WorkNights and BothMaintHouse."
   ]
  },
  {
   "cell_type": "code",
   "execution_count": 641,
   "metadata": {},
   "outputs": [],
   "source": [
    "# Create the X and y datasets\n",
    "X = NeighCovid[['Black%', 'ManufactJob', 'BachelorDegree', 'WorkNights','BothMaintHouse']]\n",
    "y = NeighCovid[\"Rate\"]"
   ]
  },
  {
   "cell_type": "markdown",
   "metadata": {},
   "source": [
    "Here's the coefficients of the model:"
   ]
  },
  {
   "cell_type": "code",
   "execution_count": 740,
   "metadata": {},
   "outputs": [],
   "source": [
    "cvC = ReturnR2value(NeighCovid,'Coefficients')\n",
    "#cvC\n",
    "#print(cvC.to_latex(index=True)) "
   ]
  },
  {
   "cell_type": "raw",
   "metadata": {},
   "source": [
    "\n",
    "\\begin{tabular}{lr}\n",
    "\\toprule\n",
    "Parameter &  Coefficient \\\\\n",
    "\\midrule\n",
    "Black\\%         &   243.434794 \\\\\n",
    "ManufactJob    &   268.551318 \\\\\n",
    "BachelorDegree &    19.125431 \\\\\n",
    "WorkNights     &   175.770549 \\\\\n",
    "BothMaintHouse &   -47.114529 \\\\\n",
    "\\bottomrule\n",
    "\\end{tabular}\n"
   ]
  },
  {
   "cell_type": "markdown",
   "metadata": {},
   "source": [
    "Here is the intercept:"
   ]
  },
  {
   "cell_type": "code",
   "execution_count": 643,
   "metadata": {},
   "outputs": [
    {
     "data": {
      "text/plain": [
       "1212.2741827886584"
      ]
     },
     "execution_count": 643,
     "metadata": {},
     "output_type": "execute_result"
    }
   ],
   "source": [
    "ReturnR2value(NeighCovid, 'Intercept')"
   ]
  },
  {
   "cell_type": "markdown",
   "metadata": {},
   "source": [
    "This is our new equation."
   ]
  },
  {
   "cell_type": "markdown",
   "metadata": {},
   "source": [
    "_Rate = 1212.23 + 243.43 * Black\\% + 268.55 * ManufactJob\t+ 19.13 * BachelorDegree\t+\t175.77 * WorkNights +\t-47.11 * BothMaintHouse_"
   ]
  },
  {
   "cell_type": "markdown",
   "metadata": {},
   "source": [
    "Let's compare the actual vs. predicted values. They don't appear to be that bad."
   ]
  },
  {
   "cell_type": "code",
   "execution_count": 644,
   "metadata": {},
   "outputs": [],
   "source": [
    "#ReturnR2value(NeighCovid,'ActualVsPred').head(7)\n",
    "#print(ReturnR2value(NeighCovid,'ActualVsPred').head(7).to_latex(index=False)) "
   ]
  },
  {
   "cell_type": "raw",
   "metadata": {},
   "source": [
    "\n",
    "\\begin{tabular}{rr}\n",
    "\\toprule\n",
    "      Actual &    Predicted \\\\\n",
    "\\midrule\n",
    " 1050.743209 &   739.361354 \\\\\n",
    "  282.839523 &   576.095576 \\\\\n",
    "  554.900465 &   775.974512 \\\\\n",
    " 1064.519115 &  1333.753145 \\\\\n",
    " 1280.614695 &  1739.366572 \\\\\n",
    "  477.299185 &   634.470852 \\\\\n",
    "  461.163450 &   391.203223 \\\\\n",
    "\\bottomrule\n",
    "\\end{tabular}\n"
   ]
  },
  {
   "cell_type": "code",
   "execution_count": 645,
   "metadata": {},
   "outputs": [
    {
     "data": {
      "image/png": "[encoded data removed]",
      "text/plain": [
       "<Figure size 432x288 with 1 Axes>"
      ]
     },
     "metadata": {
      "needs_background": "light"
     },
     "output_type": "display_data"
    }
   ],
   "source": [
    "# Let's examine a scatterplot of the actual vs. predicted values\n",
    "sns.scatterplot(data=ReturnR2value(NeighCovid,'ActualVsPred'), \\\n",
    "                x = 'Actual', y = 'Predicted')\n",
    "plt.title(\"Actual vs. Predicted results\", fontsize=13);"
   ]
  },
  {
   "cell_type": "markdown",
   "metadata": {},
   "source": [
    "Let's look at the results of the model. The **$R^2$ value is 0.43**. It's lower than simply using one predictor."
   ]
  },
  {
   "cell_type": "code",
   "execution_count": 646,
   "metadata": {},
   "outputs": [
    {
     "name": "stdout",
     "output_type": "stream",
     "text": [
      "The R-squared value is:       43.47 \n",
      "The Root MSE is:\t      330.03675517892543 \n",
      "The Intercept is:\t      1212.2741827886584\n"
     ]
    }
   ],
   "source": [
    "print(f\"The R-squared value is: \\\n",
    "      {ReturnR2value(NeighCovid,'R2')} \\nThe Root MSE is:\\t\\\n",
    "      {ReturnR2value(NeighCovid,'MSE')} \\nThe Intercept is:\\t\\\n",
    "      {ReturnR2value(NeighCovid,'Intercept')}\")               "
   ]
  },
  {
   "cell_type": "markdown",
   "metadata": {},
   "source": [
    "We can try to remove outliers in each column but I suspect it won't help the accuracy of the model. We have already seen that Rate has outliers, the figure below also shows there are a couple outliers in BachelorDegree and ManufactJob."
   ]
  },
  {
   "cell_type": "code",
   "execution_count": 647,
   "metadata": {},
   "outputs": [
    {
     "data": {
      "image/png": "[encoded data removed]",
      "text/plain": [
       "<Figure size 432x288 with 1 Axes>"
      ]
     },
     "metadata": {
      "needs_background": "light"
     },
     "output_type": "display_data"
    }
   ],
   "source": [
    "# Outliers\n",
    "sns.boxplot(data=NeighCovid.drop('Rate',axis=1), orient=\"h\");\n",
    "plt.title(\"Boxplots of the Features showing Outliers\",fontsize=14);"
   ]
  },
  {
   "cell_type": "code",
   "execution_count": 648,
   "metadata": {},
   "outputs": [],
   "source": [
    "# Let's call the function to remove outliers\n",
    "newNeighCovid = RemoveOutlierDF(NeighCovid)"
   ]
  },
  {
   "cell_type": "code",
   "execution_count": 649,
   "metadata": {},
   "outputs": [
    {
     "name": "stdout",
     "output_type": "stream",
     "text": [
      "The R-squared value is:       56.82 \n",
      "The Root MSE is:\t      432.34644674183556 \n",
      "The Intercept is:\t      1031.6761147565676\n"
     ]
    }
   ],
   "source": [
    "print(f\"The R-squared value is: \\\n",
    "      {ReturnR2value(newNeighCovid,'R2')} \\nThe Root MSE is:\\t\\\n",
    "      {ReturnR2value(newNeighCovid,'MSE')} \\nThe Intercept is:\\t\\\n",
    "      {ReturnR2value(newNeighCovid,'Intercept')}\")    "
   ]
  },
  {
   "cell_type": "markdown",
   "metadata": {},
   "source": [
    "These are very good results as the $R^2$ value has improved to almost **57%**. This is considered very good for a social science study."
   ]
  },
  {
   "cell_type": "code",
   "execution_count": 650,
   "metadata": {},
   "outputs": [
    {
     "name": "stdout",
     "output_type": "stream",
     "text": [
      "We removed 13 outliers from the dataframe\n"
     ]
    }
   ],
   "source": [
    "print(f\"We removed {NeighCovid.shape[0] - newNeighCovid.shape[0]} outliers from the dataframe\")"
   ]
  },
  {
   "cell_type": "markdown",
   "metadata": {},
   "source": [
    "Let's look at the new Predicted vs Actual plot. It's not bad, although it seems to be less accurate for the mid level values."
   ]
  },
  {
   "cell_type": "code",
   "execution_count": 651,
   "metadata": {},
   "outputs": [
    {
     "data": {
      "image/png": "[encoded data removed]",
      "text/plain": [
       "<Figure size 432x288 with 1 Axes>"
      ]
     },
     "metadata": {
      "needs_background": "light"
     },
     "output_type": "display_data"
    }
   ],
   "source": [
    "sns.scatterplot(data = ReturnR2value(newNeighCovid, 'ActualVsPred'),\n",
    "                x='Actual', y='Predicted')\n",
    "plt.title(\"Actual vs. Predicted\", fontsize=14);"
   ]
  },
  {
   "cell_type": "markdown",
   "metadata": {},
   "source": [
    "### Recursive Feature Elimination (RFE)"
   ]
  },
  {
   "cell_type": "markdown",
   "metadata": {},
   "source": [
    "Let's try a technique called recursive feature elimination (RFE) and see how it compares to our current model. RFE is part of python's sklearn package.\n",
    "\n",
    "RFE is described as follows: \n",
    "\n",
    "_Given an external estimator that assigns weights to features (e.g., the coefficients of a linear model), the goal of recursive feature elimination (RFE) is to select features by recursively considering smaller and smaller sets of features._ "
   ]
  },
  {
   "cell_type": "code",
   "execution_count": 743,
   "metadata": {},
   "outputs": [],
   "source": [
    "# Let's perform RFE on our dataset of the top 100 features. This should\n",
    "# find only the necessary number of features.\n",
    "\n",
    "# Our feat_cor contain our top 100 features\n",
    "top100cols = [x for x in feat_cor.iloc[1:,:]['index']]\n",
    "X = NeighCases[top100cols]\n",
    "y = NeighCases['Rate per 100,000 people']\n",
    "\n",
    "from sklearn.linear_model import LinearRegression\n",
    "from sklearn.feature_selection import RFE\n",
    "model = LinearRegression()\n",
    "#Initializing RFE model\n",
    "rfe = RFE(model, 7)\n",
    "#Transforming data using RFE\n",
    "X_rfe = rfe.fit_transform(X,y)  \n",
    "#Fitting the data to model\n",
    "model.fit(X_rfe,y);\n",
    "# print(rfe.support_)\n",
    "# print(rfe.ranking_);"
   ]
  },
  {
   "cell_type": "markdown",
   "metadata": {},
   "source": [
    "Now let's check what the RFE recommended columns are."
   ]
  },
  {
   "cell_type": "code",
   "execution_count": 828,
   "metadata": {},
   "outputs": [],
   "source": [
    "rfe_cols = [x for x in X.columns[rfe.support_]]\n",
    "dfCN0 = colNames[colNames['index'].isin(rfe_cols)]"
   ]
  },
  {
   "cell_type": "code",
   "execution_count": 830,
   "metadata": {},
   "outputs": [],
   "source": [
    "#colNames[colNames['index'].isin(rfe_cols)]\n",
    "#print(dfCN0[['Category','Topic','Characteristic']].to_latex(index=False)) "
   ]
  },
  {
   "cell_type": "raw",
   "metadata": {},
   "source": [
    "\n",
    "\\scalebox{0.7}{\n",
    "\\begin{tabular}{lll}\n",
    "\\toprule\n",
    "                    Category &                                         Topic &                                     Characteristic \\\\\n",
    "\\midrule\n",
    "                    Language &                                 Mother tongue &                                         Akan (Twi) \\\\\n",
    "                    Language &                                 Mother tongue &                                                Edo \\\\\n",
    "                      Income &                 Income of individuals in 2015 &                                 \\$20,000 to \\$29,999 \\\\\n",
    "                      Income &                 Income of individuals in 2015 &                                 \\$20,000 to \\$29,999 \\\\\n",
    " Immigration and citizenship &  Recent immigrants by selected place of birth &                  Other places of birth in Americas \\\\\n",
    " Immigration and citizenship &  Recent immigrants by selected place of birth &                                            Nigeria \\\\\n",
    "                   Education &        Highest certificate, diploma or degree &        Certificate of Apprenticeship or Certifi... \\\\\n",
    "\\bottomrule\n",
    "\\end{tabular}\n",
    "}\n"
   ]
  },
  {
   "cell_type": "markdown",
   "metadata": {},
   "source": [
    "This is interesting. Three have one factor that has to do| with Education, two with languages, two with income and two with immigration.\n",
    "\n",
    "Let's check the $R^2$ when we use these columns."
   ]
  },
  {
   "cell_type": "code",
   "execution_count": 655,
   "metadata": {},
   "outputs": [],
   "source": [
    "rfe_df = NeighCases[rfe_cols].join(NeighCases['Rate per 100,000 people'])"
   ]
  },
  {
   "cell_type": "code",
   "execution_count": 656,
   "metadata": {},
   "outputs": [
    {
     "data": {
      "text/plain": [
       "44.81"
      ]
     },
     "execution_count": 656,
     "metadata": {},
     "output_type": "execute_result"
    }
   ],
   "source": [
    "ReturnR2value(rfe_df)"
   ]
  },
  {
   "cell_type": "markdown",
   "metadata": {},
   "source": [
    "The $R^2$ value of this model is almost **45%**. That's pretty good.\n",
    "\n",
    "The following table shows the correlation between columns. A couple features are **highly correlated** so lets remove those, and remove outliers and try again."
   ]
  },
  {
   "cell_type": "code",
   "execution_count": 657,
   "metadata": {},
   "outputs": [],
   "source": [
    "#rfe_df.corr()\n",
    "#print(rfe_df.corr().to_latex(index=False)) "
   ]
  },
  {
   "cell_type": "raw",
   "metadata": {},
   "source": [
    "\n",
    "\\begin{tabular}{rrrrrr}\n",
    "\\toprule\n",
    " Col\\_1170 &  Col\\_1190 &   Col\\_332 &  Col\\_1631 &   Col\\_958 &  Rate per 100,000 people \\\\\n",
    "\\midrule\n",
    " 1.000000 &  0.662406 &  0.784227 &  0.611573 &  0.541691 &                 0.704420 \\\\\n",
    " 0.662406 &  1.000000 &  0.761809 &  0.334436 &  0.342120 &                 0.684025 \\\\\n",
    " 0.784227 &  0.761809 &  1.000000 &  0.446778 &  0.419054 &                 0.657404 \\\\\n",
    " 0.611573 &  0.334436 &  0.446778 &  1.000000 &  0.644684 &                 0.630197 \\\\\n",
    " 0.541691 &  0.342120 &  0.419054 &  0.644684 &  1.000000 &                 0.618513 \\\\\n",
    " 0.704420 &  0.684025 &  0.657404 &  0.630197 &  0.618513 &                 1.000000 \\\\\n",
    "\\bottomrule\n",
    "\\end{tabular}\n"
   ]
  },
  {
   "cell_type": "code",
   "execution_count": 658,
   "metadata": {},
   "outputs": [],
   "source": [
    "# Remove column 964 and 330\n",
    "rfe_df.drop([\"Col_964\",\"Col_330\"], axis=1, inplace=True)"
   ]
  },
  {
   "cell_type": "code",
   "execution_count": 659,
   "metadata": {},
   "outputs": [],
   "source": [
    "# Remove outliers\n",
    "NewRfeDf = RemoveOutlierDF(rfe_df)"
   ]
  },
  {
   "cell_type": "code",
   "execution_count": 660,
   "metadata": {},
   "outputs": [
    {
     "name": "stdout",
     "output_type": "stream",
     "text": [
      "28 columns with outliers were removed.\n"
     ]
    }
   ],
   "source": [
    "print(f\"{rfe_df.shape[0] - NewRfeDf.shape[0]} columns with outliers were removed.\")"
   ]
  },
  {
   "cell_type": "code",
   "execution_count": 661,
   "metadata": {},
   "outputs": [
    {
     "data": {
      "text/plain": [
       "2.93"
      ]
     },
     "execution_count": 661,
     "metadata": {},
     "output_type": "execute_result"
    }
   ],
   "source": [
    "ReturnR2value(NewRfeDf)"
   ]
  },
  {
   "cell_type": "markdown",
   "metadata": {},
   "source": [
    "The $R^2$ has now dropped significantly to 2.93."
   ]
  },
  {
   "cell_type": "markdown",
   "metadata": {},
   "source": [
    "### P-value for Feature Reduction"
   ]
  },
  {
   "cell_type": "markdown",
   "metadata": {},
   "source": [
    "One way to select predictor variables is using the p-value. \n",
    "\n",
    "P-value gives us the probability of finding an observation assuming that a particular hypothesis is true. It's this probability that we use to decide whether to reject $H_o$, the Null hypothesis.\n",
    "We can use this to determine which features we can remove from the dataset. \n",
    "\n",
    "As we remove features this effects the p-values for each feature in the dataset. One by one we will remove a feature with a high value (non significant $p>0.5$) and recalculate the p-values.\n",
    "\n",
    "The following table shows the p-values for each predictor."
   ]
  },
  {
   "cell_type": "code",
   "execution_count": 662,
   "metadata": {},
   "outputs": [],
   "source": [
    "X = newNeighCovid[['Black%', 'ManufactJob', 'BachelorDegree', 'WorkNights', 'BothMaintHouse']]\n",
    "y = newNeighCovid['Rate']"
   ]
  },
  {
   "cell_type": "code",
   "execution_count": 663,
   "metadata": {},
   "outputs": [],
   "source": [
    "import statsmodels.api as sm\n",
    "OLS_regressor = sm.OLS(y,X)\n",
    "results_summary = OLS_regressor.fit().summary()\n",
    "dfRs = pd.DataFrame(results_summary.tables[1])\n",
    "#print(dfRs.to_latex(index=False)) "
   ]
  },
  {
   "cell_type": "raw",
   "metadata": {},
   "source": [
    "\n",
    "\\begin{tabular}{lllllll}\n",
    "\\toprule\n",
    "              0 &           1 &          2 &          3 &       4 &          5 &          6 \\\\\n",
    "\\midrule\n",
    "                &        coef &    std err &          t &   P>|t| &     [0.025 &     0.975] \\\\\n",
    "         Black\\% &     34.9662 &     11.486 &      3.044 &   0.003 &     12.228 &     57.704 \\\\\n",
    "    ManufactJob &    132.2317 &     38.480 &      3.436 &   0.001 &     56.057 &    208.406 \\\\\n",
    " BachelorDegree &      7.6066 &      8.356 &      0.910 &   \\textbf{0.364} &     -8.934 &     24.147 \\\\\n",
    "     WorkNights &     95.0617 &     28.633 &      3.320 &   0.001 &     38.379 &    151.744 \\\\\n",
    " BothMaintHouse &    -16.7414 &     16.746 &     -1.000 &   \\textbf{0.319} &    -49.892 &     16.409 \\\\\n",
    "\\bottomrule\n",
    "\\end{tabular}\n"
   ]
  },
  {
   "cell_type": "markdown",
   "metadata": {},
   "source": [
    "The p-values indicate that there are potentially two features that do not contribute to the model.\n",
    "Let's remove one at a time and check the results. Here's the values after one predictor is removed."
   ]
  },
  {
   "cell_type": "code",
   "execution_count": 664,
   "metadata": {},
   "outputs": [],
   "source": [
    "X = newNeighCovid[['Black%', 'ManufactJob', 'WorkNights', 'BothMaintHouse']]\n",
    "y = newNeighCovid['Rate']\n",
    "import statsmodels.api as sm\n",
    "OLS_regressor = sm.OLS(y,X)\n",
    "results_summary2 = OLS_regressor.fit().summary()\n",
    "dfRs2 = pd.DataFrame(results_summary2.tables[1])\n",
    "#print(dfRs2.to_latex(index=False)) "
   ]
  },
  {
   "cell_type": "raw",
   "metadata": {},
   "source": [
    "\n",
    "\\begin{tabular}{lllllll}\n",
    "\\toprule\n",
    "              0 &           1 &          2 &          3 &       4 &          5 &          6 \\\\\n",
    "\\midrule\n",
    "                &        coef &    std err &          t &   P>|t| &     [0.025 &     0.975] \\\\\n",
    "         Black\\% &     33.9600 &     11.425 &      2.972 &   0.004 &     11.345 &     56.575 \\\\\n",
    "    ManufactJob &    122.1344 &     36.821 &      3.317 &   0.001 &     49.249 &    195.019 \\\\\n",
    "     WorkNights &     94.1754 &     28.597 &      3.293 &   0.001 &     37.570 &    150.781 \\\\\n",
    " BothMaintHouse &     -3.8738 &      8.974 &     \\textbf{-0.432} &   0.667 &    -21.637 &     13.890 \\\\\n",
    "\\bottomrule\n",
    "\\end{tabular}\n"
   ]
  },
  {
   "cell_type": "markdown",
   "metadata": {},
   "source": [
    "Now there's only one feature left with a high p-value, let's remove it. Now we check the p-values and see that there are no insignificant values."
   ]
  },
  {
   "cell_type": "code",
   "execution_count": 665,
   "metadata": {},
   "outputs": [],
   "source": [
    "X = newNeighCovid[['Black%', 'ManufactJob', 'WorkNights']]\n",
    "y = newNeighCovid['Rate']\n",
    "import statsmodels.api as sm\n",
    "OLS_regressor = sm.OLS(y,X)\n",
    "results_summary3 = OLS_regressor.fit().summary()\n",
    "dfRs3 = pd.DataFrame(results_summary3.tables[1])\n",
    "#print(dfRs3.to_latex(index=False))"
   ]
  },
  {
   "cell_type": "raw",
   "metadata": {},
   "source": [
    "\n",
    "\\begin{tabular}{lllllll}\n",
    "\\toprule\n",
    "           0 &           1 &          2 &          3 &       4 &          5 &          6 \\\\\n",
    "\\midrule\n",
    "             &        coef &    std err &          t &   P>|t| &     [0.025 &     0.975] \\\\\n",
    "      Black\\% &     36.0324 &     10.333 &      3.487 &   0.001 &     15.580 &     56.484 \\\\\n",
    " ManufactJob &    126.8286 &     35.063 &      3.617 &   0.000 &     57.429 &    196.228 \\\\\n",
    "  WorkNights &     83.0461 &     12.330 &      6.735 &   0.000 &     58.641 &    107.452 \\\\\n",
    "\\bottomrule\n",
    "\\end{tabular}\n"
   ]
  },
  {
   "cell_type": "markdown",
   "metadata": {},
   "source": [
    "Now all our features are significant. Let's check the $R^2$ value and the MSE of the new model."
   ]
  },
  {
   "cell_type": "code",
   "execution_count": 745,
   "metadata": {},
   "outputs": [
    {
     "name": "stdout",
     "output_type": "stream",
     "text": [
      "The R-squared value is:       60.52 \n",
      "The Root MSE is:\t      413.42407505558594 \n",
      "The Intercept is:\t      1038.1824194302878\n"
     ]
    }
   ],
   "source": [
    "newestNeighCovid = newNeighCovid[['Black%', 'ManufactJob', 'WorkNights', 'Rate']]\n",
    "\n",
    "print(f\"The R-squared value is: \\\n",
    "      {ReturnR2value(newestNeighCovid,'R2')} \\nThe Root MSE is:\\t\\\n",
    "      {ReturnR2value(newestNeighCovid,'MSE')} \\nThe Intercept is:\\t\\\n",
    "      {ReturnR2value(newestNeighCovid,'Intercept')}\")    "
   ]
  },
  {
   "cell_type": "markdown",
   "metadata": {},
   "source": [
    "The new coefficients are:"
   ]
  },
  {
   "cell_type": "code",
   "execution_count": 832,
   "metadata": {},
   "outputs": [],
   "source": [
    "#print(ReturnR2value(newestNeighCovid, 'Coefficients').to_latex(index=True))"
   ]
  },
  {
   "cell_type": "raw",
   "metadata": {},
   "source": [
    "\n",
    "\\begin{tabular}{lr}\n",
    "\\toprule\n",
    "{} &  Coefficient \\\\\n",
    "\\midrule\n",
    "Black\\%      &   157.692253 \\\\\n",
    "ManufactJob &   140.833170 \\\\\n",
    "WorkNights  &   170.074059 \\\\\n",
    "\\bottomrule\n",
    "\\end{tabular}\n",
    "\n"
   ]
  },
  {
   "cell_type": "markdown",
   "metadata": {},
   "source": [
    "Great news, we have simplified the model and increased the $R^2$ value, in terms of a percent, to **over 60%**. \n",
    "\n",
    "This could be considered a very good $R^2$ value for a social sciences type of study as this one.$^{[6]}$\n",
    "\n",
    "Our final model is:\n",
    "\n",
    "_Rate = 1038 + 157.7 \\* Black% + 140.8 \\* ManufactJob + 170.1 \\* WorkNights_"
   ]
  },
  {
   "cell_type": "markdown",
   "metadata": {},
   "source": [
    "## Discussion"
   ]
  },
  {
   "cell_type": "markdown",
   "metadata": {},
   "source": [
    "This study used multiple linear regression to predict covid rates in Toronto's 140 neighborhoods using demographic data from Stats Canada. The data initially contained over 2,300 potential predictors. The correlation of these features to the target variable were analyzed in order to limit the number of potential predictors. Features which were highly correlated to each other were removed and an analysis of the p-values were done recursively to eliminate further predictors. Using the IQR method a few neighborhoods were removed that were considered outliers. The final model used only three variables to predict covid rates in the neighborhoods with an $R^2$ value of 0.605.\n",
    "\n",
    "Specifically these variables in the Stat Canada demographic database are know as \n",
    "*Black (Visible Minority)*, *Occupations in manufacturing and utilities*, \n",
    "and *Journey to work Between 12 p.m. and 4:59 a.m.*. It has been suggested that certain racialized communities are affected by covid for various reasons including a higher proportion with underlying health conditions such as hypertension, the increased likelihood of living in more densely populated neighborhoods, and the lower proportion that can work from home.$^{[3]}$\n",
    "\n",
    "Further research is warranted and could include a larger analysis of neighborhoods across Canada, or in other countries. A model such as the one built for this study could help to target resources where they are most needed, or to preemptively determine where the most severe outbreaks will occur in order to take preventative action. "
   ]
  },
  {
   "cell_type": "raw",
   "metadata": {},
   "source": [
    "\\newpage"
   ]
  },
  {
   "cell_type": "markdown",
   "metadata": {},
   "source": [
    "## References"
   ]
  },
  {
   "cell_type": "raw",
   "metadata": {},
   "source": [
    "\\begin{enumerate}\n",
    "\n",
    "\\item Www12.statcan.gc.ca. 2020. 2016 Census Of Population – Data Products. [online] Available at: <https:\\/\\/www12.statcan.gc.ca\\/census-recensement\\/2016\\/dp-pd\\/index-eng.cfm> [Accessed 22 November 2020]. \n",
    "\n",
    "\\item Open.toronto.ca. 2020. Homepage. [online] Available at: <https://open.toronto.ca/> [Accessed 22 November 2020].\n",
    "\n",
    "\\item Shah, M., Sachdeva, M. and Dodiuk-Gad, R.P., 2020. COVID-19 and racial disparities. Journal of the American Academy of Dermatology, 83(1), p.e35.\n",
    "\n",
    "\\item Teofilo, R.F., Martins, J.P.A. and Ferreira, M.M., 2009. Sorting variables by using informative vectors as a strategy for feature selection in multivariate regression. Journal of Chemometrics: A Journal of the Chemometrics Society, 23(1), pp.32-48.\n",
    "\n",
    "\\item Wikipedia. (n.d.). Linear Regression. Retrieved November 23, 2020, from https://en.wikipedia.org/wiki/Linear\\_regression\n",
    "\n",
    "\\item Grace-Martin, K., 2012. Can a Regression Model with a Small R-squared Be Useful?. The Analysis Factor.[siteerattu 29.10. 2016]. Saatavana World Wide Webistä:< URL: http://www.theanalysisfactor. com/small-rsquared.\n",
    "\n",
    "\\end{enumerate}"
   ]
  },
  {
   "cell_type": "raw",
   "metadata": {},
   "source": [
    "\\newpage"
   ]
  },
  {
   "cell_type": "markdown",
   "metadata": {},
   "source": [
    "## Appendix"
   ]
  },
  {
   "cell_type": "markdown",
   "metadata": {},
   "source": [
    "I noticed that the graph of Bachelor Degree vs. Rate appears to follow a 2nd degree polynomial. Linear regression assumes the relationship between the dependent and independent variables are linear, but sometimes the relationship is more complex. We need to generate a higher level equation. In this case the equation would be: \n",
    "\n",
    "$Y = \\beta_0 + \\beta_1x + \\beta_2x^2$\n",
    "\n",
    "This is still a linear model however we are now fitting a **quadratic** equation."
   ]
  },
  {
   "cell_type": "markdown",
   "metadata": {},
   "source": [
    "We must now use the PolynomialFeatures class provided by sklearn. We then train the model using Linear Regression.\n",
    "\n",
    "Let's check what the $R^2$ value would be if we just assume a linear relationship. It's **-22.51** which is not that good. It shows a moderately weak negative relationship between the independent and dependent variables."
   ]
  },
  {
   "cell_type": "code",
   "execution_count": 934,
   "metadata": {},
   "outputs": [
    {
     "data": {
      "text/plain": [
       "-22.51"
      ]
     },
     "execution_count": 934,
     "metadata": {},
     "output_type": "execute_result"
    }
   ],
   "source": [
    "ReturnR2value(NeighCovid[['BachelorDegree','Rate']])"
   ]
  },
  {
   "cell_type": "markdown",
   "metadata": {},
   "source": [
    "Now let's fit the pattern to a 2nd degree polynomial and check the $R^2$ value again."
   ]
  },
  {
   "cell_type": "code",
   "execution_count": 935,
   "metadata": {},
   "outputs": [
    {
     "name": "stdout",
     "output_type": "stream",
     "text": [
      "498.5250780689128\n",
      "0.5437237661821185\n"
     ]
    }
   ],
   "source": [
    "import operator\n",
    "\n",
    "from sklearn.linear_model import LinearRegression\n",
    "from sklearn.metrics import mean_squared_error, r2_score\n",
    "from sklearn.preprocessing import PolynomialFeatures\n",
    "\n",
    "dfPoly = NeighCovid[['BachelorDegree','Rate']]\n",
    "#dfPoly = RemoveOutlierDF(dfPoly)\n",
    "\n",
    "X = dfPoly[['BachelorDegree']]\n",
    "y = dfPoly['Rate']\n",
    "\n",
    "polynomial_features = PolynomialFeatures(degree=2)\n",
    "x_poly = polynomial_features.fit_transform(X)\n",
    "\n",
    "model = LinearRegression()\n",
    "model.fit(x_poly, y)\n",
    "y_poly_pred = model.predict(x_poly)\n",
    "\n",
    "rmse = np.sqrt(mean_squared_error(y,y_poly_pred))\n",
    "r2 = r2_score(y, y_poly_pred)\n",
    "print(rmse)\n",
    "print(r2)"
   ]
  },
  {
   "cell_type": "markdown",
   "metadata": {},
   "source": [
    "We can see that the $R^2$ value as a percent is now **54.4**. That is a large improvement.\n",
    "\n",
    "Let's visualize this relationship with a best fitting line."
   ]
  },
  {
   "cell_type": "code",
   "execution_count": 936,
   "metadata": {},
   "outputs": [
    {
     "data": {
      "text/plain": [
       "Text(0.5, 0, 'Percent with Bachelor Degrees')"
      ]
     },
     "execution_count": 936,
     "metadata": {},
     "output_type": "execute_result"
    },
    {
     "data": {
      "image/png": "[encoded data removed]",
      "text/plain": [
       "<Figure size 648x432 with 1 Axes>"
      ]
     },
     "metadata": {
      "needs_background": "light"
     },
     "output_type": "display_data"
    }
   ],
   "source": [
    "plt.figure(figsize=(9, 6))\n",
    "ax = sns.regplot(x=\"BachelorDegree\", y=\"Rate\", data=dfPoly,\n",
    "                 scatter_kws={\"s\": 80}, line_kws={\"color\": \"green\"},\n",
    "                 order=2, ci=None)\n",
    "\n",
    "plt.title(\"Percent of those with Bachelor Degrees in \\n\\\n",
    "Toronto Neighborhoods vs. Covid Rate per 100,000\", fontsize = 15)\n",
    "#plt.suptitle(\"with best fitting 2-degree polynomial line\")\n",
    "plt.ylabel(\"Rate per 100,000\", fontsize=13)\n",
    "plt.xlabel(\"Percent with Bachelor Degrees\", fontsize=13)"
   ]
  }
 ],
 "metadata": {
  "kernelspec": {
   "display_name": "gbc",
   "language": "python",
   "name": "gbc"
  },
  "language_info": {
   "codemirror_mode": {
    "name": "ipython",
    "version": 3
   },
   "file_extension": ".py",
   "mimetype": "text/x-python",
   "name": "python",
   "nbconvert_exporter": "python",
   "pygments_lexer": "ipython3",
   "version": "3.8.0"
  },
  "latex_envs": {
   "LaTeX_envs_menu_present": true,
   "autoclose": false,
   "autocomplete": true,
   "bibliofile": "biblio.bib",
   "cite_by": "apalike",
   "current_citInitial": 1,
   "eqLabelWithNumbers": true,
   "eqNumInitial": 1,
   "hotkeys": {
    "equation": "Ctrl-E",
    "itemize": "Ctrl-I"
   },
   "labels_anchors": false,
   "latex_user_defs": false,
   "report_style_numbering": false,
   "user_envs_cfg": false
  },
  "toc": {
   "base_numbering": 1,
   "nav_menu": {},
   "number_sections": false,
   "sideBar": true,
   "skip_h1_title": true,
   "title_cell": "Table of Contents",
   "title_sidebar": "Contents",
   "toc_cell": false,
   "toc_position": {
    "height": "calc(100% - 180px)",
    "left": "10px",
    "top": "150px",
    "width": "243.082px"
   },
   "toc_section_display": true,
   "toc_window_display": true
  }
 },
 "nbformat": 4,
 "nbformat_minor": 4
}
