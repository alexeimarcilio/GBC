{
 "cells": [
  {
   "cell_type": "code",
   "execution_count": 1,
   "metadata": {},
   "outputs": [],
   "source": [
    "def ReturnR2value(df, choice_str='R2'):\n",
    "    '''Accepts a dataframe returns R2 value, MSE, Intercept or Coefficients\n",
    "    Depending on Choice'''\n",
    "    # Author: Alexei Marcilio\n",
    "    # Date: Nov 20, 2020\n",
    "    # Ver 1.0\n",
    "    # We assume the last column is the target\n",
    "    X = df.iloc[:,0:-1]\n",
    "    y = df.iloc[:,-1]\n",
    "    # Scale and fit\n",
    "    sc = StandardScaler()\n",
    "    X = sc.fit_transform(X)\n",
    "    # Split data into train and test\n",
    "    from sklearn.model_selection import train_test_split\n",
    "    X_train, X_test, y_train, y_test = train_test_split(X, y, test_size = 0.3, random_state = 11)\n",
    "    # Create and train the model\n",
    "    from sklearn.linear_model import LinearRegression\n",
    "    #Create the model :\n",
    "    regressor = LinearRegression()\n",
    "    #Train the model :\n",
    "    regressor.fit(X_train, y_train)\n",
    "    # Predict\n",
    "    y_pred = regressor.predict(X_test)\n",
    "    from sklearn.metrics import mean_squared_error , r2_score\n",
    "    mse = mean_squared_error(y_test, y_pred)\n",
    "\n",
    "    # Root Mean Squared Error:\n",
    "    root_mse = np.sqrt(mse)\n",
    "    \n",
    "    coeff_X = pd.DataFrame(regressor.coef_, index=df.columns[:-1], columns=['Coefficient'])\n",
    "    \n",
    "    df_ActPred = pd.DataFrame({'Actual': y_test, 'Predicted': y_pred})\n",
    "    \n",
    "    #R_squared : \n",
    "    if choice_str == 'R2':\n",
    "        return round(r2_score(y_test, y_pred)*100,2)\n",
    "    elif choice_str == 'MSE':\n",
    "        return root_mse\n",
    "    elif choice_str == 'Intercept':\n",
    "        return regressor.intercept_\n",
    "    elif choice_str == 'Coefficients':\n",
    "        return coeff_X\n",
    "    elif choice_str == 'ActualVsPred':\n",
    "        return df_ActPred\n",
    "            "
   ]
  },
  {
   "cell_type": "code",
   "execution_count": 2,
   "metadata": {},
   "outputs": [],
   "source": [
    "def RemoveOutlierDF(df):\n",
    "    '''Accepts a dataframe returns a dataframe with all outliers based\n",
    "    on IQR removed'''\n",
    "    # Author: Alexei Marcilio\n",
    "    # Date: Nov 20, 2020\n",
    "    # Ver 1.0\n",
    "    # Function takes a dataframe and removes all outliers\n",
    "    # based in IQR\n",
    "    # returns a new df\n",
    "    from scipy import stats\n",
    "    # IQR\n",
    "    Q1 = df.quantile(0.25)\n",
    "    Q3 = df.quantile(0.75)\n",
    "    IQR = Q3 - Q1\n",
    "    return df[~((df < (Q1 - 1.5 * IQR)) |(df > (Q3 + 1.5 * IQR))).any(axis=1)]"
   ]
  },
  {
   "cell_type": "code",
   "execution_count": null,
   "metadata": {},
   "outputs": [],
   "source": []
  }
 ],
 "metadata": {
  "kernelspec": {
   "display_name": "gbc",
   "language": "python",
   "name": "gbc"
  },
  "language_info": {
   "codemirror_mode": {
    "name": "ipython",
    "version": 3
   },
   "file_extension": ".py",
   "mimetype": "text/x-python",
   "name": "python",
   "nbconvert_exporter": "python",
   "pygments_lexer": "ipython3",
   "version": "3.8.0"
  },
  "latex_envs": {
   "LaTeX_envs_menu_present": true,
   "autoclose": false,
   "autocomplete": true,
   "bibliofile": "biblio.bib",
   "cite_by": "apalike",
   "current_citInitial": 1,
   "eqLabelWithNumbers": true,
   "eqNumInitial": 1,
   "hotkeys": {
    "equation": "Ctrl-E",
    "itemize": "Ctrl-I"
   },
   "labels_anchors": false,
   "latex_user_defs": false,
   "report_style_numbering": false,
   "user_envs_cfg": false
  },
  "toc": {
   "base_numbering": 1,
   "nav_menu": {},
   "number_sections": false,
   "sideBar": true,
   "skip_h1_title": true,
   "title_cell": "Table of Contents",
   "title_sidebar": "Contents",
   "toc_cell": false,
   "toc_position": {},
   "toc_section_display": true,
   "toc_window_display": false
  }
 },
 "nbformat": 4,
 "nbformat_minor": 4
}
