{
 "cells": [
  {
   "cell_type": "raw",
   "metadata": {},
   "source": [
    "\\setcounter{secnumdepth}{0}\n",
    "\\title{Are Mutual Funds a Rip off?: A Comparison of the Returns of Mutual Funds vs. a Market Index Fund}\n",
    "\\author{Alexei Marcilio}\n",
    "\\date{\\today}\n",
    "\\maketitle\n",
    "\\thispagestyle{empty}\n",
    "\\newpage\n",
    "\\pagenumbering{arabic}"
   ]
  },
  {
   "cell_type": "markdown",
   "metadata": {},
   "source": [
    "## Executive Summary"
   ]
  },
  {
   "cell_type": "markdown",
   "metadata": {},
   "source": [
    "Mutual funds remain the most popular investment tools of Canadian investors despite the growth of passive index funds which simply mirror the returns of the market as a whole. This report aims to determine if mutual funds are a good investment by comparing the returns of US and Canadian Equity mutual funds to the market returns. Using python and the yahoo finance API the returns of all large Canadian based mutual funds were examined. It was found that a passive strategy of investing in the market **would beat 68%** of Canadian equity mutual funds and a whopping **89%** of Canadian based US equity mutual funds. Considering many failed mutual funds change their names or are dropped, and that chances are if you beat the market this decade you may not the next, the market indexes are an even better investment than shown by this study."
   ]
  },
  {
   "cell_type": "markdown",
   "metadata": {},
   "source": [
    "## Introduction"
   ]
  },
  {
   "cell_type": "markdown",
   "metadata": {},
   "source": [
    "Most Canadians investors are still invested in Mutual Funds despite a surge in the popularity of Exchange Traded Funds (ETFs). However many investment advisors consider mutual funds to be a bad investment due to certain factors such as the high expense ratios charged by many funds, hidden front-end and back-end load charges, the lack of control over investment decisions, and capital gains taxes being forced upon the fund holder.\n",
    "\n",
    "Warren Buffet, arguably the best investor of all time, famously said \"A low-cost index fund is the most sensible equity investment for the great majority of investors\". The purpose of this report is to determine if that statement is true by comparing the performance of mutual funds to the market index."
   ]
  },
  {
   "cell_type": "markdown",
   "metadata": {},
   "source": [
    "## Methods"
   ]
  },
  {
   "cell_type": "markdown",
   "metadata": {},
   "source": [
    "In order to compare mutual fund performance to the overall market we will do the following:\n",
    "\n",
    "1. Use python jupyter notebooks and the relevant data science libraries to analyze the relevant data.\n",
    "2. Download the symbol and name of every large Canadian and US Equity Mutual Fund.\n",
    "3. Use the yahoo finance API to bring in the adjusted close price of the stock from January 2010 and from today.\n",
    "5. Calculate the return of these funds and compare them to the returns of the TSX and S&P 500 which will represent the market in general.\n"
   ]
  },
  {
   "cell_type": "markdown",
   "metadata": {},
   "source": [
    "### Load the Relevant Libraries"
   ]
  },
  {
   "cell_type": "code",
   "execution_count": 378,
   "metadata": {},
   "outputs": [],
   "source": [
    "# Import libraries\n",
    "from pandas_datareader import data as wb\n",
    "import pandas as pd\n",
    "import matplotlib.pyplot as plt\n",
    "import seaborn as sns\n",
    "from datetime import datetime\n",
    "import numpy as np\n",
    "%matplotlib inline\n",
    "import warnings\n",
    "from scipy import stats\n",
    "warnings.filterwarnings('ignore')"
   ]
  },
  {
   "cell_type": "markdown",
   "metadata": {},
   "source": [
    "### Sourcing the Data"
   ]
  },
  {
   "cell_type": "markdown",
   "metadata": {},
   "source": [
    "We will use the yahoo mutual fund stock screener to find all Canadian mutual funds. The yahoo finance website has a fairly complete list of all mutual funds. We will use the yahoo mutual fund screener to select all mutual funds from Canada with over $1 billion in assets."
   ]
  },
  {
   "cell_type": "code",
   "execution_count": 231,
   "metadata": {},
   "outputs": [],
   "source": [
    "# Load the list of mutual funds\n",
    "dfMutualFund = pd.read_csv(\"data/AllMutualFunds.csv\")"
   ]
  },
  {
   "cell_type": "markdown",
   "metadata": {},
   "source": [
    "We have 2197 Canadian mutual funds. Let's look at the first 5 rows:"
   ]
  },
  {
   "cell_type": "code",
   "execution_count": 232,
   "metadata": {},
   "outputs": [
    {
     "data": {
      "text/html": [
       "<div>\n",
       "<style scoped>\n",
       "    .dataframe tbody tr th:only-of-type {\n",
       "        vertical-align: middle;\n",
       "    }\n",
       "\n",
       "    .dataframe tbody tr th {\n",
       "        vertical-align: top;\n",
       "    }\n",
       "\n",
       "    .dataframe thead th {\n",
       "        text-align: right;\n",
       "    }\n",
       "</style>\n",
       "<table border=\"1\" class=\"dataframe\">\n",
       "  <thead>\n",
       "    <tr style=\"text-align: right;\">\n",
       "      <th></th>\n",
       "      <th>Symbol</th>\n",
       "      <th>Name</th>\n",
       "      <th>Start</th>\n",
       "      <th>End</th>\n",
       "    </tr>\n",
       "  </thead>\n",
       "  <tbody>\n",
       "    <tr>\n",
       "      <th>0</th>\n",
       "      <td>0P00007049.TO</td>\n",
       "      <td>GWL Real Estate (GWLRA) DSC</td>\n",
       "      <td>205.972000</td>\n",
       "      <td>363.507996</td>\n",
       "    </tr>\n",
       "    <tr>\n",
       "      <th>1</th>\n",
       "      <td>0P0000705I.TO</td>\n",
       "      <td>RBC Premium Money Market Fund A</td>\n",
       "      <td>9.707913</td>\n",
       "      <td>10.000000</td>\n",
       "    </tr>\n",
       "    <tr>\n",
       "      <th>2</th>\n",
       "      <td>0P00007060.TO</td>\n",
       "      <td>RBC Canadian Money Market Fund A</td>\n",
       "      <td>9.752143</td>\n",
       "      <td>10.000000</td>\n",
       "    </tr>\n",
       "    <tr>\n",
       "      <th>3</th>\n",
       "      <td>0P00007062.TO</td>\n",
       "      <td>RBC Balanced Fund A</td>\n",
       "      <td>10.539207</td>\n",
       "      <td>15.302900</td>\n",
       "    </tr>\n",
       "    <tr>\n",
       "      <th>4</th>\n",
       "      <td>0P00007067.TO</td>\n",
       "      <td>RBC Select Conservative Portfolio A</td>\n",
       "      <td>17.017159</td>\n",
       "      <td>23.600401</td>\n",
       "    </tr>\n",
       "  </tbody>\n",
       "</table>\n",
       "</div>"
      ],
      "text/plain": [
       "          Symbol                                 Name       Start         End\n",
       "0  0P00007049.TO          GWL Real Estate (GWLRA) DSC  205.972000  363.507996\n",
       "1  0P0000705I.TO      RBC Premium Money Market Fund A    9.707913   10.000000\n",
       "2  0P00007060.TO     RBC Canadian Money Market Fund A    9.752143   10.000000\n",
       "3  0P00007062.TO                  RBC Balanced Fund A   10.539207   15.302900\n",
       "4  0P00007067.TO  RBC Select Conservative Portfolio A   17.017159   23.600401"
      ]
     },
     "execution_count": 232,
     "metadata": {},
     "output_type": "execute_result"
    }
   ],
   "source": [
    "dfMutualFund.head(5)"
   ]
  },
  {
   "cell_type": "markdown",
   "metadata": {},
   "source": [
    "### Clean the Data"
   ]
  },
  {
   "cell_type": "markdown",
   "metadata": {},
   "source": [
    "There are several things we have to do to make the data usable:\n",
    "\n",
    "1. Remove index funds and bond funds - we are only interested in comparing actively managed mutual funds to the market.\n",
    "2. Add columns for Start Price and End Price.\n",
    "3. Remove any duplicates and check for null values."
   ]
  },
  {
   "cell_type": "code",
   "execution_count": 233,
   "metadata": {},
   "outputs": [],
   "source": [
    "# Drop null values\n",
    "dfMutualFund.dropna(inplace=True)"
   ]
  },
  {
   "cell_type": "code",
   "execution_count": 234,
   "metadata": {},
   "outputs": [],
   "source": [
    "# Remove index funds as these simply mirror the market\n",
    "index_funds = [x for x in dfMutualFund['Name'] if 'Index' in x]\n",
    "# Remove bond funds as we are interested in only equity funds\n",
    "bond_funds = [x for x in dfMutualFund['Name'] if 'Bond' in x]\n",
    "# Remove European funds \n",
    "eu_funds = [x for x in dfMutualFund['Name'] if 'European' in x]\n",
    "# This deletes all records where the name is included in the index, bond or eu fund lists.\n",
    "dfMutualFund = dfMutualFund[~dfMutualFund['Name'].isin(index_funds)]\n",
    "dfMutualFund = dfMutualFund[~dfMutualFund['Name'].isin(bond_funds)]\n",
    "dfMutualFund = dfMutualFund[~dfMutualFund['Name'].isin(eu_funds)]"
   ]
  },
  {
   "cell_type": "code",
   "execution_count": 235,
   "metadata": {},
   "outputs": [],
   "source": [
    "# Let's also remove Real Estate Funds\n",
    "dfMutualFund = dfMutualFund[~dfMutualFund['Name'].str.contains(\"Real Estate\")] "
   ]
  },
  {
   "cell_type": "code",
   "execution_count": 236,
   "metadata": {},
   "outputs": [
    {
     "data": {
      "text/plain": [
       "(1918, 4)"
      ]
     },
     "execution_count": 236,
     "metadata": {},
     "output_type": "execute_result"
    }
   ],
   "source": [
    "# Check how many funds remain\n",
    "dfMutualFund.shape"
   ]
  },
  {
   "cell_type": "markdown",
   "metadata": {},
   "source": [
    "Let's add columns for Start and End price."
   ]
  },
  {
   "cell_type": "code",
   "execution_count": 54,
   "metadata": {},
   "outputs": [],
   "source": [
    "# Let us add columsn for the start price and end price\n",
    "dfMutualFund['Start'] = 0"
   ]
  },
  {
   "cell_type": "code",
   "execution_count": 55,
   "metadata": {},
   "outputs": [],
   "source": [
    "dfMutualFund['End'] = 0"
   ]
  },
  {
   "cell_type": "markdown",
   "metadata": {},
   "source": [
    "Let's add a row for the S&P/TSX Composite index. It's ticker is ^GSPTSE. We will also add a row for the S&P 500. It's ticker is ^GSPC."
   ]
  },
  {
   "cell_type": "code",
   "execution_count": 59,
   "metadata": {},
   "outputs": [],
   "source": [
    "# Add row for TSX to datarame\n",
    "dfMutualFund = dfMutualFund.append({'Symbol' : '^GSPTSE' , 'Name' : 'S&P/TSX Composite index',\n",
    "                             'Start': 0, 'End': 0} , ignore_index=True)"
   ]
  },
  {
   "cell_type": "code",
   "execution_count": 107,
   "metadata": {},
   "outputs": [],
   "source": [
    "dfMutualFund = dfMutualFund.append({'Symbol' : '^GSPC' , 'Name' : 'American S&P 500',\n",
    "                             'Start': 1132.989990, 'End': 3573.389893} , ignore_index=True)"
   ]
  },
  {
   "cell_type": "markdown",
   "metadata": {},
   "source": [
    "### API: Adjusted Close Price"
   ]
  },
  {
   "cell_type": "markdown",
   "metadata": {},
   "source": [
    "Now we can use Yahoo's API to update the start date and end date (today) adjusted close of the stock price for each ticker in our dataframe. The data will include the earliest recorded price in 2010 through to the most recent price, which would be today if the market is open. \n",
    "\n",
    "By slicing the data we can update the dataframe with only get the earliest and most recent price."
   ]
  },
  {
   "cell_type": "code",
   "execution_count": 163,
   "metadata": {},
   "outputs": [],
   "source": [
    "%%script false --no-raise-error\n",
    "# Cdn tickers\n",
    "cdn_tickers = CdnMutual['Symbol']\n",
    "# List to hold start stock value and end stock value\n",
    "startEndList = []\n",
    "\n",
    "# We loop through each symbol and find it's start and end value \n",
    "# then we update the CdnMutual dataframe with these values\n",
    "for t in cdn_tickers:\n",
    "    try:\n",
    "        startEndList = [wb.DataReader(t, data_source='yahoo', start='2010-1-1')['Adj Close'][0],\n",
    "                        wb.DataReader(t, data_source='yahoo', start='2010-1-1')['Adj Close'][-1]]\n",
    "        CdnMutual.loc[CdnMutual['Symbol'] == t, ['Start','End']] = startEndList\n",
    "        print(t)\n",
    "    except:\n",
    "        print('Symbol not found')"
   ]
  },
  {
   "cell_type": "markdown",
   "metadata": {},
   "source": [
    "We now have the adjusted close for the first trading day of the year and the most recent day for all our mutual funds."
   ]
  },
  {
   "cell_type": "code",
   "execution_count": 340,
   "metadata": {},
   "outputs": [
    {
     "data": {
      "text/html": [
       "<div>\n",
       "<style scoped>\n",
       "    .dataframe tbody tr th:only-of-type {\n",
       "        vertical-align: middle;\n",
       "    }\n",
       "\n",
       "    .dataframe tbody tr th {\n",
       "        vertical-align: top;\n",
       "    }\n",
       "\n",
       "    .dataframe thead th {\n",
       "        text-align: right;\n",
       "    }\n",
       "</style>\n",
       "<table border=\"1\" class=\"dataframe\">\n",
       "  <thead>\n",
       "    <tr style=\"text-align: right;\">\n",
       "      <th></th>\n",
       "      <th>Symbol</th>\n",
       "      <th>Name</th>\n",
       "      <th>Start</th>\n",
       "      <th>End</th>\n",
       "    </tr>\n",
       "  </thead>\n",
       "  <tbody>\n",
       "    <tr>\n",
       "      <th>1</th>\n",
       "      <td>0P0000705I.TO</td>\n",
       "      <td>RBC Premium Money Market Fund A</td>\n",
       "      <td>9.707913</td>\n",
       "      <td>10.000000</td>\n",
       "    </tr>\n",
       "    <tr>\n",
       "      <th>2</th>\n",
       "      <td>0P00007060.TO</td>\n",
       "      <td>RBC Canadian Money Market Fund A</td>\n",
       "      <td>9.752143</td>\n",
       "      <td>10.000000</td>\n",
       "    </tr>\n",
       "    <tr>\n",
       "      <th>3</th>\n",
       "      <td>0P00007062.TO</td>\n",
       "      <td>RBC Balanced Fund A</td>\n",
       "      <td>10.539207</td>\n",
       "      <td>15.302900</td>\n",
       "    </tr>\n",
       "    <tr>\n",
       "      <th>4</th>\n",
       "      <td>0P00007067.TO</td>\n",
       "      <td>RBC Select Conservative Portfolio A</td>\n",
       "      <td>17.017159</td>\n",
       "      <td>23.600401</td>\n",
       "    </tr>\n",
       "    <tr>\n",
       "      <th>5</th>\n",
       "      <td>0P00007069.TO</td>\n",
       "      <td>RBC Select Growth Portfolio A</td>\n",
       "      <td>19.531996</td>\n",
       "      <td>33.855701</td>\n",
       "    </tr>\n",
       "  </tbody>\n",
       "</table>\n",
       "</div>"
      ],
      "text/plain": [
       "          Symbol                                 Name      Start        End\n",
       "1  0P0000705I.TO      RBC Premium Money Market Fund A   9.707913  10.000000\n",
       "2  0P00007060.TO     RBC Canadian Money Market Fund A   9.752143  10.000000\n",
       "3  0P00007062.TO                  RBC Balanced Fund A  10.539207  15.302900\n",
       "4  0P00007067.TO  RBC Select Conservative Portfolio A  17.017159  23.600401\n",
       "5  0P00007069.TO        RBC Select Growth Portfolio A  19.531996  33.855701"
      ]
     },
     "execution_count": 340,
     "metadata": {},
     "output_type": "execute_result"
    }
   ],
   "source": [
    "dfMutualFund.head(5)"
   ]
  },
  {
   "cell_type": "markdown",
   "metadata": {},
   "source": [
    "### Separate US and Canadian Funds"
   ]
  },
  {
   "cell_type": "markdown",
   "metadata": {},
   "source": [
    "Our file contains data from all Canadian Equity based mutual funds. Some of these are U.S. Equity funds. These we need to compare to the S&P 500 so we will separate our dataframe into two dataframes, one for Canadian Equity, and the other for U.S. Equity."
   ]
  },
  {
   "cell_type": "code",
   "execution_count": 165,
   "metadata": {},
   "outputs": [],
   "source": [
    "# Split the Mutual Fund dataframe into two dataframes"
   ]
  },
  {
   "cell_type": "code",
   "execution_count": 240,
   "metadata": {},
   "outputs": [],
   "source": [
    "CdnMutual = dfMutualFund[~((dfMutualFund['Name'].str.contains(\"U.S.\")) | \n",
    "            (dfMutualFund['Name'].str.contains(\"American\")))]"
   ]
  },
  {
   "cell_type": "code",
   "execution_count": 241,
   "metadata": {},
   "outputs": [],
   "source": [
    "UsaMutual = dfMutualFund[((dfMutualFund['Name'].str.contains(\"U.S.\")) | \n",
    "            (dfMutualFund['Name'].str.contains(\"American\")))] "
   ]
  },
  {
   "cell_type": "markdown",
   "metadata": {},
   "source": [
    "## Results"
   ]
  },
  {
   "cell_type": "markdown",
   "metadata": {},
   "source": [
    "Let's add a column in the dataframe for simple return and one for how much $100,000 invested 10 years ago would be worth now. \n",
    "\n",
    "The direct method to calculate the return or the holding period return over a single period of any length of time is:\n",
    "\n",
    "${\\displaystyle R={\\frac {V_{f}-V_{i}}{V_{i}}}}$\n",
    "\n",
    "where\n",
    "\n",
    "$V_{f} = final\\  adjusted\\ close\\  value$<br>\n",
    "$V_{i} = initial\\  adjusted\\   close\\  value$\n",
    "\n"
   ]
  },
  {
   "cell_type": "code",
   "execution_count": 242,
   "metadata": {},
   "outputs": [],
   "source": [
    "# Calculate simple return for Canadian and US Mutual Funds\n",
    "CdnMutual['Return'] = (CdnMutual['End'] - CdnMutual['Start']) / CdnMutual['Start'];"
   ]
  },
  {
   "cell_type": "code",
   "execution_count": 243,
   "metadata": {},
   "outputs": [],
   "source": [
    "UsaMutual['Return'] = (UsaMutual['End'] - UsaMutual['Start']) / UsaMutual['Start'];"
   ]
  },
  {
   "cell_type": "code",
   "execution_count": 245,
   "metadata": {},
   "outputs": [],
   "source": [
    "# Calculate what $100,000 invested 10 years ago is now\n",
    "CdnMutual['WorthNow'] = 100_000 * (CdnMutual['Return'] + 1)"
   ]
  },
  {
   "cell_type": "code",
   "execution_count": 246,
   "metadata": {},
   "outputs": [],
   "source": [
    "UsaMutual['WorthNow'] = 100_000 * (UsaMutual['Return'] + 1)"
   ]
  },
  {
   "cell_type": "markdown",
   "metadata": {},
   "source": [
    "### Distributions of Returns"
   ]
  },
  {
   "cell_type": "markdown",
   "metadata": {},
   "source": [
    "Let's examine how the returns are distributed. First the Canadian Funds. We have to exclude the row for the market."
   ]
  },
  {
   "cell_type": "code",
   "execution_count": 280,
   "metadata": {},
   "outputs": [
    {
     "data": {
      "text/html": [
       "<div>\n",
       "<style scoped>\n",
       "    .dataframe tbody tr th:only-of-type {\n",
       "        vertical-align: middle;\n",
       "    }\n",
       "\n",
       "    .dataframe tbody tr th {\n",
       "        vertical-align: top;\n",
       "    }\n",
       "\n",
       "    .dataframe thead th {\n",
       "        text-align: right;\n",
       "    }\n",
       "</style>\n",
       "<table border=\"1\" class=\"dataframe\">\n",
       "  <thead>\n",
       "    <tr style=\"text-align: right;\">\n",
       "      <th></th>\n",
       "      <th>Start</th>\n",
       "      <th>End</th>\n",
       "      <th>Return</th>\n",
       "      <th>WorthNow</th>\n",
       "    </tr>\n",
       "  </thead>\n",
       "  <tbody>\n",
       "    <tr>\n",
       "      <th>count</th>\n",
       "      <td>1755.000000</td>\n",
       "      <td>1755.000000</td>\n",
       "      <td>1755.000000</td>\n",
       "      <td>1755.000000</td>\n",
       "    </tr>\n",
       "    <tr>\n",
       "      <th>mean</th>\n",
       "      <td>11.934245</td>\n",
       "      <td>16.947203</td>\n",
       "      <td>0.409346</td>\n",
       "      <td>140934.616277</td>\n",
       "    </tr>\n",
       "    <tr>\n",
       "      <th>std</th>\n",
       "      <td>7.315737</td>\n",
       "      <td>13.484618</td>\n",
       "      <td>0.696012</td>\n",
       "      <td>69601.186041</td>\n",
       "    </tr>\n",
       "    <tr>\n",
       "      <th>min</th>\n",
       "      <td>2.377569</td>\n",
       "      <td>1.888500</td>\n",
       "      <td>-0.383730</td>\n",
       "      <td>61626.970551</td>\n",
       "    </tr>\n",
       "    <tr>\n",
       "      <th>25%</th>\n",
       "      <td>9.373582</td>\n",
       "      <td>10.820000</td>\n",
       "      <td>0.058980</td>\n",
       "      <td>105898.018710</td>\n",
       "    </tr>\n",
       "    <tr>\n",
       "      <th>50%</th>\n",
       "      <td>9.903299</td>\n",
       "      <td>13.125500</td>\n",
       "      <td>0.200682</td>\n",
       "      <td>120068.216878</td>\n",
       "    </tr>\n",
       "    <tr>\n",
       "      <th>75%</th>\n",
       "      <td>12.706271</td>\n",
       "      <td>18.398000</td>\n",
       "      <td>0.518147</td>\n",
       "      <td>151814.712405</td>\n",
       "    </tr>\n",
       "    <tr>\n",
       "      <th>max</th>\n",
       "      <td>207.317993</td>\n",
       "      <td>227.949005</td>\n",
       "      <td>8.495355</td>\n",
       "      <td>949535.543779</td>\n",
       "    </tr>\n",
       "  </tbody>\n",
       "</table>\n",
       "</div>"
      ],
      "text/plain": [
       "             Start          End       Return       WorthNow\n",
       "count  1755.000000  1755.000000  1755.000000    1755.000000\n",
       "mean     11.934245    16.947203     0.409346  140934.616277\n",
       "std       7.315737    13.484618     0.696012   69601.186041\n",
       "min       2.377569     1.888500    -0.383730   61626.970551\n",
       "25%       9.373582    10.820000     0.058980  105898.018710\n",
       "50%       9.903299    13.125500     0.200682  120068.216878\n",
       "75%      12.706271    18.398000     0.518147  151814.712405\n",
       "max     207.317993   227.949005     8.495355  949535.543779"
      ]
     },
     "execution_count": 280,
     "metadata": {},
     "output_type": "execute_result"
    }
   ],
   "source": [
    "CdnMutual.iloc[0:-1,:].describe()"
   ]
  },
  {
   "cell_type": "markdown",
   "metadata": {},
   "source": [
    "The median is $120,068. The minimum is $61,626 and the top mutual fund returned $949,535 on a $100,000 initial investment."
   ]
  },
  {
   "cell_type": "markdown",
   "metadata": {},
   "source": [
    "Then the US Funds."
   ]
  },
  {
   "cell_type": "code",
   "execution_count": 283,
   "metadata": {},
   "outputs": [
    {
     "data": {
      "text/html": [
       "<div>\n",
       "<style scoped>\n",
       "    .dataframe tbody tr th:only-of-type {\n",
       "        vertical-align: middle;\n",
       "    }\n",
       "\n",
       "    .dataframe tbody tr th {\n",
       "        vertical-align: top;\n",
       "    }\n",
       "\n",
       "    .dataframe thead th {\n",
       "        text-align: right;\n",
       "    }\n",
       "</style>\n",
       "<table border=\"1\" class=\"dataframe\">\n",
       "  <thead>\n",
       "    <tr style=\"text-align: right;\">\n",
       "      <th></th>\n",
       "      <th>Start</th>\n",
       "      <th>End</th>\n",
       "      <th>Return</th>\n",
       "      <th>WorthNow</th>\n",
       "    </tr>\n",
       "  </thead>\n",
       "  <tbody>\n",
       "    <tr>\n",
       "      <th>count</th>\n",
       "      <td>161.000000</td>\n",
       "      <td>161.000000</td>\n",
       "      <td>161.000000</td>\n",
       "      <td>161.000000</td>\n",
       "    </tr>\n",
       "    <tr>\n",
       "      <th>mean</th>\n",
       "      <td>11.322376</td>\n",
       "      <td>23.213231</td>\n",
       "      <td>1.132285</td>\n",
       "      <td>213228.505297</td>\n",
       "    </tr>\n",
       "    <tr>\n",
       "      <th>std</th>\n",
       "      <td>4.733921</td>\n",
       "      <td>16.006162</td>\n",
       "      <td>1.174743</td>\n",
       "      <td>117474.281666</td>\n",
       "    </tr>\n",
       "    <tr>\n",
       "      <th>min</th>\n",
       "      <td>2.059160</td>\n",
       "      <td>8.458100</td>\n",
       "      <td>-0.037666</td>\n",
       "      <td>96233.362118</td>\n",
       "    </tr>\n",
       "    <tr>\n",
       "      <th>25%</th>\n",
       "      <td>9.295448</td>\n",
       "      <td>15.023900</td>\n",
       "      <td>0.413438</td>\n",
       "      <td>141343.839539</td>\n",
       "    </tr>\n",
       "    <tr>\n",
       "      <th>50%</th>\n",
       "      <td>9.938763</td>\n",
       "      <td>17.278799</td>\n",
       "      <td>0.669985</td>\n",
       "      <td>166998.505772</td>\n",
       "    </tr>\n",
       "    <tr>\n",
       "      <th>75%</th>\n",
       "      <td>13.277391</td>\n",
       "      <td>26.990000</td>\n",
       "      <td>1.646810</td>\n",
       "      <td>264680.965663</td>\n",
       "    </tr>\n",
       "    <tr>\n",
       "      <th>max</th>\n",
       "      <td>32.354919</td>\n",
       "      <td>134.813995</td>\n",
       "      <td>6.248730</td>\n",
       "      <td>724873.023644</td>\n",
       "    </tr>\n",
       "  </tbody>\n",
       "</table>\n",
       "</div>"
      ],
      "text/plain": [
       "            Start         End      Return       WorthNow\n",
       "count  161.000000  161.000000  161.000000     161.000000\n",
       "mean    11.322376   23.213231    1.132285  213228.505297\n",
       "std      4.733921   16.006162    1.174743  117474.281666\n",
       "min      2.059160    8.458100   -0.037666   96233.362118\n",
       "25%      9.295448   15.023900    0.413438  141343.839539\n",
       "50%      9.938763   17.278799    0.669985  166998.505772\n",
       "75%     13.277391   26.990000    1.646810  264680.965663\n",
       "max     32.354919  134.813995    6.248730  724873.023644"
      ]
     },
     "execution_count": 283,
     "metadata": {},
     "output_type": "execute_result"
    }
   ],
   "source": [
    "UsaMutual.iloc[0:-1,:].describe()"
   ]
  },
  {
   "cell_type": "markdown",
   "metadata": {},
   "source": [
    "The median is $166,998. The minimum is $96,233 and the top mutual fund returned $724,873 on a $100,000 initial investment."
   ]
  },
  {
   "cell_type": "markdown",
   "metadata": {},
   "source": [
    "How does this compare to the market itself?"
   ]
  },
  {
   "cell_type": "code",
   "execution_count": 356,
   "metadata": {},
   "outputs": [
    {
     "name": "stdout",
     "output_type": "stream",
     "text": [
      "If you invested $100,000 in the TSX ten years ago it would be worth $140,929 today.\n",
      "If the same amount was invested in the S&P500 it would be worth $315,395 today\n"
     ]
    }
   ],
   "source": [
    "print(f\"If you invested $100,000 in the TSX ten years ago it would be worth \\\n",
    "{'${:,.0f}'.format(CdnMutual.loc[CdnMutual['Symbol'] == '^GSPTSE', 'WorthNow'].values[0])} today.\")\n",
    "\n",
    "print(f\"If the same amount was invested in the S&P500 it would be worth \\\n",
    "{'${:,.0f}'.format(UsaMutual.loc[UsaMutual['Symbol'] == '^GSPC', 'WorthNow'].values[0])} today\")"
   ]
  },
  {
   "cell_type": "markdown",
   "metadata": {},
   "source": [
    "It is clear chances are you would be worse off by investing in a mutual fund compared to the market itself and this is especially true with the US Market. \n",
    "\n",
    "The market returns for the TSX are more than $20,000 more than the median value of mutual fund returns and the returns for the S&P500 are higher than 75% of US mutual funds."
   ]
  },
  {
   "cell_type": "markdown",
   "metadata": {},
   "source": [
    "### How do the Markets Compare?"
   ]
  },
  {
   "cell_type": "markdown",
   "metadata": {},
   "source": [
    "The following graphs show the distribution of returns for Canadian and US Mutual funds. \n",
    "\n",
    "**The red lines on the graphs** show the returns of the market as a whole. \n",
    "\n",
    "Both distributions are heavily skewed to the right, which means there are fewer funds that make more than the market."
   ]
  },
  {
   "cell_type": "code",
   "execution_count": 376,
   "metadata": {},
   "outputs": [
    {
     "data": {
      "image/png": "[encoded data removed]",
      "text/plain": [
       "<Figure size 360x360 with 1 Axes>"
      ]
     },
     "metadata": {
      "needs_background": "light"
     },
     "output_type": "display_data"
    }
   ],
   "source": [
    "p1 = sns.displot(data=CdnMutual['WorthNow'], height=5);\n",
    "plt.title(\"Distribution of Canadian MF Returns\");\n",
    "plt.xlabel(\"Current value of $100,000 invested 10 years ago\");\n",
    "plt.ylabel('Number of Mututal Funds')\n",
    "plt.axvline(140_929, color='red'); # Plot a vertical line at corresponding x"
   ]
  },
  {
   "cell_type": "code",
   "execution_count": 377,
   "metadata": {},
   "outputs": [
    {
     "data": {
      "image/png": "[encoded data removed]",
      "text/plain": [
       "<Figure size 360x360 with 1 Axes>"
      ]
     },
     "metadata": {
      "needs_background": "light"
     },
     "output_type": "display_data"
    }
   ],
   "source": [
    "sns.displot(data=UsaMutual['WorthNow'], height=5);\n",
    "plt.title(\"Distribution of American MF Returns\");\n",
    "plt.ylabel('Number of Mututal Funds')\n",
    "plt.xlabel(\"Current value of $100,000 invested 10 years ago\");\n",
    "plt.axvline(315_395, color='red'); # Plot a vertical line at corresponding x"
   ]
  },
  {
   "cell_type": "markdown",
   "metadata": {},
   "source": [
    "### Where does the Index Rank?"
   ]
  },
  {
   "cell_type": "markdown",
   "metadata": {},
   "source": [
    "Let's use Python's stats function to calculate the percentile of the markets themselves. In other words this will tell us how the market itself ranks compared to the mutual funds. "
   ]
  },
  {
   "cell_type": "code",
   "execution_count": 383,
   "metadata": {},
   "outputs": [
    {
     "data": {
      "text/plain": [
       "68.0"
      ]
     },
     "execution_count": 383,
     "metadata": {},
     "output_type": "execute_result"
    }
   ],
   "source": [
    "round(stats.percentileofscore(CdnMutual['WorthNow'], 140_929, kind='rank'),0)"
   ]
  },
  {
   "cell_type": "code",
   "execution_count": 384,
   "metadata": {},
   "outputs": [
    {
     "data": {
      "text/plain": [
       "89.0"
      ]
     },
     "execution_count": 384,
     "metadata": {},
     "output_type": "execute_result"
    }
   ],
   "source": [
    "round(stats.percentileofscore(UsaMutual['WorthNow'], 315_395, kind='rank'),0)"
   ]
  },
  {
   "cell_type": "markdown",
   "metadata": {},
   "source": [
    "We can see that if someone simply invested in the market index of the TSX they would beat the returns of 68% of Canadian Equity mutual funds over the last 10 years. \n",
    "\n",
    "If they invested in the index of the S&P 500 they would beat the returns of 89% of all US Equity mutual funds. "
   ]
  },
  {
   "cell_type": "markdown",
   "metadata": {},
   "source": [
    "## Conclusions"
   ]
  },
  {
   "cell_type": "markdown",
   "metadata": {},
   "source": [
    "A passive index fund of the TSX **beats 68%** of Canadian mutual funds that invest in the Canadian market. \n",
    "For Canadian Funds invested in US Equities the results are even more dramatic. A S&P Index Fund **beat 89%** of\n",
    "Canadian based US Equity funds.\n",
    "\n",
    "Losing Mutual funds are often pulled from the market. Also these results shown are over the last decade. If you do hold a mutual fund that beat the market in this time period, chances are it will not in the next decade. Therefore it's likely that mutual fund returns are even worse than this study showed. \n",
    "\n",
    "It seems that Warren Buffet was right when he said \"A low-cost index fund is the most sensible equity investment for the great majority of investors\". If you are invested in mutual funds you are often paying front and back end fees as well as high management expenses, odds are you would be much better off simply passively investing in the market."
   ]
  },
  {
   "cell_type": "code",
   "execution_count": null,
   "metadata": {},
   "outputs": [],
   "source": []
  }
 ],
 "metadata": {
  "kernelspec": {
   "display_name": "gbc",
   "language": "python",
   "name": "gbc"
  },
  "language_info": {
   "codemirror_mode": {
    "name": "ipython",
    "version": 3
   },
   "file_extension": ".py",
   "mimetype": "text/x-python",
   "name": "python",
   "nbconvert_exporter": "python",
   "pygments_lexer": "ipython3",
   "version": "3.8.0"
  },
  "latex_envs": {
   "LaTeX_envs_menu_present": true,
   "autoclose": false,
   "autocomplete": true,
   "bibliofile": "biblio.bib",
   "cite_by": "apalike",
   "current_citInitial": 1,
   "eqLabelWithNumbers": true,
   "eqNumInitial": 1,
   "hotkeys": {
    "equation": "Ctrl-E",
    "itemize": "Ctrl-I"
   },
   "labels_anchors": false,
   "latex_user_defs": false,
   "report_style_numbering": false,
   "user_envs_cfg": false
  },
  "toc": {
   "base_numbering": 1,
   "nav_menu": {},
   "number_sections": false,
   "sideBar": true,
   "skip_h1_title": true,
   "title_cell": "Table of Contents",
   "title_sidebar": "Contents",
   "toc_cell": false,
   "toc_position": {
    "height": "calc(100% - 180px)",
    "left": "10px",
    "top": "150px",
    "width": "254.276px"
   },
   "toc_section_display": true,
   "toc_window_display": true
  }
 },
 "nbformat": 4,
 "nbformat_minor": 4
}
