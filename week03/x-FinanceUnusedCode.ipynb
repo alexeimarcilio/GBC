{
 "cells": [
  {
   "cell_type": "code",
   "execution_count": null,
   "metadata": {},
   "outputs": [],
   "source": [
    "#%%script false --no-raise-error\n",
    "# To scrape the web page\n",
    "import ssl\n",
    "ssl._create_default_https_context = ssl._create_unverified_context\n",
    "\n",
    "# Create an empty dataframe to load the data\n",
    "url = 'https://ca.finance.yahoo.com/screener/unsaved/f9df231a-af85-46cf-b1fb-d3d98998e6b2?offset=0&count=100'\n",
    "df_list = pd.read_html(url)\n",
    "stock_df = df_list[0]\n",
    "stock_df = stock_df.head(0)\n",
    "\n",
    "# We create a url string for each page, loop through and append the dataframes to capture all the \n",
    "# stock information\n",
    "for offset in range(0,2400,100):\n",
    "    url_str = 'https://ca.finance.yahoo.com/screener/unsaved/f9df231a-af85-46cf-b1fb-d3d98998e6b2?offset=0&count=' + str(offset)\n",
    "    print(url_str)\n",
    "    #soup = BeautifulSoup(requests.get(url).text)\n",
    "    #df_list = pd.read_html(str(soup.find_all('table')[0]))\n",
    "    \n",
    "    df_list = pd.read_html(url_str)\n",
    "    stock_df = stock_df.append(df_list[0])"
   ]
  },
  {
   "cell_type": "code",
   "execution_count": 1,
   "metadata": {},
   "outputs": [
    {
     "ename": "NameError",
     "evalue": "name 'dfMutualFund' is not defined",
     "output_type": "error",
     "traceback": [
      "\u001b[0;31m---------------------------------------------------------------------------\u001b[0m",
      "\u001b[0;31mNameError\u001b[0m                                 Traceback (most recent call last)",
      "\u001b[0;32m<ipython-input-1-6bdbdfbca5b7>\u001b[0m in \u001b[0;36m<module>\u001b[0;34m\u001b[0m\n\u001b[1;32m      2\u001b[0m \u001b[0;31m# dfMutualFund.iloc[1934]['Name'] = 'American S&P 500'\u001b[0m\u001b[0;34m\u001b[0m\u001b[0;34m\u001b[0m\u001b[0;34m\u001b[0m\u001b[0m\n\u001b[1;32m      3\u001b[0m \u001b[0;34m\u001b[0m\u001b[0m\n\u001b[0;32m----> 4\u001b[0;31m \u001b[0mdfMutualFund\u001b[0m\u001b[0;34m.\u001b[0m\u001b[0mloc\u001b[0m\u001b[0;34m[\u001b[0m\u001b[0mdfMutualFund\u001b[0m\u001b[0;34m[\u001b[0m\u001b[0;34m'Name'\u001b[0m\u001b[0;34m]\u001b[0m \u001b[0;34m==\u001b[0m \u001b[0;34m'S&P 500'\u001b[0m\u001b[0;34m,\u001b[0m\u001b[0;34m'Name'\u001b[0m\u001b[0;34m]\u001b[0m \u001b[0;34m=\u001b[0m \u001b[0;34m'American S&P 500'\u001b[0m\u001b[0;34m\u001b[0m\u001b[0;34m\u001b[0m\u001b[0m\n\u001b[0m",
      "\u001b[0;31mNameError\u001b[0m: name 'dfMutualFund' is not defined"
     ]
    }
   ],
   "source": [
    "# Update a value in a dataframe\n",
    "# dfMutualFund.iloc[1934]['Name'] = 'American S&P 500'\n",
    "\n",
    "dfMutualFund.loc[dfMutualFund['Name'] == 'S&P 500','Name'] = 'American S&P 500'"
   ]
  },
  {
   "cell_type": "code",
   "execution_count": null,
   "metadata": {},
   "outputs": [],
   "source": [
    "# Write file to csv\n",
    "dfMutualFund.to_csv(\"data/AllMutualFunds.csv\", index=False)"
   ]
  }
 ],
 "metadata": {
  "kernelspec": {
   "display_name": "gbc",
   "language": "python",
   "name": "gbc"
  },
  "language_info": {
   "codemirror_mode": {
    "name": "ipython",
    "version": 3
   },
   "file_extension": ".py",
   "mimetype": "text/x-python",
   "name": "python",
   "nbconvert_exporter": "python",
   "pygments_lexer": "ipython3",
   "version": "3.8.0"
  },
  "latex_envs": {
   "LaTeX_envs_menu_present": true,
   "autoclose": false,
   "autocomplete": true,
   "bibliofile": "biblio.bib",
   "cite_by": "apalike",
   "current_citInitial": 1,
   "eqLabelWithNumbers": true,
   "eqNumInitial": 1,
   "hotkeys": {
    "equation": "Ctrl-E",
    "itemize": "Ctrl-I"
   },
   "labels_anchors": false,
   "latex_user_defs": false,
   "report_style_numbering": false,
   "user_envs_cfg": false
  },
  "toc": {
   "base_numbering": 1,
   "nav_menu": {},
   "number_sections": false,
   "sideBar": true,
   "skip_h1_title": true,
   "title_cell": "Table of Contents",
   "title_sidebar": "Contents",
   "toc_cell": false,
   "toc_position": {},
   "toc_section_display": true,
   "toc_window_display": false
  }
 },
 "nbformat": 4,
 "nbformat_minor": 4
}
